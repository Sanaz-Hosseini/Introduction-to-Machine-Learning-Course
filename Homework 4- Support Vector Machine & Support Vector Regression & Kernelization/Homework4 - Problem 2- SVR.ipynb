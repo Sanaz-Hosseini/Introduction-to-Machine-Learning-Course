{
 "cells": [
  {
   "cell_type": "code",
   "execution_count": null,
   "id": "91227200-86c0-41bb-9de8-9b6903e10e45",
   "metadata": {},
   "outputs": [],
   "source": [
    "# \"Sanaz Hosseini\"- University of North Carolina at Charlotte\n",
    "# Introduction to Machine Learning Class - Instructor: Prof. Hamed Tabkhi\n",
    "# Support Vector Machine, Support Vector Regression, & Kernelization\n",
    "# Homework 4"
   ]
  },
  {
   "cell_type": "code",
   "execution_count": 132,
   "id": "26828f2b-a271-4f0c-94f6-a67ce7c3bee5",
   "metadata": {},
   "outputs": [],
   "source": [
    "import numpy as np\n",
    "import pandas as pd\n",
    "import matplotlib.pyplot  as  plt\n",
    "from sklearn.svm import SVR\n",
    "from sklearn.model_selection import train_test_split\n",
    "from sklearn.decomposition import PCA\n",
    "import seaborn as sns\n",
    "from sklearn import metrics\n",
    "from sklearn.preprocessing import StandardScaler\n",
    "from sklearn.metrics import mean_squared_error"
   ]
  },
  {
   "cell_type": "code",
   "execution_count": 133,
   "id": "b9458162-2cd9-4640-8d6f-1988d0fe209b",
   "metadata": {},
   "outputs": [
    {
     "data": {
      "text/html": [
       "<div>\n",
       "<style scoped>\n",
       "    .dataframe tbody tr th:only-of-type {\n",
       "        vertical-align: middle;\n",
       "    }\n",
       "\n",
       "    .dataframe tbody tr th {\n",
       "        vertical-align: top;\n",
       "    }\n",
       "\n",
       "    .dataframe thead th {\n",
       "        text-align: right;\n",
       "    }\n",
       "</style>\n",
       "<table border=\"1\" class=\"dataframe\">\n",
       "  <thead>\n",
       "    <tr style=\"text-align: right;\">\n",
       "      <th></th>\n",
       "      <th>price</th>\n",
       "      <th>area</th>\n",
       "      <th>bedrooms</th>\n",
       "      <th>bathrooms</th>\n",
       "      <th>stories</th>\n",
       "      <th>mainroad</th>\n",
       "      <th>guestroom</th>\n",
       "      <th>basement</th>\n",
       "      <th>hotwaterheating</th>\n",
       "      <th>airconditioning</th>\n",
       "      <th>parking</th>\n",
       "      <th>prefarea</th>\n",
       "      <th>furnishingstatus</th>\n",
       "    </tr>\n",
       "  </thead>\n",
       "  <tbody>\n",
       "    <tr>\n",
       "      <th>0</th>\n",
       "      <td>13300000</td>\n",
       "      <td>7420</td>\n",
       "      <td>4</td>\n",
       "      <td>2</td>\n",
       "      <td>3</td>\n",
       "      <td>yes</td>\n",
       "      <td>no</td>\n",
       "      <td>no</td>\n",
       "      <td>no</td>\n",
       "      <td>yes</td>\n",
       "      <td>2</td>\n",
       "      <td>yes</td>\n",
       "      <td>furnished</td>\n",
       "    </tr>\n",
       "    <tr>\n",
       "      <th>1</th>\n",
       "      <td>12250000</td>\n",
       "      <td>8960</td>\n",
       "      <td>4</td>\n",
       "      <td>4</td>\n",
       "      <td>4</td>\n",
       "      <td>yes</td>\n",
       "      <td>no</td>\n",
       "      <td>no</td>\n",
       "      <td>no</td>\n",
       "      <td>yes</td>\n",
       "      <td>3</td>\n",
       "      <td>no</td>\n",
       "      <td>furnished</td>\n",
       "    </tr>\n",
       "    <tr>\n",
       "      <th>2</th>\n",
       "      <td>12250000</td>\n",
       "      <td>9960</td>\n",
       "      <td>3</td>\n",
       "      <td>2</td>\n",
       "      <td>2</td>\n",
       "      <td>yes</td>\n",
       "      <td>no</td>\n",
       "      <td>yes</td>\n",
       "      <td>no</td>\n",
       "      <td>no</td>\n",
       "      <td>2</td>\n",
       "      <td>yes</td>\n",
       "      <td>semi-furnished</td>\n",
       "    </tr>\n",
       "    <tr>\n",
       "      <th>3</th>\n",
       "      <td>12215000</td>\n",
       "      <td>7500</td>\n",
       "      <td>4</td>\n",
       "      <td>2</td>\n",
       "      <td>2</td>\n",
       "      <td>yes</td>\n",
       "      <td>no</td>\n",
       "      <td>yes</td>\n",
       "      <td>no</td>\n",
       "      <td>yes</td>\n",
       "      <td>3</td>\n",
       "      <td>yes</td>\n",
       "      <td>furnished</td>\n",
       "    </tr>\n",
       "    <tr>\n",
       "      <th>4</th>\n",
       "      <td>11410000</td>\n",
       "      <td>7420</td>\n",
       "      <td>4</td>\n",
       "      <td>1</td>\n",
       "      <td>2</td>\n",
       "      <td>yes</td>\n",
       "      <td>yes</td>\n",
       "      <td>yes</td>\n",
       "      <td>no</td>\n",
       "      <td>yes</td>\n",
       "      <td>2</td>\n",
       "      <td>no</td>\n",
       "      <td>furnished</td>\n",
       "    </tr>\n",
       "  </tbody>\n",
       "</table>\n",
       "</div>"
      ],
      "text/plain": [
       "      price  area  bedrooms  bathrooms  stories mainroad guestroom basement  \\\n",
       "0  13300000  7420         4          2        3      yes        no       no   \n",
       "1  12250000  8960         4          4        4      yes        no       no   \n",
       "2  12250000  9960         3          2        2      yes        no      yes   \n",
       "3  12215000  7500         4          2        2      yes        no      yes   \n",
       "4  11410000  7420         4          1        2      yes       yes      yes   \n",
       "\n",
       "  hotwaterheating airconditioning  parking prefarea furnishingstatus  \n",
       "0              no             yes        2      yes        furnished  \n",
       "1              no             yes        3       no        furnished  \n",
       "2              no              no        2      yes   semi-furnished  \n",
       "3              no             yes        3      yes        furnished  \n",
       "4              no             yes        2       no        furnished  "
      ]
     },
     "execution_count": 133,
     "metadata": {},
     "output_type": "execute_result"
    }
   ],
   "source": [
    "housing=pd.read_csv('Housing.csv')\n",
    "housing.head(5)"
   ]
  },
  {
   "cell_type": "code",
   "execution_count": 134,
   "id": "01476222-3c82-43d0-a179-a5fb7c8c9206",
   "metadata": {},
   "outputs": [
    {
     "data": {
      "text/html": [
       "<div>\n",
       "<style scoped>\n",
       "    .dataframe tbody tr th:only-of-type {\n",
       "        vertical-align: middle;\n",
       "    }\n",
       "\n",
       "    .dataframe tbody tr th {\n",
       "        vertical-align: top;\n",
       "    }\n",
       "\n",
       "    .dataframe thead th {\n",
       "        text-align: right;\n",
       "    }\n",
       "</style>\n",
       "<table border=\"1\" class=\"dataframe\">\n",
       "  <thead>\n",
       "    <tr style=\"text-align: right;\">\n",
       "      <th></th>\n",
       "      <th>price</th>\n",
       "      <th>area</th>\n",
       "      <th>bedrooms</th>\n",
       "      <th>bathrooms</th>\n",
       "      <th>stories</th>\n",
       "      <th>mainroad</th>\n",
       "      <th>guestroom</th>\n",
       "      <th>basement</th>\n",
       "      <th>hotwaterheating</th>\n",
       "      <th>airconditioning</th>\n",
       "      <th>parking</th>\n",
       "      <th>prefarea</th>\n",
       "      <th>furnishingstatus</th>\n",
       "    </tr>\n",
       "  </thead>\n",
       "  <tbody>\n",
       "    <tr>\n",
       "      <th>0</th>\n",
       "      <td>13300000</td>\n",
       "      <td>7420</td>\n",
       "      <td>4</td>\n",
       "      <td>2</td>\n",
       "      <td>3</td>\n",
       "      <td>1</td>\n",
       "      <td>0</td>\n",
       "      <td>0</td>\n",
       "      <td>0</td>\n",
       "      <td>1</td>\n",
       "      <td>2</td>\n",
       "      <td>1</td>\n",
       "      <td>furnished</td>\n",
       "    </tr>\n",
       "    <tr>\n",
       "      <th>1</th>\n",
       "      <td>12250000</td>\n",
       "      <td>8960</td>\n",
       "      <td>4</td>\n",
       "      <td>4</td>\n",
       "      <td>4</td>\n",
       "      <td>1</td>\n",
       "      <td>0</td>\n",
       "      <td>0</td>\n",
       "      <td>0</td>\n",
       "      <td>1</td>\n",
       "      <td>3</td>\n",
       "      <td>0</td>\n",
       "      <td>furnished</td>\n",
       "    </tr>\n",
       "    <tr>\n",
       "      <th>2</th>\n",
       "      <td>12250000</td>\n",
       "      <td>9960</td>\n",
       "      <td>3</td>\n",
       "      <td>2</td>\n",
       "      <td>2</td>\n",
       "      <td>1</td>\n",
       "      <td>0</td>\n",
       "      <td>1</td>\n",
       "      <td>0</td>\n",
       "      <td>0</td>\n",
       "      <td>2</td>\n",
       "      <td>1</td>\n",
       "      <td>semi-furnished</td>\n",
       "    </tr>\n",
       "    <tr>\n",
       "      <th>3</th>\n",
       "      <td>12215000</td>\n",
       "      <td>7500</td>\n",
       "      <td>4</td>\n",
       "      <td>2</td>\n",
       "      <td>2</td>\n",
       "      <td>1</td>\n",
       "      <td>0</td>\n",
       "      <td>1</td>\n",
       "      <td>0</td>\n",
       "      <td>1</td>\n",
       "      <td>3</td>\n",
       "      <td>1</td>\n",
       "      <td>furnished</td>\n",
       "    </tr>\n",
       "    <tr>\n",
       "      <th>4</th>\n",
       "      <td>11410000</td>\n",
       "      <td>7420</td>\n",
       "      <td>4</td>\n",
       "      <td>1</td>\n",
       "      <td>2</td>\n",
       "      <td>1</td>\n",
       "      <td>1</td>\n",
       "      <td>1</td>\n",
       "      <td>0</td>\n",
       "      <td>1</td>\n",
       "      <td>2</td>\n",
       "      <td>0</td>\n",
       "      <td>furnished</td>\n",
       "    </tr>\n",
       "  </tbody>\n",
       "</table>\n",
       "</div>"
      ],
      "text/plain": [
       "      price  area  bedrooms  bathrooms  stories  mainroad  guestroom  \\\n",
       "0  13300000  7420         4          2        3         1          0   \n",
       "1  12250000  8960         4          4        4         1          0   \n",
       "2  12250000  9960         3          2        2         1          0   \n",
       "3  12215000  7500         4          2        2         1          0   \n",
       "4  11410000  7420         4          1        2         1          1   \n",
       "\n",
       "   basement  hotwaterheating  airconditioning  parking  prefarea  \\\n",
       "0         0                0                1        2         1   \n",
       "1         0                0                1        3         0   \n",
       "2         1                0                0        2         1   \n",
       "3         1                0                1        3         1   \n",
       "4         1                0                1        2         0   \n",
       "\n",
       "  furnishingstatus  \n",
       "0        furnished  \n",
       "1        furnished  \n",
       "2   semi-furnished  \n",
       "3        furnished  \n",
       "4        furnished  "
      ]
     },
     "execution_count": 134,
     "metadata": {},
     "output_type": "execute_result"
    }
   ],
   "source": [
    "housing.mainroad = housing.mainroad.map(dict(yes=1,no=0))\n",
    "housing.guestroom = housing.guestroom.map(dict(yes=1,no=0))\n",
    "housing.basement = housing.basement.map(dict(yes=1,no=0))\n",
    "housing.hotwaterheating = housing.hotwaterheating.map(dict(yes=1,no=0))\n",
    "housing.airconditioning = housing.airconditioning.map(dict(yes=1,no=0))\n",
    "housing.prefarea = housing.prefarea.map(dict(yes=1,no=0))\n",
    "\n",
    "housing.head(5)"
   ]
  },
  {
   "cell_type": "code",
   "execution_count": 135,
   "id": "de97ab65-1daa-46b6-bf97-26740b8ee5f8",
   "metadata": {},
   "outputs": [
    {
     "data": {
      "text/plain": [
       "(545, 13)"
      ]
     },
     "execution_count": 135,
     "metadata": {},
     "output_type": "execute_result"
    }
   ],
   "source": [
    "housing.shape"
   ]
  },
  {
   "cell_type": "code",
   "execution_count": 136,
   "id": "c1c03d63-0d69-4b04-83a0-9fc3ab985630",
   "metadata": {},
   "outputs": [
    {
     "data": {
      "text/plain": [
       "(545, 11)"
      ]
     },
     "execution_count": 136,
     "metadata": {},
     "output_type": "execute_result"
    }
   ],
   "source": [
    "X = housing.iloc[:, 1:12].values\n",
    "X.shape"
   ]
  },
  {
   "cell_type": "code",
   "execution_count": 137,
   "id": "59fa7f71-78df-402d-a82c-4a1d70316e37",
   "metadata": {},
   "outputs": [
    {
     "data": {
      "text/plain": [
       "(545,)"
      ]
     },
     "execution_count": 137,
     "metadata": {},
     "output_type": "execute_result"
    }
   ],
   "source": [
    "Y = housing.iloc[:, 0].values\n",
    "Y.shape"
   ]
  },
  {
   "cell_type": "code",
   "execution_count": 138,
   "id": "e2cb6f14-2eba-4019-8fd3-8a7091bf05e3",
   "metadata": {},
   "outputs": [
    {
     "data": {
      "text/plain": [
       "(545, 1)"
      ]
     },
     "execution_count": 138,
     "metadata": {},
     "output_type": "execute_result"
    }
   ],
   "source": [
    "scaler = StandardScaler()\n",
    "X = scaler.fit_transform(X)\n",
    "Y =Y.reshape(-1,1)\n",
    "Y.shape"
   ]
  },
  {
   "cell_type": "code",
   "execution_count": 139,
   "id": "5b81e612-5e82-46db-a8d6-08053ba50c35",
   "metadata": {},
   "outputs": [
    {
     "data": {
      "text/plain": [
       "(545, 1)"
      ]
     },
     "execution_count": 139,
     "metadata": {},
     "output_type": "execute_result"
    }
   ],
   "source": [
    "Y_scaled= scaler.fit_transform(Y)\n",
    "Y_scaled.shape"
   ]
  },
  {
   "cell_type": "markdown",
   "id": "8f7655a2-3dde-44f1-8c16-f10b79021587",
   "metadata": {},
   "source": [
    "# Support Vector Machine, using \"rbf\" kernel and PCA:"
   ]
  },
  {
   "cell_type": "code",
   "execution_count": 150,
   "id": "914a364a-c0cc-4fad-80e3-a0becbbebf43",
   "metadata": {},
   "outputs": [
    {
     "name": "stdout",
     "output_type": "stream",
     "text": [
      "n_component = 1\n",
      "MSE: 0.37040277608000594\n",
      "\n",
      "\n",
      "n_component = 2\n",
      "MSE: 0.3594273329588866\n",
      "\n",
      "\n",
      "n_component = 3\n",
      "MSE: 0.32288754128708863\n",
      "\n",
      "\n",
      "n_component = 4\n",
      "MSE: 0.3164302646297005\n",
      "\n",
      "\n",
      "n_component = 5\n",
      "MSE: 0.32943023788456605\n",
      "\n",
      "\n",
      "n_component = 6\n",
      "MSE: 0.3258023269491626\n",
      "\n",
      "\n",
      "n_component = 7\n",
      "MSE: 0.32171772917773456\n",
      "\n",
      "\n",
      "n_component = 8\n",
      "MSE: 0.32767505835284194\n",
      "\n",
      "\n",
      "n_component = 9\n",
      "MSE: 0.34960168143027126\n",
      "\n",
      "\n",
      "n_component = 10\n",
      "MSE: 0.3499788045877954\n",
      "\n",
      "\n",
      "n_component = 11\n",
      "MSE: 0.348006436436167\n",
      "\n",
      "\n"
     ]
    }
   ],
   "source": [
    "MSE = np.zeros(12)\n",
    "\n",
    "for k in range(1,12):  \n",
    "    pca = PCA(n_components = k)\n",
    "    principalComponents = pca.fit_transform(X)\n",
    "    \n",
    "    X_train, X_test, Y_train, Y_test = train_test_split(principalComponents, Y_scaled, test_size = 0.2, random_state = 0)\n",
    "    \n",
    "    svr = SVR(kernel='rbf').fit(X_train, Y_train.ravel())\n",
    "    yfit = svr.predict(X_test)\n",
    "    score = svr.score(X_train, Y_train)\n",
    "    MSE[k] = mean_squared_error(Y_test, yfit)\n",
    "\n",
    "    #print(\"R_squared:\", score)\n",
    "    print (f\"n_component = {k}\")\n",
    "    print(\"MSE:\", MSE[k])\n",
    "    print(\"\\n\")"
   ]
  },
  {
   "cell_type": "code",
   "execution_count": 151,
   "id": "eabcccb6-9b8d-492a-a1ac-28afb253ef6b",
   "metadata": {},
   "outputs": [
    {
     "data": {
      "image/png": "[encoded data removed]",
      "text/plain": [
       "<Figure size 600x400 with 1 Axes>"
      ]
     },
     "metadata": {
      "needs_background": "light"
     },
     "output_type": "display_data"
    }
   ],
   "source": [
    "xaxis = range(1,13)\n",
    "fig = plt.figure(dpi=100)\n",
    "plt.ylim([0, 0.4])\n",
    "plt.title('Model Performance -\"rbf\" kernel', fontsize = 14, color = 'purple')\n",
    "plt.xlabel(\"Number of Principal Components (K)\", fontsize = 12)\n",
    "plt.ylabel(\"MSE Score\", fontsize = 12)\n",
    "plt.plot(xaxis, MSE, label=\"MSE Score\", color = 'orange') \n",
    "fig.legend(loc = \"lower right\")\n",
    "plt.grid()"
   ]
  },
  {
   "cell_type": "code",
   "execution_count": null,
   "id": "46dd9d24-484a-48de-b3dd-0e99754a35d8",
   "metadata": {},
   "outputs": [],
   "source": []
  },
  {
   "cell_type": "markdown",
   "id": "535ccb84-7b1c-4c56-9c26-c3edd11670d4",
   "metadata": {},
   "source": [
    "# Support Vector Machine, using \"linear\" kernel and PCA:"
   ]
  },
  {
   "cell_type": "code",
   "execution_count": 152,
   "id": "b3c55099-bf28-405b-8e13-9a98e68c2030",
   "metadata": {},
   "outputs": [
    {
     "name": "stdout",
     "output_type": "stream",
     "text": [
      "n_component = 1\n",
      "MSE: 0.28606110203017626\n",
      "\n",
      "\n",
      "n_component = 2\n",
      "MSE: 0.2807231707485942\n",
      "\n",
      "\n",
      "n_component = 3\n",
      "MSE: 0.27991312867077994\n",
      "\n",
      "\n",
      "n_component = 4\n",
      "MSE: 0.2792874543184126\n",
      "\n",
      "\n",
      "n_component = 5\n",
      "MSE: 0.28813713940166175\n",
      "\n",
      "\n",
      "n_component = 6\n",
      "MSE: 0.28975001030014125\n",
      "\n",
      "\n",
      "n_component = 7\n",
      "MSE: 0.30407870454167796\n",
      "\n",
      "\n",
      "n_component = 8\n",
      "MSE: 0.3012524586324776\n",
      "\n",
      "\n",
      "n_component = 9\n",
      "MSE: 0.2870638035450702\n",
      "\n",
      "\n",
      "n_component = 10\n",
      "MSE: 0.28772432580319446\n",
      "\n",
      "\n",
      "n_component = 11\n",
      "MSE: 0.27130339592234626\n",
      "\n",
      "\n"
     ]
    }
   ],
   "source": [
    "for k in range(1,12):  \n",
    "    pca = PCA(n_components = k)\n",
    "    principalComponents = pca.fit_transform(X)\n",
    "    \n",
    "    X_train, X_test, Y_train, Y_test = train_test_split(principalComponents, Y_scaled, test_size = 0.2, random_state = 0)\n",
    "    \n",
    "    svr = SVR(kernel='linear').fit(X_train, Y_train.ravel())\n",
    "    yfit = svr.predict(X_test)\n",
    "    score = svr.score(X_train, Y_train)\n",
    "    MSE[k] = mean_squared_error(Y_test, yfit)\n",
    "\n",
    "    #print(\"R_squared:\", score)\n",
    "    print (f\"n_component = {k}\")\n",
    "    print(\"MSE:\", MSE[k])\n",
    "    print(\"\\n\")"
   ]
  },
  {
   "cell_type": "code",
   "execution_count": 153,
   "id": "e72ed2bf-9f01-4081-a3f8-69b7c7e3284d",
   "metadata": {},
   "outputs": [
    {
     "data": {
      "image/png": "[encoded data removed]",
      "text/plain": [
       "<Figure size 600x400 with 1 Axes>"
      ]
     },
     "metadata": {
      "needs_background": "light"
     },
     "output_type": "display_data"
    }
   ],
   "source": [
    "xaxis = range(1,13)\n",
    "fig = plt.figure(dpi=100)\n",
    "plt.ylim([0, 0.4])\n",
    "plt.title('Model Performance -\"linear\" kernel', fontsize = 14, color = 'purple')\n",
    "plt.xlabel(\"Number of Principal Components (K)\", fontsize = 12)\n",
    "plt.ylabel(\"MSE Score\", fontsize = 12)\n",
    "plt.plot(xaxis, MSE, label=\"MSE Score\", color = 'orange') \n",
    "fig.legend(loc = \"lower right\")\n",
    "plt.grid()"
   ]
  },
  {
   "cell_type": "code",
   "execution_count": null,
   "id": "1c237ff1-1ae0-4d57-997f-7d7d9e55210c",
   "metadata": {},
   "outputs": [],
   "source": []
  },
  {
   "cell_type": "markdown",
   "id": "31791803-472f-499b-9ac0-d618db2b34ad",
   "metadata": {},
   "source": [
    "# Support Vector Machine, using \"sigmoid\" kernel and PCA:"
   ]
  },
  {
   "cell_type": "code",
   "execution_count": 154,
   "id": "01eb0b44-4221-4b6d-a025-faf7e132d6db",
   "metadata": {},
   "outputs": [
    {
     "name": "stdout",
     "output_type": "stream",
     "text": [
      "n_component = 1\n",
      "MSE: 341.1569136038755\n",
      "\n",
      "\n",
      "n_component = 2\n",
      "MSE: 108.87894281148957\n",
      "\n",
      "\n",
      "n_component = 3\n",
      "MSE: 41.429350566944265\n",
      "\n",
      "\n",
      "n_component = 4\n",
      "MSE: 21.704238575225794\n",
      "\n",
      "\n",
      "n_component = 5\n",
      "MSE: 20.496533039964493\n",
      "\n",
      "\n",
      "n_component = 6\n",
      "MSE: 14.16849405194977\n",
      "\n",
      "\n",
      "n_component = 7\n",
      "MSE: 8.532233065517875\n",
      "\n",
      "\n",
      "n_component = 8\n",
      "MSE: 5.215687694642826\n",
      "\n",
      "\n",
      "n_component = 9\n",
      "MSE: 4.299875330696719\n",
      "\n",
      "\n",
      "n_component = 10\n",
      "MSE: 3.1565236652600794\n",
      "\n",
      "\n",
      "n_component = 11\n",
      "MSE: 3.97067814115056\n",
      "\n",
      "\n"
     ]
    }
   ],
   "source": [
    "for k in range(1,12):  \n",
    "    pca = PCA(n_components = k)\n",
    "    principalComponents = pca.fit_transform(X)\n",
    "    \n",
    "    X_train, X_test, Y_train, Y_test = train_test_split(principalComponents, Y_scaled, test_size = 0.2, random_state = 0)\n",
    "    \n",
    "    svr = SVR(kernel='sigmoid').fit(X_train, Y_train.ravel())\n",
    "    yfit = svr.predict(X_test)\n",
    "    score = svr.score(X_train, Y_train)\n",
    "    MSE[k] = mean_squared_error(Y_test, yfit)\n",
    "\n",
    "    #print(\"R_squared:\", score)\n",
    "    print (f\"n_component = {k}\")\n",
    "    print(\"MSE:\", MSE[k])\n",
    "    print(\"\\n\")"
   ]
  },
  {
   "cell_type": "code",
   "execution_count": 155,
   "id": "05f17b76-f096-4885-88e3-829fc81f81b5",
   "metadata": {},
   "outputs": [
    {
     "data": {
      "image/png": "[encoded data removed]",
      "text/plain": [
       "<Figure size 600x400 with 1 Axes>"
      ]
     },
     "metadata": {
      "needs_background": "light"
     },
     "output_type": "display_data"
    }
   ],
   "source": [
    "xaxis = range(1,13)\n",
    "fig = plt.figure(dpi=100)\n",
    "plt.ylim([1, 400])\n",
    "plt.title('Model Performance -\"sigmoid\" kernel', fontsize = 14, color = 'purple')\n",
    "plt.xlabel(\"Number of Principal Components (K)\", fontsize = 12)\n",
    "plt.ylabel(\"MSE Score\", fontsize = 12)\n",
    "plt.plot(xaxis, MSE, label=\"MSE Score\", color = 'orange') \n",
    "fig.legend(loc = \"lower right\")\n",
    "plt.grid()"
   ]
  },
  {
   "cell_type": "code",
   "execution_count": null,
   "id": "69970cf0-2d16-4c6b-be56-58c49cdc4808",
   "metadata": {},
   "outputs": [],
   "source": []
  },
  {
   "cell_type": "markdown",
   "id": "027f0013-f787-4356-9b43-22cfad3b596f",
   "metadata": {},
   "source": [
    "# Support Vector Machine, using \"poly\" kernel and PCA:"
   ]
  },
  {
   "cell_type": "code",
   "execution_count": 156,
   "id": "908e02bf-16b6-40c7-b0dd-c1a21740f135",
   "metadata": {},
   "outputs": [
    {
     "name": "stdout",
     "output_type": "stream",
     "text": [
      "n_component = 1\n",
      "MSE: 0.8925037334984854\n",
      "\n",
      "\n",
      "n_component = 2\n",
      "MSE: 1.0402971597664878\n",
      "\n",
      "\n",
      "n_component = 3\n",
      "MSE: 0.8852541233746665\n",
      "\n",
      "\n",
      "n_component = 4\n",
      "MSE: 0.5732513385981153\n",
      "\n",
      "\n",
      "n_component = 5\n",
      "MSE: 1.2251585077908804\n",
      "\n",
      "\n",
      "n_component = 6\n",
      "MSE: 0.6917786055073335\n",
      "\n",
      "\n",
      "n_component = 7\n",
      "MSE: 0.6332464430613309\n",
      "\n",
      "\n",
      "n_component = 8\n",
      "MSE: 0.5187568048172696\n",
      "\n",
      "\n",
      "n_component = 9\n",
      "MSE: 0.8998315158675444\n",
      "\n",
      "\n",
      "n_component = 10\n",
      "MSE: 0.805327174381117\n",
      "\n",
      "\n",
      "n_component = 11\n",
      "MSE: 0.5273628043949761\n",
      "\n",
      "\n"
     ]
    }
   ],
   "source": [
    "for k in range(1,12):  \n",
    "    pca = PCA(n_components = k)\n",
    "    principalComponents = pca.fit_transform(X)\n",
    "    \n",
    "    X_train, X_test, Y_train, Y_test = train_test_split(principalComponents, Y_scaled, test_size = 0.2, random_state = 0)\n",
    "    \n",
    "    svr = SVR(kernel='poly').fit(X_train, Y_train.ravel())\n",
    "    yfit = svr.predict(X_test)\n",
    "    score = svr.score(X_train, Y_train)\n",
    "    MSE[k] = mean_squared_error(Y_test, yfit)\n",
    "\n",
    "    #print(\"R_squared:\", score)\n",
    "    print (f\"n_component = {k}\")\n",
    "    print(\"MSE:\", MSE[k])\n",
    "    print(\"\\n\")"
   ]
  },
  {
   "cell_type": "code",
   "execution_count": 157,
   "id": "f185e7ec-2a87-471d-84de-1186c291578a",
   "metadata": {},
   "outputs": [
    {
     "data": {
      "image/png": "[encoded data removed]",
      "text/plain": [
       "<Figure size 600x400 with 1 Axes>"
      ]
     },
     "metadata": {
      "needs_background": "light"
     },
     "output_type": "display_data"
    }
   ],
   "source": [
    "xaxis = range(1,13)\n",
    "fig = plt.figure(dpi=100)\n",
    "plt.ylim([0.3, 2])\n",
    "plt.title('Model Performance -\"poly\" kernel', fontsize = 14, color = 'purple')\n",
    "plt.xlabel(\"Number of Principal Components (K)\", fontsize = 12)\n",
    "plt.ylabel(\"MSE Score\", fontsize = 12)\n",
    "plt.plot(xaxis, MSE, label=\"MSE Score\", color = 'orange') \n",
    "fig.legend(loc = \"lower right\")\n",
    "plt.grid()"
   ]
  },
  {
   "cell_type": "code",
   "execution_count": null,
   "id": "5df4df3e-6f7c-42ae-aeb8-45e7178623af",
   "metadata": {},
   "outputs": [],
   "source": []
  },
  {
   "cell_type": "markdown",
   "id": "6866ee93-4d36-4e96-9422-959b6cfe9f4e",
   "metadata": {},
   "source": [
    "# Support Vector Machine, using \"precomputed\" kernel and PCA:"
   ]
  },
  {
   "cell_type": "code",
   "execution_count": 158,
   "id": "a1a86879-dbf3-4d27-954c-f35f550414f4",
   "metadata": {},
   "outputs": [
    {
     "name": "stdout",
     "output_type": "stream",
     "text": [
      "n_component = 1\n",
      "MSE: 0.28581090171434476\n",
      "\n",
      "\n",
      "n_component = 2\n",
      "MSE: 0.28072317074859077\n",
      "\n",
      "\n",
      "n_component = 3\n",
      "MSE: 0.2799689101146719\n",
      "\n",
      "\n",
      "n_component = 4\n",
      "MSE: 0.27928745431720237\n",
      "\n",
      "\n",
      "n_component = 5\n",
      "MSE: 0.28813713940167346\n",
      "\n",
      "\n",
      "n_component = 6\n",
      "MSE: 0.2897500103333584\n",
      "\n",
      "\n",
      "n_component = 7\n",
      "MSE: 0.3040787045418627\n",
      "\n",
      "\n",
      "n_component = 8\n",
      "MSE: 0.30125245863243044\n",
      "\n",
      "\n",
      "n_component = 9\n",
      "MSE: 0.2870638035450643\n",
      "\n",
      "\n",
      "n_component = 10\n",
      "MSE: 0.28772432580319146\n",
      "\n",
      "\n",
      "n_component = 11\n",
      "MSE: 0.2713033959223518\n",
      "\n",
      "\n"
     ]
    }
   ],
   "source": [
    "for k in range(1,12):  \n",
    "    pca = PCA(n_components = k)\n",
    "    principalComponents = pca.fit_transform(X)\n",
    "    \n",
    "    X_train, X_test, Y_train, Y_test = train_test_split(principalComponents, Y_scaled, test_size = 0.2, random_state = 0)\n",
    "    \n",
    "    kernel_train=np.dot(X_train, X_train.T)\n",
    "    svr = SVR(kernel='precomputed').fit(kernel_train, Y_train.ravel())\n",
    "    kernel_test=np.dot(X_test, X_train.T)   \n",
    "    yfit = svr.predict(kernel_test)\n",
    "\n",
    "    score = svr.score(kernel_train, Y_train)\n",
    "    MSE[k] = mean_squared_error(Y_test, yfit)    \n",
    "\n",
    "    #print(\"R_squared:\", score)\n",
    "    print (f\"n_component = {k}\")\n",
    "    print(\"MSE:\", MSE[k])\n",
    "    print(\"\\n\")"
   ]
  },
  {
   "cell_type": "code",
   "execution_count": 159,
   "id": "722927ad-dab9-4831-bf02-6425a2547ab1",
   "metadata": {},
   "outputs": [
    {
     "data": {
      "image/png": "[encoded data removed]",
      "text/plain": [
       "<Figure size 600x400 with 1 Axes>"
      ]
     },
     "metadata": {
      "needs_background": "light"
     },
     "output_type": "display_data"
    }
   ],
   "source": [
    "xaxis = range(1,13)\n",
    "fig = plt.figure(dpi=100)\n",
    "plt.ylim([0, 0.4])\n",
    "plt.title('Model Performance -\"precomputed\" kernel', fontsize = 14, color = 'purple')\n",
    "plt.xlabel(\"Number of Principal Components (K)\", fontsize = 12)\n",
    "plt.ylabel(\"MSE Score\", fontsize = 12)\n",
    "plt.plot(xaxis, MSE, label=\"MSE Score\", color = 'orange') \n",
    "fig.legend(loc = \"lower right\")\n",
    "plt.grid()"
   ]
  },
  {
   "cell_type": "code",
   "execution_count": null,
   "id": "8cacf89d-30e6-4de1-a304-16e7f63529b9",
   "metadata": {},
   "outputs": [],
   "source": []
  },
  {
   "cell_type": "markdown",
   "id": "671d932c-b240-4f89-9151-d5c00dc98eef",
   "metadata": {},
   "source": [
    "# Normal linear Regression form Homework 1:"
   ]
  },
  {
   "cell_type": "code",
   "execution_count": 129,
   "id": "da2d7fc6-575d-4510-b75b-48da9bfafc38",
   "metadata": {},
   "outputs": [
    {
     "name": "stdout",
     "output_type": "stream",
     "text": [
      "MSE: 0.2772509555876622\n",
      "\n",
      "\n"
     ]
    }
   ],
   "source": [
    "from sklearn.linear_model import LinearRegression\n",
    "\n",
    "X_train, X_test, Y_train, Y_test = train_test_split(X, Y_scaled, test_size = 0.2, random_state = 0)\n",
    "    \n",
    "model = LinearRegression()\n",
    "model.fit(X_train, Y_train.ravel())\n",
    "yfit = model.predict(X_test)\n",
    "score = model.score(X_train, Y_train)\n",
    "MSE[k] = mean_squared_error(Y_test, yfit)\n",
    "\n",
    "    \n",
    "    #print(\"R_squared:\", score)\n",
    "#print (f\"n_component = {k}\")\n",
    "print(\"MSE:\", MSE[k])\n",
    "print(\"\\n\")"
   ]
  }
 ],
 "metadata": {
  "kernelspec": {
   "display_name": "Python 3 (ipykernel)",
   "language": "python",
   "name": "python3"
  },
  "language_info": {
   "codemirror_mode": {
    "name": "ipython",
    "version": 3
   },
   "file_extension": ".py",
   "mimetype": "text/x-python",
   "name": "python",
   "nbconvert_exporter": "python",
   "pygments_lexer": "ipython3",
   "version": "3.9.12"
  }
 },
 "nbformat": 4,
 "nbformat_minor": 5
}

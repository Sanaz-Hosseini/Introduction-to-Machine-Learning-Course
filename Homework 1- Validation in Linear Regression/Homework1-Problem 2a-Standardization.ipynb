{
 "cells": [
  {
   "cell_type": "code",
   "execution_count": 1,
   "id": "585f00e2-86c3-4df5-ae03-c01924c41dd0",
   "metadata": {},
   "outputs": [],
   "source": [
    "import numpy as np"
   ]
  },
  {
   "cell_type": "code",
   "execution_count": 2,
   "id": "bbdc6e86-9894-48d9-a0d6-4901824ee63e",
   "metadata": {},
   "outputs": [],
   "source": [
    "import pandas as pd"
   ]
  },
  {
   "cell_type": "code",
   "execution_count": 3,
   "id": "871d872c-5bf9-45c2-9aac-e636aa2195c2",
   "metadata": {},
   "outputs": [],
   "source": [
    "import matplotlib.pyplot as plt\n",
    "import seaborn as sns"
   ]
  },
  {
   "cell_type": "code",
   "execution_count": 4,
   "id": "092d03d9-677a-408a-9ef7-6c8f2ae989d6",
   "metadata": {},
   "outputs": [],
   "source": [
    "df = pd.read_csv('Housing.csv')"
   ]
  },
  {
   "cell_type": "code",
   "execution_count": 5,
   "id": "fc636da2-d4a7-4809-b24c-f44849441058",
   "metadata": {},
   "outputs": [
    {
     "data": {
      "text/html": [
       "<div>\n",
       "<style scoped>\n",
       "    .dataframe tbody tr th:only-of-type {\n",
       "        vertical-align: middle;\n",
       "    }\n",
       "\n",
       "    .dataframe tbody tr th {\n",
       "        vertical-align: top;\n",
       "    }\n",
       "\n",
       "    .dataframe thead th {\n",
       "        text-align: right;\n",
       "    }\n",
       "</style>\n",
       "<table border=\"1\" class=\"dataframe\">\n",
       "  <thead>\n",
       "    <tr style=\"text-align: right;\">\n",
       "      <th></th>\n",
       "      <th>price</th>\n",
       "      <th>area</th>\n",
       "      <th>bedrooms</th>\n",
       "      <th>bathrooms</th>\n",
       "      <th>stories</th>\n",
       "      <th>mainroad</th>\n",
       "      <th>guestroom</th>\n",
       "      <th>basement</th>\n",
       "      <th>hotwaterheating</th>\n",
       "      <th>airconditioning</th>\n",
       "      <th>parking</th>\n",
       "      <th>prefarea</th>\n",
       "      <th>furnishingstatus</th>\n",
       "    </tr>\n",
       "  </thead>\n",
       "  <tbody>\n",
       "    <tr>\n",
       "      <th>0</th>\n",
       "      <td>13300000</td>\n",
       "      <td>7420</td>\n",
       "      <td>4</td>\n",
       "      <td>2</td>\n",
       "      <td>3</td>\n",
       "      <td>yes</td>\n",
       "      <td>no</td>\n",
       "      <td>no</td>\n",
       "      <td>no</td>\n",
       "      <td>yes</td>\n",
       "      <td>2</td>\n",
       "      <td>yes</td>\n",
       "      <td>furnished</td>\n",
       "    </tr>\n",
       "    <tr>\n",
       "      <th>1</th>\n",
       "      <td>12250000</td>\n",
       "      <td>8960</td>\n",
       "      <td>4</td>\n",
       "      <td>4</td>\n",
       "      <td>4</td>\n",
       "      <td>yes</td>\n",
       "      <td>no</td>\n",
       "      <td>no</td>\n",
       "      <td>no</td>\n",
       "      <td>yes</td>\n",
       "      <td>3</td>\n",
       "      <td>no</td>\n",
       "      <td>furnished</td>\n",
       "    </tr>\n",
       "    <tr>\n",
       "      <th>2</th>\n",
       "      <td>12250000</td>\n",
       "      <td>9960</td>\n",
       "      <td>3</td>\n",
       "      <td>2</td>\n",
       "      <td>2</td>\n",
       "      <td>yes</td>\n",
       "      <td>no</td>\n",
       "      <td>yes</td>\n",
       "      <td>no</td>\n",
       "      <td>no</td>\n",
       "      <td>2</td>\n",
       "      <td>yes</td>\n",
       "      <td>semi-furnished</td>\n",
       "    </tr>\n",
       "    <tr>\n",
       "      <th>3</th>\n",
       "      <td>12215000</td>\n",
       "      <td>7500</td>\n",
       "      <td>4</td>\n",
       "      <td>2</td>\n",
       "      <td>2</td>\n",
       "      <td>yes</td>\n",
       "      <td>no</td>\n",
       "      <td>yes</td>\n",
       "      <td>no</td>\n",
       "      <td>yes</td>\n",
       "      <td>3</td>\n",
       "      <td>yes</td>\n",
       "      <td>furnished</td>\n",
       "    </tr>\n",
       "    <tr>\n",
       "      <th>4</th>\n",
       "      <td>11410000</td>\n",
       "      <td>7420</td>\n",
       "      <td>4</td>\n",
       "      <td>1</td>\n",
       "      <td>2</td>\n",
       "      <td>yes</td>\n",
       "      <td>yes</td>\n",
       "      <td>yes</td>\n",
       "      <td>no</td>\n",
       "      <td>yes</td>\n",
       "      <td>2</td>\n",
       "      <td>no</td>\n",
       "      <td>furnished</td>\n",
       "    </tr>\n",
       "  </tbody>\n",
       "</table>\n",
       "</div>"
      ],
      "text/plain": [
       "      price  area  bedrooms  bathrooms  stories mainroad guestroom basement  \\\n",
       "0  13300000  7420         4          2        3      yes        no       no   \n",
       "1  12250000  8960         4          4        4      yes        no       no   \n",
       "2  12250000  9960         3          2        2      yes        no      yes   \n",
       "3  12215000  7500         4          2        2      yes        no      yes   \n",
       "4  11410000  7420         4          1        2      yes       yes      yes   \n",
       "\n",
       "  hotwaterheating airconditioning  parking prefarea furnishingstatus  \n",
       "0              no             yes        2      yes        furnished  \n",
       "1              no             yes        3       no        furnished  \n",
       "2              no              no        2      yes   semi-furnished  \n",
       "3              no             yes        3      yes        furnished  \n",
       "4              no             yes        2       no        furnished  "
      ]
     },
     "execution_count": 5,
     "metadata": {},
     "output_type": "execute_result"
    }
   ],
   "source": [
    "housing = df\n",
    "housing.head()"
   ]
  },
  {
   "cell_type": "code",
   "execution_count": 6,
   "id": "07888e11-697e-46b3-98ce-24bc746edc2f",
   "metadata": {},
   "outputs": [
    {
     "data": {
      "text/plain": [
       "545"
      ]
     },
     "execution_count": 6,
     "metadata": {},
     "output_type": "execute_result"
    }
   ],
   "source": [
    "m = len(housing)\n",
    "m"
   ]
  },
  {
   "cell_type": "code",
   "execution_count": 7,
   "id": "3a5a76d1-66f7-42a5-98fb-c7dbbab592af",
   "metadata": {},
   "outputs": [
    {
     "data": {
      "text/plain": [
       "(545, 13)"
      ]
     },
     "execution_count": 7,
     "metadata": {},
     "output_type": "execute_result"
    }
   ],
   "source": [
    "housing.shape"
   ]
  },
  {
   "cell_type": "code",
   "execution_count": 8,
   "id": "67d01346-b041-454a-a2e8-70af96d737c0",
   "metadata": {},
   "outputs": [
    {
     "data": {
      "text/plain": [
       "(436, 13)"
      ]
     },
     "execution_count": 8,
     "metadata": {},
     "output_type": "execute_result"
    }
   ],
   "source": [
    "from sklearn.model_selection import train_test_split\n",
    "\n",
    "np.random.seed(0)\n",
    "df_train, df_test = train_test_split(housing, train_size = 0.8, test_size = 0.2)\n",
    "df_train.shape"
   ]
  },
  {
   "cell_type": "code",
   "execution_count": 9,
   "id": "be66d613-77cb-4178-9120-a22a8adb5839",
   "metadata": {},
   "outputs": [
    {
     "data": {
      "text/plain": [
       "(109, 13)"
      ]
     },
     "execution_count": 9,
     "metadata": {},
     "output_type": "execute_result"
    }
   ],
   "source": [
    "df_test.shape"
   ]
  },
  {
   "cell_type": "code",
   "execution_count": 10,
   "id": "b0ce6528-d2c4-4956-b5ab-1a62deca007c",
   "metadata": {},
   "outputs": [
    {
     "data": {
      "text/html": [
       "<div>\n",
       "<style scoped>\n",
       "    .dataframe tbody tr th:only-of-type {\n",
       "        vertical-align: middle;\n",
       "    }\n",
       "\n",
       "    .dataframe tbody tr th {\n",
       "        vertical-align: top;\n",
       "    }\n",
       "\n",
       "    .dataframe thead th {\n",
       "        text-align: right;\n",
       "    }\n",
       "</style>\n",
       "<table border=\"1\" class=\"dataframe\">\n",
       "  <thead>\n",
       "    <tr style=\"text-align: right;\">\n",
       "      <th></th>\n",
       "      <th>area</th>\n",
       "      <th>bedrooms</th>\n",
       "      <th>bathrooms</th>\n",
       "      <th>stories</th>\n",
       "      <th>parking</th>\n",
       "      <th>price</th>\n",
       "    </tr>\n",
       "  </thead>\n",
       "  <tbody>\n",
       "    <tr>\n",
       "      <th>542</th>\n",
       "      <td>3620</td>\n",
       "      <td>2</td>\n",
       "      <td>1</td>\n",
       "      <td>1</td>\n",
       "      <td>0</td>\n",
       "      <td>1750000</td>\n",
       "    </tr>\n",
       "    <tr>\n",
       "      <th>496</th>\n",
       "      <td>4000</td>\n",
       "      <td>2</td>\n",
       "      <td>1</td>\n",
       "      <td>1</td>\n",
       "      <td>0</td>\n",
       "      <td>2695000</td>\n",
       "    </tr>\n",
       "    <tr>\n",
       "      <th>484</th>\n",
       "      <td>3040</td>\n",
       "      <td>2</td>\n",
       "      <td>1</td>\n",
       "      <td>1</td>\n",
       "      <td>0</td>\n",
       "      <td>2870000</td>\n",
       "    </tr>\n",
       "    <tr>\n",
       "      <th>507</th>\n",
       "      <td>3600</td>\n",
       "      <td>2</td>\n",
       "      <td>1</td>\n",
       "      <td>1</td>\n",
       "      <td>0</td>\n",
       "      <td>2590000</td>\n",
       "    </tr>\n",
       "    <tr>\n",
       "      <th>252</th>\n",
       "      <td>9860</td>\n",
       "      <td>3</td>\n",
       "      <td>1</td>\n",
       "      <td>1</td>\n",
       "      <td>0</td>\n",
       "      <td>4515000</td>\n",
       "    </tr>\n",
       "  </tbody>\n",
       "</table>\n",
       "</div>"
      ],
      "text/plain": [
       "     area  bedrooms  bathrooms  stories  parking    price\n",
       "542  3620         2          1        1        0  1750000\n",
       "496  4000         2          1        1        0  2695000\n",
       "484  3040         2          1        1        0  2870000\n",
       "507  3600         2          1        1        0  2590000\n",
       "252  9860         3          1        1        0  4515000"
      ]
     },
     "execution_count": 10,
     "metadata": {},
     "output_type": "execute_result"
    }
   ],
   "source": [
    "num_vars = ['area', 'bedrooms', 'bathrooms', 'stories', 'parking', 'price']\n",
    "df_newtrain = df_train[num_vars]\n",
    "df_newtest = df_test[num_vars]\n",
    "df_newtrain.head()"
   ]
  },
  {
   "cell_type": "code",
   "execution_count": 11,
   "id": "52d1eb3e-b97a-4019-85fb-02a7017f1f5c",
   "metadata": {},
   "outputs": [
    {
     "data": {
      "text/html": [
       "<div>\n",
       "<style scoped>\n",
       "    .dataframe tbody tr th:only-of-type {\n",
       "        vertical-align: middle;\n",
       "    }\n",
       "\n",
       "    .dataframe tbody tr th {\n",
       "        vertical-align: top;\n",
       "    }\n",
       "\n",
       "    .dataframe thead th {\n",
       "        text-align: right;\n",
       "    }\n",
       "</style>\n",
       "<table border=\"1\" class=\"dataframe\">\n",
       "  <thead>\n",
       "    <tr style=\"text-align: right;\">\n",
       "      <th></th>\n",
       "      <th>area</th>\n",
       "      <th>bedrooms</th>\n",
       "      <th>bathrooms</th>\n",
       "      <th>stories</th>\n",
       "      <th>parking</th>\n",
       "      <th>price</th>\n",
       "    </tr>\n",
       "  </thead>\n",
       "  <tbody>\n",
       "    <tr>\n",
       "      <th>239</th>\n",
       "      <td>4000</td>\n",
       "      <td>3</td>\n",
       "      <td>1</td>\n",
       "      <td>2</td>\n",
       "      <td>1</td>\n",
       "      <td>4585000</td>\n",
       "    </tr>\n",
       "    <tr>\n",
       "      <th>113</th>\n",
       "      <td>9620</td>\n",
       "      <td>3</td>\n",
       "      <td>1</td>\n",
       "      <td>1</td>\n",
       "      <td>2</td>\n",
       "      <td>6083000</td>\n",
       "    </tr>\n",
       "    <tr>\n",
       "      <th>325</th>\n",
       "      <td>3460</td>\n",
       "      <td>4</td>\n",
       "      <td>1</td>\n",
       "      <td>2</td>\n",
       "      <td>0</td>\n",
       "      <td>4007500</td>\n",
       "    </tr>\n",
       "    <tr>\n",
       "      <th>66</th>\n",
       "      <td>13200</td>\n",
       "      <td>2</td>\n",
       "      <td>1</td>\n",
       "      <td>1</td>\n",
       "      <td>1</td>\n",
       "      <td>6930000</td>\n",
       "    </tr>\n",
       "    <tr>\n",
       "      <th>479</th>\n",
       "      <td>3660</td>\n",
       "      <td>4</td>\n",
       "      <td>1</td>\n",
       "      <td>2</td>\n",
       "      <td>0</td>\n",
       "      <td>2940000</td>\n",
       "    </tr>\n",
       "  </tbody>\n",
       "</table>\n",
       "</div>"
      ],
      "text/plain": [
       "      area  bedrooms  bathrooms  stories  parking    price\n",
       "239   4000         3          1        2        1  4585000\n",
       "113   9620         3          1        1        2  6083000\n",
       "325   3460         4          1        2        0  4007500\n",
       "66   13200         2          1        1        1  6930000\n",
       "479   3660         4          1        2        0  2940000"
      ]
     },
     "execution_count": 11,
     "metadata": {},
     "output_type": "execute_result"
    }
   ],
   "source": [
    "df_newtest.head()"
   ]
  },
  {
   "cell_type": "code",
   "execution_count": 12,
   "id": "1dec5f78-9142-477b-861e-e0f003865f8f",
   "metadata": {},
   "outputs": [
    {
     "data": {
      "text/plain": [
       "(436, 6)"
      ]
     },
     "execution_count": 12,
     "metadata": {},
     "output_type": "execute_result"
    }
   ],
   "source": [
    "df_newtrain.shape"
   ]
  },
  {
   "cell_type": "code",
   "execution_count": 13,
   "id": "da5cc2cd-ac49-4ce1-8484-467bd8effcfa",
   "metadata": {},
   "outputs": [
    {
     "name": "stderr",
     "output_type": "stream",
     "text": [
      "C:\\Users\\Sanaz\\AppData\\Local\\Temp\\ipykernel_5564\\3222130785.py:4: SettingWithCopyWarning: \n",
      "A value is trying to be set on a copy of a slice from a DataFrame.\n",
      "Try using .loc[row_indexer,col_indexer] = value instead\n",
      "\n",
      "See the caveats in the documentation: https://pandas.pydata.org/pandas-docs/stable/user_guide/indexing.html#returning-a-view-versus-a-copy\n",
      "  df_newtrain[num_vars] = scaler.fit_transform(df_newtrain[num_vars])\n"
     ]
    },
    {
     "data": {
      "text/html": [
       "<div>\n",
       "<style scoped>\n",
       "    .dataframe tbody tr th:only-of-type {\n",
       "        vertical-align: middle;\n",
       "    }\n",
       "\n",
       "    .dataframe tbody tr th {\n",
       "        vertical-align: top;\n",
       "    }\n",
       "\n",
       "    .dataframe thead th {\n",
       "        text-align: right;\n",
       "    }\n",
       "</style>\n",
       "<table border=\"1\" class=\"dataframe\">\n",
       "  <thead>\n",
       "    <tr style=\"text-align: right;\">\n",
       "      <th></th>\n",
       "      <th>area</th>\n",
       "      <th>bedrooms</th>\n",
       "      <th>bathrooms</th>\n",
       "      <th>stories</th>\n",
       "      <th>parking</th>\n",
       "      <th>price</th>\n",
       "    </tr>\n",
       "  </thead>\n",
       "  <tbody>\n",
       "    <tr>\n",
       "      <th>542</th>\n",
       "      <td>-0.716772</td>\n",
       "      <td>-1.294376</td>\n",
       "      <td>-0.573307</td>\n",
       "      <td>-0.933142</td>\n",
       "      <td>-0.819149</td>\n",
       "      <td>-1.586001</td>\n",
       "    </tr>\n",
       "    <tr>\n",
       "      <th>496</th>\n",
       "      <td>-0.538936</td>\n",
       "      <td>-1.294376</td>\n",
       "      <td>-0.573307</td>\n",
       "      <td>-0.933142</td>\n",
       "      <td>-0.819149</td>\n",
       "      <td>-1.090971</td>\n",
       "    </tr>\n",
       "    <tr>\n",
       "      <th>484</th>\n",
       "      <td>-0.988206</td>\n",
       "      <td>-1.294376</td>\n",
       "      <td>-0.573307</td>\n",
       "      <td>-0.933142</td>\n",
       "      <td>-0.819149</td>\n",
       "      <td>-0.999299</td>\n",
       "    </tr>\n",
       "    <tr>\n",
       "      <th>507</th>\n",
       "      <td>-0.726132</td>\n",
       "      <td>-1.294376</td>\n",
       "      <td>-0.573307</td>\n",
       "      <td>-0.933142</td>\n",
       "      <td>-0.819149</td>\n",
       "      <td>-1.145974</td>\n",
       "    </tr>\n",
       "    <tr>\n",
       "      <th>252</th>\n",
       "      <td>2.203478</td>\n",
       "      <td>0.052516</td>\n",
       "      <td>-0.573307</td>\n",
       "      <td>-0.933142</td>\n",
       "      <td>-0.819149</td>\n",
       "      <td>-0.137579</td>\n",
       "    </tr>\n",
       "  </tbody>\n",
       "</table>\n",
       "</div>"
      ],
      "text/plain": [
       "         area  bedrooms  bathrooms   stories   parking     price\n",
       "542 -0.716772 -1.294376  -0.573307 -0.933142 -0.819149 -1.586001\n",
       "496 -0.538936 -1.294376  -0.573307 -0.933142 -0.819149 -1.090971\n",
       "484 -0.988206 -1.294376  -0.573307 -0.933142 -0.819149 -0.999299\n",
       "507 -0.726132 -1.294376  -0.573307 -0.933142 -0.819149 -1.145974\n",
       "252  2.203478  0.052516  -0.573307 -0.933142 -0.819149 -0.137579"
      ]
     },
     "execution_count": 13,
     "metadata": {},
     "output_type": "execute_result"
    }
   ],
   "source": [
    "from sklearn.preprocessing import MinMaxScaler, StandardScaler\n",
    "\n",
    "scaler = StandardScaler()\n",
    "df_newtrain[num_vars] = scaler.fit_transform(df_newtrain[num_vars])\n",
    "df_newtrain.head()"
   ]
  },
  {
   "cell_type": "code",
   "execution_count": 14,
   "id": "1a2f6948-9683-43fe-ad50-779ee820ca24",
   "metadata": {},
   "outputs": [
    {
     "name": "stderr",
     "output_type": "stream",
     "text": [
      "C:\\Users\\Sanaz\\AppData\\Local\\Temp\\ipykernel_5564\\3137508404.py:2: SettingWithCopyWarning: \n",
      "A value is trying to be set on a copy of a slice from a DataFrame.\n",
      "Try using .loc[row_indexer,col_indexer] = value instead\n",
      "\n",
      "See the caveats in the documentation: https://pandas.pydata.org/pandas-docs/stable/user_guide/indexing.html#returning-a-view-versus-a-copy\n",
      "  df_newtest[num_vars] = scaler.fit_transform(df_newtest[num_vars])\n"
     ]
    },
    {
     "data": {
      "text/html": [
       "<div>\n",
       "<style scoped>\n",
       "    .dataframe tbody tr th:only-of-type {\n",
       "        vertical-align: middle;\n",
       "    }\n",
       "\n",
       "    .dataframe tbody tr th {\n",
       "        vertical-align: top;\n",
       "    }\n",
       "\n",
       "    .dataframe thead th {\n",
       "        text-align: right;\n",
       "    }\n",
       "</style>\n",
       "<table border=\"1\" class=\"dataframe\">\n",
       "  <thead>\n",
       "    <tr style=\"text-align: right;\">\n",
       "      <th></th>\n",
       "      <th>area</th>\n",
       "      <th>bedrooms</th>\n",
       "      <th>bathrooms</th>\n",
       "      <th>stories</th>\n",
       "      <th>parking</th>\n",
       "      <th>price</th>\n",
       "    </tr>\n",
       "  </thead>\n",
       "  <tbody>\n",
       "    <tr>\n",
       "      <th>239</th>\n",
       "      <td>-0.500735</td>\n",
       "      <td>0.025607</td>\n",
       "      <td>-0.563545</td>\n",
       "      <td>0.272416</td>\n",
       "      <td>0.492144</td>\n",
       "      <td>-0.081358</td>\n",
       "    </tr>\n",
       "    <tr>\n",
       "      <th>113</th>\n",
       "      <td>1.954229</td>\n",
       "      <td>0.025607</td>\n",
       "      <td>-0.563545</td>\n",
       "      <td>-0.915317</td>\n",
       "      <td>1.739673</td>\n",
       "      <td>0.801114</td>\n",
       "    </tr>\n",
       "    <tr>\n",
       "      <th>325</th>\n",
       "      <td>-0.736621</td>\n",
       "      <td>1.421209</td>\n",
       "      <td>-0.563545</td>\n",
       "      <td>0.272416</td>\n",
       "      <td>-0.755384</td>\n",
       "      <td>-0.421563</td>\n",
       "    </tr>\n",
       "    <tr>\n",
       "      <th>66</th>\n",
       "      <td>3.518067</td>\n",
       "      <td>-1.369995</td>\n",
       "      <td>-0.563545</td>\n",
       "      <td>-0.915317</td>\n",
       "      <td>0.492144</td>\n",
       "      <td>1.300082</td>\n",
       "    </tr>\n",
       "    <tr>\n",
       "      <th>479</th>\n",
       "      <td>-0.649256</td>\n",
       "      <td>1.421209</td>\n",
       "      <td>-0.563545</td>\n",
       "      <td>0.272416</td>\n",
       "      <td>-0.755384</td>\n",
       "      <td>-1.050428</td>\n",
       "    </tr>\n",
       "  </tbody>\n",
       "</table>\n",
       "</div>"
      ],
      "text/plain": [
       "         area  bedrooms  bathrooms   stories   parking     price\n",
       "239 -0.500735  0.025607  -0.563545  0.272416  0.492144 -0.081358\n",
       "113  1.954229  0.025607  -0.563545 -0.915317  1.739673  0.801114\n",
       "325 -0.736621  1.421209  -0.563545  0.272416 -0.755384 -0.421563\n",
       "66   3.518067 -1.369995  -0.563545 -0.915317  0.492144  1.300082\n",
       "479 -0.649256  1.421209  -0.563545  0.272416 -0.755384 -1.050428"
      ]
     },
     "execution_count": 14,
     "metadata": {},
     "output_type": "execute_result"
    }
   ],
   "source": [
    "scaler = StandardScaler()\n",
    "df_newtest[num_vars] = scaler.fit_transform(df_newtest[num_vars])\n",
    "df_newtest.head()"
   ]
  },
  {
   "cell_type": "code",
   "execution_count": 15,
   "id": "fcb82873-7385-4e79-a29c-f29c2d7d6d0b",
   "metadata": {},
   "outputs": [],
   "source": [
    "y_test = df_newtest.pop('price')\n",
    "x_test = df_newtest.copy()\n",
    "\n",
    "y_train = df_newtrain.pop('price')\n",
    "x_train = df_newtrain.copy()"
   ]
  },
  {
   "cell_type": "code",
   "execution_count": 16,
   "id": "936fc042-116b-4ade-858d-91b1960257f9",
   "metadata": {},
   "outputs": [
    {
     "name": "stdout",
     "output_type": "stream",
     "text": [
      "x = [-0.71677205 -0.53893631 -0.98820554 -0.72613182  2.20347795 -0.55391195\n",
      " -0.61381451  2.17539862 -0.70741227 -0.76357092]\n",
      "y = [-1.5860012  -1.09097091 -0.99929863 -1.14597428 -0.13757923 -0.1925826\n",
      " -0.10091032  0.24744433 -0.63260953 -0.59594061]\n",
      "m = 436\n"
     ]
    },
    {
     "data": {
      "text/plain": [
       "436"
      ]
     },
     "execution_count": 16,
     "metadata": {},
     "output_type": "execute_result"
    }
   ],
   "source": [
    "x1 = x_train.values[:, 0]\n",
    "x2 = x_train.values[:, 1]\n",
    "x3 = x_train.values[:, 2]\n",
    "x4 = x_train.values[:, 3]\n",
    "x5 = x_train.values[:, 4]\n",
    "y = y_train.values\n",
    "m = len(y)\n",
    "print('x =', x1[: 10])\n",
    "print('y =', y[: 10])\n",
    "print('m =', m)\n",
    "len(x1)"
   ]
  },
  {
   "cell_type": "code",
   "execution_count": 17,
   "id": "34431bc6-5346-4639-a414-b42de727f51f",
   "metadata": {},
   "outputs": [
    {
     "name": "stdout",
     "output_type": "stream",
     "text": [
      "x = [-0.50073521  1.95422869 -0.73662142  3.5180669  -0.64925616  0.52580664\n",
      " -0.56625916 -0.72788489 -0.71390645  1.68339637]\n",
      "y = [-0.08135801  0.80111439 -0.42156349  1.30008243 -1.05042817  0.86709364\n",
      " -0.69991343 -1.05042817 -0.72053194  1.91863786]\n",
      "n = 109\n"
     ]
    },
    {
     "data": {
      "text/plain": [
       "109"
      ]
     },
     "execution_count": 17,
     "metadata": {},
     "output_type": "execute_result"
    }
   ],
   "source": [
    "x_1 = x_test.values[:, 0]\n",
    "x_2 = x_test.values[:, 1]\n",
    "x_3 = x_test.values[:, 2]\n",
    "x_4 = x_test.values[:, 3]\n",
    "x_5 = x_test.values[:, 4]\n",
    "y_test = y_test.values\n",
    "n = len(y_test)\n",
    "print('x =', x_1[: 10])\n",
    "print('y =', y_test[: 10])\n",
    "print('n =', n)\n",
    "len(x_1)"
   ]
  },
  {
   "cell_type": "code",
   "execution_count": 31,
   "id": "b91e371a-faff-455d-9057-fd74efff114c",
   "metadata": {},
   "outputs": [
    {
     "data": {
      "text/plain": [
       "Text(0.5, 1.0, 'Scatter Plot of Training Data')"
      ]
     },
     "execution_count": 31,
     "metadata": {},
     "output_type": "execute_result"
    },
    {
     "data": {
      "image/png": "[encoded data removed]",
      "text/plain": [
       "<Figure size 720x432 with 1 Axes>"
      ]
     },
     "metadata": {
      "needs_background": "light"
     },
     "output_type": "display_data"
    }
   ],
   "source": [
    "plt.scatter(x1, y, color = 'purple', marker = '*')\n",
    "plt.scatter(x2, y, color = 'red', marker = '*')\n",
    "plt.scatter(x3, y, color = 'blue', marker = '*')\n",
    "plt.scatter(x4, y, color = 'yellow', marker = '*')\n",
    "plt.scatter(x5, y, color = 'orange', marker = '*')\n",
    "plt.grid()\n",
    "plt.rcParams[\"figure.figsize\"] = (10,6)\n",
    "plt.xlabel('Explanatory Variable_x')\n",
    "plt.ylabel('Target Values_y')\n",
    "plt.title('Scatter Plot of Training Data')"
   ]
  },
  {
   "cell_type": "code",
   "execution_count": 19,
   "id": "28b664fc-cf34-495c-9452-7cf0699823ab",
   "metadata": {},
   "outputs": [
    {
     "data": {
      "text/plain": [
       "(array([[-0.71677205],\n",
       "        [-0.53893631],\n",
       "        [-0.98820554],\n",
       "        [-0.72613182],\n",
       "        [ 2.20347795]]),\n",
       " array([[-1.29437561],\n",
       "        [-1.29437561],\n",
       "        [-1.29437561],\n",
       "        [-1.29437561],\n",
       "        [ 0.05251643]]),\n",
       " array([[-0.57330726],\n",
       "        [-0.57330726],\n",
       "        [-0.57330726],\n",
       "        [-0.57330726],\n",
       "        [-0.57330726]]),\n",
       " array([[-0.93314164],\n",
       "        [-0.93314164],\n",
       "        [-0.93314164],\n",
       "        [-0.93314164],\n",
       "        [-0.93314164]]),\n",
       " array([[-0.81914879],\n",
       "        [-0.81914879],\n",
       "        [-0.81914879],\n",
       "        [-0.81914879],\n",
       "        [-0.81914879]]))"
      ]
     },
     "execution_count": 19,
     "metadata": {},
     "output_type": "execute_result"
    }
   ],
   "source": [
    "x0 = np.ones((m, 1))\n",
    "x1 = x1.reshape(m, 1)\n",
    "x2 = x2.reshape(m, 1)\n",
    "x3 = x3.reshape(m, 1)\n",
    "x4 = x4.reshape(m, 1)\n",
    "x5 = x5.reshape(m, 1)\n",
    "x1[: 5], x2[: 5], x3[: 5], x4[: 5], x5[: 5]"
   ]
  },
  {
   "cell_type": "code",
   "execution_count": 20,
   "id": "f3b49856-31b3-4dfc-9f89-516fa4f97692",
   "metadata": {},
   "outputs": [
    {
     "data": {
      "text/plain": [
       "array([[ 1.        , -0.71677205, -1.29437561, -0.57330726, -0.93314164,\n",
       "        -0.81914879],\n",
       "       [ 1.        , -0.53893631, -1.29437561, -0.57330726, -0.93314164,\n",
       "        -0.81914879],\n",
       "       [ 1.        , -0.98820554, -1.29437561, -0.57330726, -0.93314164,\n",
       "        -0.81914879],\n",
       "       [ 1.        , -0.72613182, -1.29437561, -0.57330726, -0.93314164,\n",
       "        -0.81914879],\n",
       "       [ 1.        ,  2.20347795,  0.05251643, -0.57330726, -0.93314164,\n",
       "        -0.81914879]])"
      ]
     },
     "execution_count": 20,
     "metadata": {},
     "output_type": "execute_result"
    }
   ],
   "source": [
    "X = np.hstack((x0, x1, x2, x3, x4, x5))\n",
    "X[: 5]"
   ]
  },
  {
   "cell_type": "code",
   "execution_count": 21,
   "id": "6756bcba-2cba-4843-985d-1defb1c6572a",
   "metadata": {},
   "outputs": [
    {
     "data": {
      "text/plain": [
       "(array([[1.],\n",
       "        [1.],\n",
       "        [1.],\n",
       "        [1.],\n",
       "        [1.]]),\n",
       " array([[-0.50073521],\n",
       "        [ 1.95422869],\n",
       "        [-0.73662142],\n",
       "        [ 3.5180669 ],\n",
       "        [-0.64925616]]),\n",
       " array([[ 0.02560738],\n",
       "        [ 0.02560738],\n",
       "        [ 1.42120937],\n",
       "        [-1.36999462],\n",
       "        [ 1.42120937]]),\n",
       " array([[-0.56354451],\n",
       "        [-0.56354451],\n",
       "        [-0.56354451],\n",
       "        [-0.56354451],\n",
       "        [-0.56354451]]),\n",
       " array([[ 0.27241586],\n",
       "        [-0.91531729],\n",
       "        [ 0.27241586],\n",
       "        [-0.91531729],\n",
       "        [ 0.27241586]]),\n",
       " array([[ 0.49214421],\n",
       "        [ 1.73967255],\n",
       "        [-0.75538413],\n",
       "        [ 0.49214421],\n",
       "        [-0.75538413]]))"
      ]
     },
     "execution_count": 21,
     "metadata": {},
     "output_type": "execute_result"
    }
   ],
   "source": [
    "x_0 = np.ones((n, 1))\n",
    "x_1 = x_1.reshape(n, 1)\n",
    "x_2 = x_2.reshape(n, 1)\n",
    "x_3 = x_3.reshape(n, 1)\n",
    "x_4 = x_4.reshape(n, 1)\n",
    "x_5 = x_5.reshape(n, 1)\n",
    "x_0[: 5], x_1[: 5], x_2[: 5], x_3[: 5], x_4[: 5], x_5[: 5]"
   ]
  },
  {
   "cell_type": "code",
   "execution_count": 22,
   "id": "4aecf204-dd8b-4c34-b8f1-cb020c725a6f",
   "metadata": {},
   "outputs": [
    {
     "data": {
      "text/plain": [
       "array([[ 1.        , -0.50073521,  0.02560738, -0.56354451,  0.27241586,\n",
       "         0.49214421],\n",
       "       [ 1.        ,  1.95422869,  0.02560738, -0.56354451, -0.91531729,\n",
       "         1.73967255],\n",
       "       [ 1.        , -0.73662142,  1.42120937, -0.56354451,  0.27241586,\n",
       "        -0.75538413],\n",
       "       [ 1.        ,  3.5180669 , -1.36999462, -0.56354451, -0.91531729,\n",
       "         0.49214421],\n",
       "       [ 1.        , -0.64925616,  1.42120937, -0.56354451,  0.27241586,\n",
       "        -0.75538413]])"
      ]
     },
     "execution_count": 22,
     "metadata": {},
     "output_type": "execute_result"
    }
   ],
   "source": [
    "X_test = np.hstack((x_0, x_1, x_2, x_3, x_4, x_5))\n",
    "X_test[: 5]"
   ]
  },
  {
   "cell_type": "code",
   "execution_count": 23,
   "id": "a8e4c544-27c6-4a92-bb62-f7beeb3e5350",
   "metadata": {},
   "outputs": [
    {
     "data": {
      "text/plain": [
       "array([[0.],\n",
       "       [0.],\n",
       "       [0.],\n",
       "       [0.],\n",
       "       [0.],\n",
       "       [0.]])"
      ]
     },
     "execution_count": 23,
     "metadata": {},
     "output_type": "execute_result"
    }
   ],
   "source": [
    "theta = np.zeros((6, 1))\n",
    "theta"
   ]
  },
  {
   "cell_type": "code",
   "execution_count": 24,
   "id": "1ed3f72e-ae97-4200-a11b-985d3e203cbf",
   "metadata": {},
   "outputs": [],
   "source": [
    "def compute_loss(X, y, theta):\n",
    "   \n",
    "    predictions = X.dot(theta)\n",
    "    errors = np.subtract(predictions, y)\n",
    "    sqrErrors = np.square(errors)\n",
    "    J = 1 / (2 * m) * np.sum(sqrErrors)\n",
    "\n",
    "\n",
    "    return J"
   ]
  },
  {
   "cell_type": "code",
   "execution_count": 25,
   "id": "e5f384e6-66af-4f4d-afae-af3e799ef625",
   "metadata": {},
   "outputs": [
    {
     "name": "stdout",
     "output_type": "stream",
     "text": [
      "The loss for all thetas = 218.00000000000006\n"
     ]
    }
   ],
   "source": [
    "loss = compute_loss(X, y, theta)\n",
    "print('The loss for all thetas =', loss)"
   ]
  },
  {
   "cell_type": "code",
   "execution_count": 26,
   "id": "23b74d95-67c5-4303-a117-6fc465c8d521",
   "metadata": {},
   "outputs": [],
   "source": [
    "def gradient_descent(X, y, theta, alpha, iterations, X_test, y_test): \n",
    "     \n",
    "    loss_history = np.zeros(iterations)\n",
    "    validation_loss_history = np.zeros(iterations)\n",
    "    \n",
    "    for i in range(iterations):\n",
    "        predictions = X.dot(theta)\n",
    "        errors = np.subtract(predictions, y)\n",
    "        sum_delta = (alpha / m) * X.transpose().dot(errors);\n",
    "        theta = theta - sum_delta;\n",
    "        loss_history[i] = compute_loss(X, y, theta)\n",
    "        validation_loss_history[i] = compute_loss(X_test, y_test, theta)\n",
    "        \n",
    "        \n",
    "    return theta, loss_history, validation_loss_history   "
   ]
  },
  {
   "cell_type": "code",
   "execution_count": 27,
   "id": "d87d2f71-50ef-4f8d-9d6b-09fea392beed",
   "metadata": {},
   "outputs": [],
   "source": [
    "theta = [0, 0, 0, 0, 0, 0]\n",
    "iterations = 5000;\n",
    "alpha = 0.01;"
   ]
  },
  {
   "cell_type": "code",
   "execution_count": 28,
   "id": "924a9a9c-5083-410b-a2b7-1491717f6fb8",
   "metadata": {},
   "outputs": [
    {
     "name": "stdout",
     "output_type": "stream",
     "text": [
      "Final value of theta = [2.70050292e-16 3.88481823e-01 8.90638389e-02 3.04158794e-01\n",
      " 2.40439813e-01 1.60108157e-01]\n",
      "loss_history = [0.49011053 0.48058679 0.47141506 ... 0.22309632 0.22309632 0.22309632]\n",
      "validation_loss_history = [0.12240152 0.11989773 0.11748511 ... 0.04862154 0.04862154 0.04862154]\n"
     ]
    }
   ],
   "source": [
    "theta, loss_history, validation_loss_history = gradient_descent (X, y, theta, alpha, iterations, X_test, y_test)\n",
    "print('Final value of theta =', theta)\n",
    "print('loss_history =', loss_history)\n",
    "print('validation_loss_history =', validation_loss_history)"
   ]
  },
  {
   "cell_type": "code",
   "execution_count": 29,
   "id": "ff9561f0-cb6e-4856-b7ee-63619eb9143b",
   "metadata": {},
   "outputs": [
    {
     "data": {
      "text/plain": [
       "<matplotlib.legend.Legend at 0x156a06def70>"
      ]
     },
     "execution_count": 29,
     "metadata": {},
     "output_type": "execute_result"
    },
    {
     "data": {
      "image/png": "[encoded data removed]",
      "text/plain": [
       "<Figure size 720x432 with 1 Axes>"
      ]
     },
     "metadata": {
      "needs_background": "light"
     },
     "output_type": "display_data"
    }
   ],
   "source": [
    "plt.scatter(X[:, 1], y, color = 'purple', marker = '*', label = 'Training Data')\n",
    "plt.plot(X[:, 1], X.dot(theta), color = 'green', label = 'Linear Regression')\n",
    "plt.scatter(X_test[:, 1], y_test, color = 'orange', marker = '*', label = 'Testing Data')\n",
    "plt.plot(X_test[:, 1], X_test.dot(theta), color = 'red', label = 'Linear Regression for Testing Data')\n",
    "\n",
    "plt.rcParams[\"figure.figsize\"] = (10, 6)\n",
    "plt.grid()\n",
    "plt.xlabel('Data Set values')\n",
    "plt.ylabel('Target values')\n",
    "plt.title('Linear Regression Fit')\n",
    "plt.legend()"
   ]
  },
  {
   "cell_type": "code",
   "execution_count": 30,
   "id": "74ed556a-d9f2-4d08-bdf7-32f3f9f0ee4d",
   "metadata": {},
   "outputs": [
    {
     "data": {
      "text/plain": [
       "Text(0.5, 1.0, 'Convergence of gradient descent')"
      ]
     },
     "execution_count": 30,
     "metadata": {},
     "output_type": "execute_result"
    },
    {
     "data": {
      "image/png": "[encoded data removed]",
      "text/plain": [
       "<Figure size 720x432 with 1 Axes>"
      ]
     },
     "metadata": {
      "needs_background": "light"
     },
     "output_type": "display_data"
    }
   ],
   "source": [
    "plt.plot(range(1, iterations + 1), loss_history, color = 'blue')\n",
    "plt.plot(range(1, iterations + 1), validation_loss_history, color = 'red')\n",
    "plt.rcParams[\"figure.figsize\"] = (10, 6)\n",
    "plt.grid()\n",
    "plt.xlabel('number of iterations')\n",
    "plt.ylabel('loss (J)')\n",
    "plt.title('Convergence of gradient descent')"
   ]
  },
  {
   "cell_type": "code",
   "execution_count": null,
   "id": "3f170190-e1ab-4f55-96ae-701de72b827f",
   "metadata": {},
   "outputs": [],
   "source": []
  },
  {
   "cell_type": "code",
   "execution_count": null,
   "id": "401e15f2-c269-4a55-b78e-ff50e70e4b58",
   "metadata": {},
   "outputs": [],
   "source": []
  }
 ],
 "metadata": {
  "kernelspec": {
   "display_name": "Python 3 (ipykernel)",
   "language": "python",
   "name": "python3"
  },
  "language_info": {
   "codemirror_mode": {
    "name": "ipython",
    "version": 3
   },
   "file_extension": ".py",
   "mimetype": "text/x-python",
   "name": "python",
   "nbconvert_exporter": "python",
   "pygments_lexer": "ipython3",
   "version": "3.9.12"
  }
 },
 "nbformat": 4,
 "nbformat_minor": 5
}

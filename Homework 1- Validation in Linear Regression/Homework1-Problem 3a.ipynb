{
 "cells": [
  {
   "cell_type": "code",
   "execution_count": 48,
   "id": "2c0b363a-eca4-4803-8f87-ff5e8a69d00b",
   "metadata": {},
   "outputs": [],
   "source": [
    "import numpy as np"
   ]
  },
  {
   "cell_type": "code",
   "execution_count": 49,
   "id": "8def81a8-aa6f-4f7d-a0fe-19943e50dc1c",
   "metadata": {},
   "outputs": [],
   "source": [
    "import pandas as pd"
   ]
  },
  {
   "cell_type": "code",
   "execution_count": 50,
   "id": "f322a2e2-5760-4227-9763-cca4f69258b4",
   "metadata": {},
   "outputs": [],
   "source": [
    "import matplotlib.pyplot as plt\n",
    "import seaborn as sns"
   ]
  },
  {
   "cell_type": "code",
   "execution_count": 51,
   "id": "dad32d99-a7f8-4fd8-a92f-ea6c7bffa527",
   "metadata": {},
   "outputs": [],
   "source": [
    "df = pd.read_csv('Housing.csv')"
   ]
  },
  {
   "cell_type": "code",
   "execution_count": 52,
   "id": "8fa1571b-33ce-4f22-9251-24ba23086e46",
   "metadata": {},
   "outputs": [
    {
     "data": {
      "text/html": [
       "<div>\n",
       "<style scoped>\n",
       "    .dataframe tbody tr th:only-of-type {\n",
       "        vertical-align: middle;\n",
       "    }\n",
       "\n",
       "    .dataframe tbody tr th {\n",
       "        vertical-align: top;\n",
       "    }\n",
       "\n",
       "    .dataframe thead th {\n",
       "        text-align: right;\n",
       "    }\n",
       "</style>\n",
       "<table border=\"1\" class=\"dataframe\">\n",
       "  <thead>\n",
       "    <tr style=\"text-align: right;\">\n",
       "      <th></th>\n",
       "      <th>price</th>\n",
       "      <th>area</th>\n",
       "      <th>bedrooms</th>\n",
       "      <th>bathrooms</th>\n",
       "      <th>stories</th>\n",
       "      <th>mainroad</th>\n",
       "      <th>guestroom</th>\n",
       "      <th>basement</th>\n",
       "      <th>hotwaterheating</th>\n",
       "      <th>airconditioning</th>\n",
       "      <th>parking</th>\n",
       "      <th>prefarea</th>\n",
       "      <th>furnishingstatus</th>\n",
       "    </tr>\n",
       "  </thead>\n",
       "  <tbody>\n",
       "    <tr>\n",
       "      <th>0</th>\n",
       "      <td>13300000</td>\n",
       "      <td>7420</td>\n",
       "      <td>4</td>\n",
       "      <td>2</td>\n",
       "      <td>3</td>\n",
       "      <td>yes</td>\n",
       "      <td>no</td>\n",
       "      <td>no</td>\n",
       "      <td>no</td>\n",
       "      <td>yes</td>\n",
       "      <td>2</td>\n",
       "      <td>yes</td>\n",
       "      <td>furnished</td>\n",
       "    </tr>\n",
       "    <tr>\n",
       "      <th>1</th>\n",
       "      <td>12250000</td>\n",
       "      <td>8960</td>\n",
       "      <td>4</td>\n",
       "      <td>4</td>\n",
       "      <td>4</td>\n",
       "      <td>yes</td>\n",
       "      <td>no</td>\n",
       "      <td>no</td>\n",
       "      <td>no</td>\n",
       "      <td>yes</td>\n",
       "      <td>3</td>\n",
       "      <td>no</td>\n",
       "      <td>furnished</td>\n",
       "    </tr>\n",
       "    <tr>\n",
       "      <th>2</th>\n",
       "      <td>12250000</td>\n",
       "      <td>9960</td>\n",
       "      <td>3</td>\n",
       "      <td>2</td>\n",
       "      <td>2</td>\n",
       "      <td>yes</td>\n",
       "      <td>no</td>\n",
       "      <td>yes</td>\n",
       "      <td>no</td>\n",
       "      <td>no</td>\n",
       "      <td>2</td>\n",
       "      <td>yes</td>\n",
       "      <td>semi-furnished</td>\n",
       "    </tr>\n",
       "    <tr>\n",
       "      <th>3</th>\n",
       "      <td>12215000</td>\n",
       "      <td>7500</td>\n",
       "      <td>4</td>\n",
       "      <td>2</td>\n",
       "      <td>2</td>\n",
       "      <td>yes</td>\n",
       "      <td>no</td>\n",
       "      <td>yes</td>\n",
       "      <td>no</td>\n",
       "      <td>yes</td>\n",
       "      <td>3</td>\n",
       "      <td>yes</td>\n",
       "      <td>furnished</td>\n",
       "    </tr>\n",
       "    <tr>\n",
       "      <th>4</th>\n",
       "      <td>11410000</td>\n",
       "      <td>7420</td>\n",
       "      <td>4</td>\n",
       "      <td>1</td>\n",
       "      <td>2</td>\n",
       "      <td>yes</td>\n",
       "      <td>yes</td>\n",
       "      <td>yes</td>\n",
       "      <td>no</td>\n",
       "      <td>yes</td>\n",
       "      <td>2</td>\n",
       "      <td>no</td>\n",
       "      <td>furnished</td>\n",
       "    </tr>\n",
       "  </tbody>\n",
       "</table>\n",
       "</div>"
      ],
      "text/plain": [
       "      price  area  bedrooms  bathrooms  stories mainroad guestroom basement  \\\n",
       "0  13300000  7420         4          2        3      yes        no       no   \n",
       "1  12250000  8960         4          4        4      yes        no       no   \n",
       "2  12250000  9960         3          2        2      yes        no      yes   \n",
       "3  12215000  7500         4          2        2      yes        no      yes   \n",
       "4  11410000  7420         4          1        2      yes       yes      yes   \n",
       "\n",
       "  hotwaterheating airconditioning  parking prefarea furnishingstatus  \n",
       "0              no             yes        2      yes        furnished  \n",
       "1              no             yes        3       no        furnished  \n",
       "2              no              no        2      yes   semi-furnished  \n",
       "3              no             yes        3      yes        furnished  \n",
       "4              no             yes        2       no        furnished  "
      ]
     },
     "execution_count": 52,
     "metadata": {},
     "output_type": "execute_result"
    }
   ],
   "source": [
    "housing = df\n",
    "housing.head()"
   ]
  },
  {
   "cell_type": "code",
   "execution_count": 53,
   "id": "1a02f5dd-52b3-4ce0-b62a-39c511e7363f",
   "metadata": {},
   "outputs": [
    {
     "data": {
      "text/plain": [
       "545"
      ]
     },
     "execution_count": 53,
     "metadata": {},
     "output_type": "execute_result"
    }
   ],
   "source": [
    "m = len(housing)\n",
    "m"
   ]
  },
  {
   "cell_type": "code",
   "execution_count": 54,
   "id": "a0a6310a-a43c-4244-85b4-1345a63b7ce6",
   "metadata": {},
   "outputs": [
    {
     "data": {
      "text/plain": [
       "(545, 13)"
      ]
     },
     "execution_count": 54,
     "metadata": {},
     "output_type": "execute_result"
    }
   ],
   "source": [
    "housing.shape"
   ]
  },
  {
   "cell_type": "code",
   "execution_count": 55,
   "id": "877b74fc-2a0b-4d01-8d09-ed99a36313d2",
   "metadata": {},
   "outputs": [
    {
     "data": {
      "text/plain": [
       "(436, 13)"
      ]
     },
     "execution_count": 55,
     "metadata": {},
     "output_type": "execute_result"
    }
   ],
   "source": [
    "from sklearn.model_selection import train_test_split\n",
    "\n",
    "np.random.seed(0)\n",
    "df_train, df_test = train_test_split(housing, train_size = 0.8, test_size = 0.2)\n",
    "df_train.shape"
   ]
  },
  {
   "cell_type": "code",
   "execution_count": 56,
   "id": "5c0fecdd-dc2f-4530-a7cd-c0029f542194",
   "metadata": {},
   "outputs": [
    {
     "data": {
      "text/plain": [
       "(109, 13)"
      ]
     },
     "execution_count": 56,
     "metadata": {},
     "output_type": "execute_result"
    }
   ],
   "source": [
    "df_test.shape"
   ]
  },
  {
   "cell_type": "code",
   "execution_count": 57,
   "id": "4e80250c-7dcc-4e4f-98a7-0a95dc7415bb",
   "metadata": {},
   "outputs": [
    {
     "data": {
      "text/html": [
       "<div>\n",
       "<style scoped>\n",
       "    .dataframe tbody tr th:only-of-type {\n",
       "        vertical-align: middle;\n",
       "    }\n",
       "\n",
       "    .dataframe tbody tr th {\n",
       "        vertical-align: top;\n",
       "    }\n",
       "\n",
       "    .dataframe thead th {\n",
       "        text-align: right;\n",
       "    }\n",
       "</style>\n",
       "<table border=\"1\" class=\"dataframe\">\n",
       "  <thead>\n",
       "    <tr style=\"text-align: right;\">\n",
       "      <th></th>\n",
       "      <th>area</th>\n",
       "      <th>bedrooms</th>\n",
       "      <th>bathrooms</th>\n",
       "      <th>stories</th>\n",
       "      <th>parking</th>\n",
       "      <th>price</th>\n",
       "    </tr>\n",
       "  </thead>\n",
       "  <tbody>\n",
       "    <tr>\n",
       "      <th>542</th>\n",
       "      <td>3620</td>\n",
       "      <td>2</td>\n",
       "      <td>1</td>\n",
       "      <td>1</td>\n",
       "      <td>0</td>\n",
       "      <td>1750000</td>\n",
       "    </tr>\n",
       "    <tr>\n",
       "      <th>496</th>\n",
       "      <td>4000</td>\n",
       "      <td>2</td>\n",
       "      <td>1</td>\n",
       "      <td>1</td>\n",
       "      <td>0</td>\n",
       "      <td>2695000</td>\n",
       "    </tr>\n",
       "    <tr>\n",
       "      <th>484</th>\n",
       "      <td>3040</td>\n",
       "      <td>2</td>\n",
       "      <td>1</td>\n",
       "      <td>1</td>\n",
       "      <td>0</td>\n",
       "      <td>2870000</td>\n",
       "    </tr>\n",
       "    <tr>\n",
       "      <th>507</th>\n",
       "      <td>3600</td>\n",
       "      <td>2</td>\n",
       "      <td>1</td>\n",
       "      <td>1</td>\n",
       "      <td>0</td>\n",
       "      <td>2590000</td>\n",
       "    </tr>\n",
       "    <tr>\n",
       "      <th>252</th>\n",
       "      <td>9860</td>\n",
       "      <td>3</td>\n",
       "      <td>1</td>\n",
       "      <td>1</td>\n",
       "      <td>0</td>\n",
       "      <td>4515000</td>\n",
       "    </tr>\n",
       "  </tbody>\n",
       "</table>\n",
       "</div>"
      ],
      "text/plain": [
       "     area  bedrooms  bathrooms  stories  parking    price\n",
       "542  3620         2          1        1        0  1750000\n",
       "496  4000         2          1        1        0  2695000\n",
       "484  3040         2          1        1        0  2870000\n",
       "507  3600         2          1        1        0  2590000\n",
       "252  9860         3          1        1        0  4515000"
      ]
     },
     "execution_count": 57,
     "metadata": {},
     "output_type": "execute_result"
    }
   ],
   "source": [
    "num_vars = ['area', 'bedrooms', 'bathrooms', 'stories', 'parking', 'price']\n",
    "df_newtrain = df_train[num_vars]\n",
    "df_newtest = df_test[num_vars]\n",
    "df_newtrain.head()"
   ]
  },
  {
   "cell_type": "code",
   "execution_count": 58,
   "id": "6acee4ff-e409-4dfe-9fd0-0ff355ccd947",
   "metadata": {},
   "outputs": [
    {
     "data": {
      "text/html": [
       "<div>\n",
       "<style scoped>\n",
       "    .dataframe tbody tr th:only-of-type {\n",
       "        vertical-align: middle;\n",
       "    }\n",
       "\n",
       "    .dataframe tbody tr th {\n",
       "        vertical-align: top;\n",
       "    }\n",
       "\n",
       "    .dataframe thead th {\n",
       "        text-align: right;\n",
       "    }\n",
       "</style>\n",
       "<table border=\"1\" class=\"dataframe\">\n",
       "  <thead>\n",
       "    <tr style=\"text-align: right;\">\n",
       "      <th></th>\n",
       "      <th>area</th>\n",
       "      <th>bedrooms</th>\n",
       "      <th>bathrooms</th>\n",
       "      <th>stories</th>\n",
       "      <th>parking</th>\n",
       "      <th>price</th>\n",
       "    </tr>\n",
       "  </thead>\n",
       "  <tbody>\n",
       "    <tr>\n",
       "      <th>239</th>\n",
       "      <td>4000</td>\n",
       "      <td>3</td>\n",
       "      <td>1</td>\n",
       "      <td>2</td>\n",
       "      <td>1</td>\n",
       "      <td>4585000</td>\n",
       "    </tr>\n",
       "    <tr>\n",
       "      <th>113</th>\n",
       "      <td>9620</td>\n",
       "      <td>3</td>\n",
       "      <td>1</td>\n",
       "      <td>1</td>\n",
       "      <td>2</td>\n",
       "      <td>6083000</td>\n",
       "    </tr>\n",
       "    <tr>\n",
       "      <th>325</th>\n",
       "      <td>3460</td>\n",
       "      <td>4</td>\n",
       "      <td>1</td>\n",
       "      <td>2</td>\n",
       "      <td>0</td>\n",
       "      <td>4007500</td>\n",
       "    </tr>\n",
       "    <tr>\n",
       "      <th>66</th>\n",
       "      <td>13200</td>\n",
       "      <td>2</td>\n",
       "      <td>1</td>\n",
       "      <td>1</td>\n",
       "      <td>1</td>\n",
       "      <td>6930000</td>\n",
       "    </tr>\n",
       "    <tr>\n",
       "      <th>479</th>\n",
       "      <td>3660</td>\n",
       "      <td>4</td>\n",
       "      <td>1</td>\n",
       "      <td>2</td>\n",
       "      <td>0</td>\n",
       "      <td>2940000</td>\n",
       "    </tr>\n",
       "  </tbody>\n",
       "</table>\n",
       "</div>"
      ],
      "text/plain": [
       "      area  bedrooms  bathrooms  stories  parking    price\n",
       "239   4000         3          1        2        1  4585000\n",
       "113   9620         3          1        1        2  6083000\n",
       "325   3460         4          1        2        0  4007500\n",
       "66   13200         2          1        1        1  6930000\n",
       "479   3660         4          1        2        0  2940000"
      ]
     },
     "execution_count": 58,
     "metadata": {},
     "output_type": "execute_result"
    }
   ],
   "source": [
    "df_newtest.head()"
   ]
  },
  {
   "cell_type": "code",
   "execution_count": 59,
   "id": "e411fca5-89f8-4104-8a08-c0dcd903d204",
   "metadata": {},
   "outputs": [
    {
     "data": {
      "text/plain": [
       "(436, 6)"
      ]
     },
     "execution_count": 59,
     "metadata": {},
     "output_type": "execute_result"
    }
   ],
   "source": [
    "df_newtrain.shape"
   ]
  },
  {
   "cell_type": "code",
   "execution_count": 60,
   "id": "8cb75fc7-936f-40d3-9090-b3d3a3c7f9ba",
   "metadata": {},
   "outputs": [
    {
     "name": "stderr",
     "output_type": "stream",
     "text": [
      "C:\\Users\\Sanaz\\AppData\\Local\\Temp\\ipykernel_20664\\1883545499.py:4: SettingWithCopyWarning: \n",
      "A value is trying to be set on a copy of a slice from a DataFrame.\n",
      "Try using .loc[row_indexer,col_indexer] = value instead\n",
      "\n",
      "See the caveats in the documentation: https://pandas.pydata.org/pandas-docs/stable/user_guide/indexing.html#returning-a-view-versus-a-copy\n",
      "  df_newtrain[num_vars] = scaler.fit_transform(df_newtrain[num_vars])\n"
     ]
    },
    {
     "data": {
      "text/html": [
       "<div>\n",
       "<style scoped>\n",
       "    .dataframe tbody tr th:only-of-type {\n",
       "        vertical-align: middle;\n",
       "    }\n",
       "\n",
       "    .dataframe tbody tr th {\n",
       "        vertical-align: top;\n",
       "    }\n",
       "\n",
       "    .dataframe thead th {\n",
       "        text-align: right;\n",
       "    }\n",
       "</style>\n",
       "<table border=\"1\" class=\"dataframe\">\n",
       "  <thead>\n",
       "    <tr style=\"text-align: right;\">\n",
       "      <th></th>\n",
       "      <th>area</th>\n",
       "      <th>bedrooms</th>\n",
       "      <th>bathrooms</th>\n",
       "      <th>stories</th>\n",
       "      <th>parking</th>\n",
       "      <th>price</th>\n",
       "    </tr>\n",
       "  </thead>\n",
       "  <tbody>\n",
       "    <tr>\n",
       "      <th>542</th>\n",
       "      <td>0.124199</td>\n",
       "      <td>0.2</td>\n",
       "      <td>0.0</td>\n",
       "      <td>0.0</td>\n",
       "      <td>0.0</td>\n",
       "      <td>0.000000</td>\n",
       "    </tr>\n",
       "    <tr>\n",
       "      <th>496</th>\n",
       "      <td>0.150654</td>\n",
       "      <td>0.2</td>\n",
       "      <td>0.0</td>\n",
       "      <td>0.0</td>\n",
       "      <td>0.0</td>\n",
       "      <td>0.081818</td>\n",
       "    </tr>\n",
       "    <tr>\n",
       "      <th>484</th>\n",
       "      <td>0.083821</td>\n",
       "      <td>0.2</td>\n",
       "      <td>0.0</td>\n",
       "      <td>0.0</td>\n",
       "      <td>0.0</td>\n",
       "      <td>0.096970</td>\n",
       "    </tr>\n",
       "    <tr>\n",
       "      <th>507</th>\n",
       "      <td>0.122807</td>\n",
       "      <td>0.2</td>\n",
       "      <td>0.0</td>\n",
       "      <td>0.0</td>\n",
       "      <td>0.0</td>\n",
       "      <td>0.072727</td>\n",
       "    </tr>\n",
       "    <tr>\n",
       "      <th>252</th>\n",
       "      <td>0.558619</td>\n",
       "      <td>0.4</td>\n",
       "      <td>0.0</td>\n",
       "      <td>0.0</td>\n",
       "      <td>0.0</td>\n",
       "      <td>0.239394</td>\n",
       "    </tr>\n",
       "  </tbody>\n",
       "</table>\n",
       "</div>"
      ],
      "text/plain": [
       "         area  bedrooms  bathrooms  stories  parking     price\n",
       "542  0.124199       0.2        0.0      0.0      0.0  0.000000\n",
       "496  0.150654       0.2        0.0      0.0      0.0  0.081818\n",
       "484  0.083821       0.2        0.0      0.0      0.0  0.096970\n",
       "507  0.122807       0.2        0.0      0.0      0.0  0.072727\n",
       "252  0.558619       0.4        0.0      0.0      0.0  0.239394"
      ]
     },
     "execution_count": 60,
     "metadata": {},
     "output_type": "execute_result"
    }
   ],
   "source": [
    "from sklearn.preprocessing import MinMaxScaler, StandardScaler\n",
    "\n",
    "scaler = MinMaxScaler()\n",
    "df_newtrain[num_vars] = scaler.fit_transform(df_newtrain[num_vars])\n",
    "df_newtrain.head()"
   ]
  },
  {
   "cell_type": "code",
   "execution_count": 61,
   "id": "fd784a55-eb46-4f60-8578-0e6fa3571bd1",
   "metadata": {},
   "outputs": [
    {
     "name": "stderr",
     "output_type": "stream",
     "text": [
      "C:\\Users\\Sanaz\\AppData\\Local\\Temp\\ipykernel_20664\\745653926.py:2: SettingWithCopyWarning: \n",
      "A value is trying to be set on a copy of a slice from a DataFrame.\n",
      "Try using .loc[row_indexer,col_indexer] = value instead\n",
      "\n",
      "See the caveats in the documentation: https://pandas.pydata.org/pandas-docs/stable/user_guide/indexing.html#returning-a-view-versus-a-copy\n",
      "  df_newtest[num_vars] = scaler.fit_transform(df_newtest[num_vars])\n"
     ]
    },
    {
     "data": {
      "text/html": [
       "<div>\n",
       "<style scoped>\n",
       "    .dataframe tbody tr th:only-of-type {\n",
       "        vertical-align: middle;\n",
       "    }\n",
       "\n",
       "    .dataframe tbody tr th {\n",
       "        vertical-align: top;\n",
       "    }\n",
       "\n",
       "    .dataframe thead th {\n",
       "        text-align: right;\n",
       "    }\n",
       "</style>\n",
       "<table border=\"1\" class=\"dataframe\">\n",
       "  <thead>\n",
       "    <tr style=\"text-align: right;\">\n",
       "      <th></th>\n",
       "      <th>area</th>\n",
       "      <th>bedrooms</th>\n",
       "      <th>bathrooms</th>\n",
       "      <th>stories</th>\n",
       "      <th>parking</th>\n",
       "      <th>price</th>\n",
       "    </tr>\n",
       "  </thead>\n",
       "  <tbody>\n",
       "    <tr>\n",
       "      <th>239</th>\n",
       "      <td>0.203463</td>\n",
       "      <td>0.50</td>\n",
       "      <td>0.0</td>\n",
       "      <td>0.333333</td>\n",
       "      <td>0.333333</td>\n",
       "      <td>0.270000</td>\n",
       "    </tr>\n",
       "    <tr>\n",
       "      <th>113</th>\n",
       "      <td>0.690043</td>\n",
       "      <td>0.50</td>\n",
       "      <td>0.0</td>\n",
       "      <td>0.000000</td>\n",
       "      <td>0.666667</td>\n",
       "      <td>0.412667</td>\n",
       "    </tr>\n",
       "    <tr>\n",
       "      <th>325</th>\n",
       "      <td>0.156710</td>\n",
       "      <td>0.75</td>\n",
       "      <td>0.0</td>\n",
       "      <td>0.333333</td>\n",
       "      <td>0.000000</td>\n",
       "      <td>0.215000</td>\n",
       "    </tr>\n",
       "    <tr>\n",
       "      <th>66</th>\n",
       "      <td>1.000000</td>\n",
       "      <td>0.25</td>\n",
       "      <td>0.0</td>\n",
       "      <td>0.000000</td>\n",
       "      <td>0.333333</td>\n",
       "      <td>0.493333</td>\n",
       "    </tr>\n",
       "    <tr>\n",
       "      <th>479</th>\n",
       "      <td>0.174026</td>\n",
       "      <td>0.75</td>\n",
       "      <td>0.0</td>\n",
       "      <td>0.333333</td>\n",
       "      <td>0.000000</td>\n",
       "      <td>0.113333</td>\n",
       "    </tr>\n",
       "  </tbody>\n",
       "</table>\n",
       "</div>"
      ],
      "text/plain": [
       "         area  bedrooms  bathrooms   stories   parking     price\n",
       "239  0.203463      0.50        0.0  0.333333  0.333333  0.270000\n",
       "113  0.690043      0.50        0.0  0.000000  0.666667  0.412667\n",
       "325  0.156710      0.75        0.0  0.333333  0.000000  0.215000\n",
       "66   1.000000      0.25        0.0  0.000000  0.333333  0.493333\n",
       "479  0.174026      0.75        0.0  0.333333  0.000000  0.113333"
      ]
     },
     "execution_count": 61,
     "metadata": {},
     "output_type": "execute_result"
    }
   ],
   "source": [
    "scaler = MinMaxScaler()\n",
    "df_newtest[num_vars] = scaler.fit_transform(df_newtest[num_vars])\n",
    "df_newtest.head()"
   ]
  },
  {
   "cell_type": "code",
   "execution_count": null,
   "id": "851de4b0-b00d-4815-8b71-e0ef50d8bb16",
   "metadata": {},
   "outputs": [],
   "source": []
  },
  {
   "cell_type": "code",
   "execution_count": 62,
   "id": "7268f6ad-8a0f-47fb-8fbb-66a49c0e8db7",
   "metadata": {},
   "outputs": [],
   "source": [
    "y_test = df_newtest.pop('price')\n",
    "x_test = df_newtest.copy()\n",
    "\n",
    "y_train = df_newtrain.pop('price')\n",
    "x_train = df_newtrain.copy()"
   ]
  },
  {
   "cell_type": "code",
   "execution_count": 63,
   "id": "1c7c7e48-4125-4d3f-b12d-f7ce94d581ff",
   "metadata": {},
   "outputs": [
    {
     "name": "stdout",
     "output_type": "stream",
     "text": [
      "x = [0.12419939 0.15065441 0.08382066 0.12280702 0.55861877 0.14842662\n",
      " 0.13951546 0.55444166 0.12559176 0.11723754]\n",
      "y = [0.         0.08181818 0.0969697  0.07272727 0.23939394 0.23030303\n",
      " 0.24545455 0.3030303  0.15757576 0.16363636]\n",
      "m = 436\n"
     ]
    },
    {
     "data": {
      "text/plain": [
       "436"
      ]
     },
     "execution_count": 63,
     "metadata": {},
     "output_type": "execute_result"
    }
   ],
   "source": [
    "x1 = x_train.values[:, 0]\n",
    "x2 = x_train.values[:, 1]\n",
    "x3 = x_train.values[:, 2]\n",
    "x4 = x_train.values[:, 3]\n",
    "x5 = x_train.values[:, 4]\n",
    "y = y_train.values\n",
    "m = len(y)\n",
    "print('x =', x1[: 10])\n",
    "print('y =', y[: 10])\n",
    "print('m =', m)\n",
    "len(x1)"
   ]
  },
  {
   "cell_type": "code",
   "execution_count": 64,
   "id": "bea907f6-5241-4f07-8ce0-a0caed69ca40",
   "metadata": {},
   "outputs": [
    {
     "name": "stdout",
     "output_type": "stream",
     "text": [
      "x = [0.2034632  0.69004329 0.15670996 1.         0.17402597 0.40692641\n",
      " 0.19047619 0.15844156 0.16121212 0.63636364]\n",
      "y = [0.27       0.41266667 0.215      0.49333333 0.11333333 0.42333333\n",
      " 0.17       0.11333333 0.16666667 0.59333333]\n",
      "n = 109\n"
     ]
    },
    {
     "data": {
      "text/plain": [
       "109"
      ]
     },
     "execution_count": 64,
     "metadata": {},
     "output_type": "execute_result"
    }
   ],
   "source": [
    "x_1 = x_test.values[:, 0]\n",
    "x_2 = x_test.values[:, 1]\n",
    "x_3 = x_test.values[:, 2]\n",
    "x_4 = x_test.values[:, 3]\n",
    "x_5 = x_test.values[:, 4]\n",
    "y_test = y_test.values\n",
    "n = len(y_test)\n",
    "print('x =', x_1[: 10])\n",
    "print('y =', y_test[: 10])\n",
    "print('n =', n)\n",
    "len(x_1)"
   ]
  },
  {
   "cell_type": "code",
   "execution_count": 65,
   "id": "275e24e4-073d-425e-8cad-4aa249fb9385",
   "metadata": {},
   "outputs": [
    {
     "data": {
      "text/plain": [
       "Text(0.5, 1.0, 'Scatter Plot of Training Data')"
      ]
     },
     "execution_count": 65,
     "metadata": {},
     "output_type": "execute_result"
    },
    {
     "data": {
      "image/png": "[encoded data removed]",
      "text/plain": [
       "<Figure size 720x432 with 1 Axes>"
      ]
     },
     "metadata": {
      "needs_background": "light"
     },
     "output_type": "display_data"
    }
   ],
   "source": [
    "plt.scatter(x1, y, color = 'purple', marker = '*')\n",
    "plt.scatter(x2, y, color = 'red', marker = '*')\n",
    "plt.scatter(x3, y, color = 'blue', marker = '*')\n",
    "plt.scatter(x4, y, color = 'yellow', marker = '*')\n",
    "plt.scatter(x5, y, color = 'orange', marker = '*')\n",
    "plt.grid()\n",
    "plt.rcParams[\"figure.figsize\"] = (10,6)\n",
    "plt.xlabel('Explanatory Variable_x')\n",
    "plt.ylabel('Target Values_y')\n",
    "plt.title('Scatter Plot of Training Data')"
   ]
  },
  {
   "cell_type": "code",
   "execution_count": 66,
   "id": "342522a2-d025-4a1a-a243-16718c0bcc73",
   "metadata": {},
   "outputs": [
    {
     "data": {
      "text/plain": [
       "(array([[0.12419939],\n",
       "        [0.15065441],\n",
       "        [0.08382066],\n",
       "        [0.12280702],\n",
       "        [0.55861877]]),\n",
       " array([[0.2],\n",
       "        [0.2],\n",
       "        [0.2],\n",
       "        [0.2],\n",
       "        [0.4]]),\n",
       " array([[0.],\n",
       "        [0.],\n",
       "        [0.],\n",
       "        [0.],\n",
       "        [0.]]),\n",
       " array([[0.],\n",
       "        [0.],\n",
       "        [0.],\n",
       "        [0.],\n",
       "        [0.]]),\n",
       " array([[0.],\n",
       "        [0.],\n",
       "        [0.],\n",
       "        [0.],\n",
       "        [0.]]))"
      ]
     },
     "execution_count": 66,
     "metadata": {},
     "output_type": "execute_result"
    }
   ],
   "source": [
    "x0 = np.ones((m, 1))\n",
    "x1 = x1.reshape(m, 1)\n",
    "x2 = x2.reshape(m, 1)\n",
    "x3 = x3.reshape(m, 1)\n",
    "x4 = x4.reshape(m, 1)\n",
    "x5 = x5.reshape(m, 1)\n",
    "x1[: 5], x2[: 5], x3[: 5], x4[: 5], x5[: 5]"
   ]
  },
  {
   "cell_type": "code",
   "execution_count": 67,
   "id": "c8aa0927-15fd-481c-b958-fcec3460c045",
   "metadata": {},
   "outputs": [
    {
     "data": {
      "text/plain": [
       "array([[1.        , 0.12419939, 0.2       , 0.        , 0.        ,\n",
       "        0.        ],\n",
       "       [1.        , 0.15065441, 0.2       , 0.        , 0.        ,\n",
       "        0.        ],\n",
       "       [1.        , 0.08382066, 0.2       , 0.        , 0.        ,\n",
       "        0.        ],\n",
       "       [1.        , 0.12280702, 0.2       , 0.        , 0.        ,\n",
       "        0.        ],\n",
       "       [1.        , 0.55861877, 0.4       , 0.        , 0.        ,\n",
       "        0.        ]])"
      ]
     },
     "execution_count": 67,
     "metadata": {},
     "output_type": "execute_result"
    }
   ],
   "source": [
    "X = np.hstack((x0, x1, x2, x3, x4, x5))\n",
    "X[: 5]"
   ]
  },
  {
   "cell_type": "code",
   "execution_count": 68,
   "id": "462a3eca-89c0-4ef3-bec8-8779003dc467",
   "metadata": {},
   "outputs": [
    {
     "data": {
      "text/plain": [
       "(array([[1.],\n",
       "        [1.],\n",
       "        [1.],\n",
       "        [1.],\n",
       "        [1.]]),\n",
       " array([[0.2034632 ],\n",
       "        [0.69004329],\n",
       "        [0.15670996],\n",
       "        [1.        ],\n",
       "        [0.17402597]]),\n",
       " array([[0.5 ],\n",
       "        [0.5 ],\n",
       "        [0.75],\n",
       "        [0.25],\n",
       "        [0.75]]),\n",
       " array([[0.],\n",
       "        [0.],\n",
       "        [0.],\n",
       "        [0.],\n",
       "        [0.]]),\n",
       " array([[0.33333333],\n",
       "        [0.        ],\n",
       "        [0.33333333],\n",
       "        [0.        ],\n",
       "        [0.33333333]]),\n",
       " array([[0.33333333],\n",
       "        [0.66666667],\n",
       "        [0.        ],\n",
       "        [0.33333333],\n",
       "        [0.        ]]))"
      ]
     },
     "execution_count": 68,
     "metadata": {},
     "output_type": "execute_result"
    }
   ],
   "source": [
    "x_0 = np.ones((n, 1))\n",
    "x_1 = x_1.reshape(n, 1)\n",
    "x_2 = x_2.reshape(n, 1)\n",
    "x_3 = x_3.reshape(n, 1)\n",
    "x_4 = x_4.reshape(n, 1)\n",
    "x_5 = x_5.reshape(n, 1)\n",
    "x_0[: 5], x_1[: 5], x_2[: 5], x_3[: 5], x_4[: 5], x_5[: 5]"
   ]
  },
  {
   "cell_type": "code",
   "execution_count": 69,
   "id": "4d2db843-6361-4f4f-89df-d478f2b43ac4",
   "metadata": {},
   "outputs": [
    {
     "data": {
      "text/plain": [
       "array([[1.        , 0.2034632 , 0.5       , 0.        , 0.33333333,\n",
       "        0.33333333],\n",
       "       [1.        , 0.69004329, 0.5       , 0.        , 0.        ,\n",
       "        0.66666667],\n",
       "       [1.        , 0.15670996, 0.75      , 0.        , 0.33333333,\n",
       "        0.        ],\n",
       "       [1.        , 1.        , 0.25      , 0.        , 0.        ,\n",
       "        0.33333333],\n",
       "       [1.        , 0.17402597, 0.75      , 0.        , 0.33333333,\n",
       "        0.        ]])"
      ]
     },
     "execution_count": 69,
     "metadata": {},
     "output_type": "execute_result"
    }
   ],
   "source": [
    "X_test = np.hstack((x_0, x_1, x_2, x_3, x_4, x_5))\n",
    "X_test[: 5]"
   ]
  },
  {
   "cell_type": "code",
   "execution_count": 70,
   "id": "5e3a3513-7264-4932-802f-21df7c033231",
   "metadata": {},
   "outputs": [
    {
     "data": {
      "text/plain": [
       "array([[0.],\n",
       "       [0.],\n",
       "       [0.],\n",
       "       [0.],\n",
       "       [0.],\n",
       "       [0.]])"
      ]
     },
     "execution_count": 70,
     "metadata": {},
     "output_type": "execute_result"
    }
   ],
   "source": [
    "theta = np.zeros((6, 1))\n",
    "theta"
   ]
  },
  {
   "cell_type": "code",
   "execution_count": 71,
   "id": "6770d1ab-6467-4716-8105-363a3e866f74",
   "metadata": {},
   "outputs": [],
   "source": [
    "def compute_loss(X, y, theta, lambda_value):\n",
    "   \n",
    "    predictions = X.dot(theta)\n",
    "    errors = np.subtract(predictions, y)\n",
    "    sqrErrors = np.square(errors)\n",
    "    sqrthetas = np.square(theta)\n",
    "    regularization =  1 / (2 * m) * (lambda_value * np.sum(sqrthetas))\n",
    "    J = 1 / (2 * m) * np.sum(sqrErrors) + regularization\n",
    "  \n",
    "\n",
    "    return J"
   ]
  },
  {
   "cell_type": "code",
   "execution_count": 72,
   "id": "2200e6e1-a7d3-4d95-9f31-4da72f0cfc2d",
   "metadata": {},
   "outputs": [],
   "source": [
    "def compute_validation_loss(X_test, y_test, theta):\n",
    "   \n",
    "    predictions = X_test.dot(theta)\n",
    "    errors = np.subtract(predictions, y_test)\n",
    "    sqrErrors = np.square(errors)\n",
    "    J = 1 / (2 * m) * np.sum(sqrErrors)\n",
    "\n",
    "\n",
    "    return J"
   ]
  },
  {
   "cell_type": "code",
   "execution_count": 87,
   "id": "a42eb24f-edf1-4e95-888f-5b58b02198e4",
   "metadata": {},
   "outputs": [],
   "source": [
    " lambda_value = 0.01"
   ]
  },
  {
   "cell_type": "code",
   "execution_count": 88,
   "id": "5df940d4-03db-4ab6-883d-d2fcc6a18048",
   "metadata": {},
   "outputs": [
    {
     "name": "stdout",
     "output_type": "stream",
     "text": [
      "The loss for all thetas = 0.006102391037420944\n"
     ]
    }
   ],
   "source": [
    "loss = compute_loss(X, y, theta, lambda_value)\n",
    "print('The loss for all thetas =', loss)"
   ]
  },
  {
   "cell_type": "code",
   "execution_count": 89,
   "id": "70fd8e2d-459d-4443-b5b3-d579dc7d8131",
   "metadata": {},
   "outputs": [],
   "source": [
    "def gradient_descent(X, y, theta, alpha, iterations, X_test, y_test, lambda_value): \n",
    "     \n",
    "    loss_history = np.zeros(iterations)\n",
    "    validation_loss_history = np.zeros(iterations)\n",
    "    \n",
    "    for i in range(iterations):\n",
    "        predictions = X.dot(theta)\n",
    "        errors = np.subtract(predictions, y)\n",
    "        sum_delta = (alpha / m) * X.transpose().dot(errors) \n",
    "        theta = np.multiply(theta, (1 - (alpha * lambda_value / m))) - sum_delta\n",
    "        loss_history[i] = compute_loss(X, y, theta, lambda_value)\n",
    "        validation_loss_history[i] = compute_validation_loss(X_test, y_test, theta)\n",
    "        \n",
    "       \n",
    "    return theta, loss_history, validation_loss_history   "
   ]
  },
  {
   "cell_type": "code",
   "execution_count": 90,
   "id": "9689f1f6-3b81-4aba-adf4-0a6dc9d2dc2f",
   "metadata": {},
   "outputs": [],
   "source": [
    "theta = [0, 0, 0, 0, 0, 0]\n",
    "iterations = 5000;\n",
    "alpha = 0.1;"
   ]
  },
  {
   "cell_type": "code",
   "execution_count": 91,
   "id": "f95fde86-b415-4dc3-b967-94acd66b9c72",
   "metadata": {},
   "outputs": [
    {
     "name": "stdout",
     "output_type": "stream",
     "text": [
      "Final value of theta = [0.03614922 0.4311086  0.09913454 0.2059613  0.13662522 0.09094788]\n",
      "loss_history = [0.03825884 0.03099705 0.02558903 ... 0.00609742 0.00609742 0.00609742]\n",
      "validation_loss_history = [0.01058428 0.0085561  0.00703269 ... 0.00135587 0.00135587 0.00135587]\n"
     ]
    }
   ],
   "source": [
    "theta, loss_history, validation_loss_history = gradient_descent (X, y, theta, alpha, iterations, X_test, y_test, lambda_value)\n",
    "print('Final value of theta =', theta)\n",
    "print('loss_history =', loss_history)\n",
    "print('validation_loss_history =', validation_loss_history)"
   ]
  },
  {
   "cell_type": "code",
   "execution_count": 92,
   "id": "6bc35000-fd87-4438-b8db-9be3e05b44f2",
   "metadata": {},
   "outputs": [
    {
     "data": {
      "text/plain": [
       "<matplotlib.legend.Legend at 0x1fd3f0c0fd0>"
      ]
     },
     "execution_count": 92,
     "metadata": {},
     "output_type": "execute_result"
    },
    {
     "data": {
      "image/png": "[encoded data removed]",
      "text/plain": [
       "<Figure size 720x432 with 1 Axes>"
      ]
     },
     "metadata": {
      "needs_background": "light"
     },
     "output_type": "display_data"
    }
   ],
   "source": [
    "plt.scatter(X[:, 1], y, color = 'purple', marker = '*', label = 'Training Data')\n",
    "plt.plot(X[:, 1], X.dot(theta), color = 'green', label = 'Linear Regression')\n",
    "plt.scatter(X_test[:, 1], y_test, color = 'orange', marker = '*', label = 'Testing Data')\n",
    "plt.plot(X_test[:, 1], X_test.dot(theta), color = 'red', label = 'Linear Regression for Testing Data')\n",
    "\n",
    "plt.rcParams[\"figure.figsize\"] = (10, 6)\n",
    "plt.grid()\n",
    "plt.xlabel('Data Set values')\n",
    "plt.ylabel('Target values')\n",
    "plt.title('Linear Regression Fit')\n",
    "plt.legend()"
   ]
  },
  {
   "cell_type": "code",
   "execution_count": 93,
   "id": "3f325524-c4ed-409a-bafe-73c4646ea19a",
   "metadata": {},
   "outputs": [
    {
     "data": {
      "text/plain": [
       "Text(0.5, 1.0, 'Convergence of gradient descent')"
      ]
     },
     "execution_count": 93,
     "metadata": {},
     "output_type": "execute_result"
    },
    {
     "data": {
      "image/png": "[encoded data removed]",
      "text/plain": [
       "<Figure size 720x432 with 1 Axes>"
      ]
     },
     "metadata": {
      "needs_background": "light"
     },
     "output_type": "display_data"
    }
   ],
   "source": [
    "plt.plot(range(1, iterations + 1), loss_history, color = 'blue')\n",
    "plt.plot(range(1, iterations + 1), validation_loss_history, color = 'red')\n",
    "plt.rcParams[\"figure.figsize\"] = (10, 6)\n",
    "plt.grid()\n",
    "plt.xlabel('number of iterations')\n",
    "plt.ylabel('loss (J)')\n",
    "plt.title('Convergence of gradient descent')"
   ]
  },
  {
   "cell_type": "code",
   "execution_count": null,
   "id": "6b143468-e25b-4d87-9e0f-009613746ba9",
   "metadata": {},
   "outputs": [],
   "source": []
  },
  {
   "cell_type": "code",
   "execution_count": null,
   "id": "aa1294ce-50a7-46fd-b3fb-1ae4a87c7478",
   "metadata": {},
   "outputs": [],
   "source": []
  }
 ],
 "metadata": {
  "kernelspec": {
   "display_name": "Python 3 (ipykernel)",
   "language": "python",
   "name": "python3"
  },
  "language_info": {
   "codemirror_mode": {
    "name": "ipython",
    "version": 3
   },
   "file_extension": ".py",
   "mimetype": "text/x-python",
   "name": "python",
   "nbconvert_exporter": "python",
   "pygments_lexer": "ipython3",
   "version": "3.9.12"
  }
 },
 "nbformat": 4,
 "nbformat_minor": 5
}

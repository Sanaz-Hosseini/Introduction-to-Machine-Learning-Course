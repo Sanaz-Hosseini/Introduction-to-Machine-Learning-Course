{
 "cells": [
  {
   "cell_type": "code",
   "execution_count": 1,
   "id": "df3940ec-f757-4a01-aff8-76c4af468ba2",
   "metadata": {},
   "outputs": [],
   "source": [
    "# \"Sanaz Hosseini\"- University of North Carolina at Charlotte\n",
    "# Introduction to Machine Learning Class - Instructor: Prof. Hamed Tabkhi\n",
    "# Fully Connected Neural Networks VS Convolutional Neural Network\n",
    "# Homework 6"
   ]
  },
  {
   "cell_type": "code",
   "execution_count": 28,
   "id": "fd99be42-06d5-4291-9412-8a67017f601b",
   "metadata": {},
   "outputs": [
    {
     "data": {
      "text/plain": [
       "<torch._C.Generator at 0x25739830970>"
      ]
     },
     "execution_count": 28,
     "metadata": {},
     "output_type": "execute_result"
    }
   ],
   "source": [
    "%matplotlib inline\n",
    "from matplotlib import pyplot as plt\n",
    "import numpy as np\n",
    "import collections\n",
    "\n",
    "import torch\n",
    "import torch.nn as nn\n",
    "import torch.nn.functional as F\n",
    "import torch.optim as optim\n",
    "\n",
    "torch.set_printoptions(edgeitems=2)\n",
    "torch.manual_seed(123)"
   ]
  },
  {
   "cell_type": "code",
   "execution_count": 29,
   "id": "d748f010-1f17-49f2-9c60-d4a3437376e0",
   "metadata": {},
   "outputs": [
    {
     "name": "stdout",
     "output_type": "stream",
     "text": [
      "Files already downloaded and verified\n"
     ]
    }
   ],
   "source": [
    "from torchvision import datasets, transforms\n",
    "data_path = '../data-unversioned/p1ch7/'\n",
    "cifar10 = datasets.CIFAR10(\n",
    "    data_path, train=True, download=True,\n",
    "    transform=transforms.Compose([\n",
    "        transforms.ToTensor(),\n",
    "        transforms.Normalize((0.4915, 0.4823, 0.4468),\n",
    "                             (0.2470, 0.2435, 0.2616))\n",
    "    ]))"
   ]
  },
  {
   "cell_type": "code",
   "execution_count": 30,
   "id": "1351b6eb-31d0-4add-9843-f61894a10b50",
   "metadata": {},
   "outputs": [
    {
     "name": "stdout",
     "output_type": "stream",
     "text": [
      "cuda\n"
     ]
    }
   ],
   "source": [
    "torch.cuda.is_available()\n",
    "device = torch.device(\"cuda\" if torch.cuda.is_available() else \"cpu\")\n",
    "print(device)"
   ]
  },
  {
   "cell_type": "code",
   "execution_count": 31,
   "id": "b8b0a5f1-06b2-41f6-8d64-52740897e71b",
   "metadata": {},
   "outputs": [],
   "source": [
    "cifar10_val = datasets.CIFAR10(\n",
    "    data_path, train=False, download=False,\n",
    "    transform=transforms.Compose([\n",
    "        transforms.ToTensor(),\n",
    "        transforms.Normalize((0.4915, 0.4823, 0.4468),\n",
    "                             (0.2470, 0.2435, 0.2616))\n",
    "    ]))"
   ]
  },
  {
   "cell_type": "code",
   "execution_count": 32,
   "id": "c16dfede-46f4-4771-b3ec-b88ca5ca0078",
   "metadata": {},
   "outputs": [],
   "source": [
    "connected_model = nn.Sequential(\n",
    "            nn.Linear(3072, 1024),\n",
    "            nn.Tanh(),\n",
    "            nn.Linear(1024, 512),\n",
    "            nn.Tanh(),\n",
    "            nn.Linear(512, 128),\n",
    "            nn.Tanh(),\n",
    "            nn.Linear(128, 2))"
   ]
  },
  {
   "cell_type": "code",
   "execution_count": 47,
   "id": "746e023e-ffa4-468e-b4a9-7bc0ab4fb2b6",
   "metadata": {},
   "outputs": [
    {
     "data": {
      "text/plain": [
       "(torch.Size([1, 3, 32, 32]), torch.Size([1, 3, 16, 16]))"
      ]
     },
     "execution_count": 47,
     "metadata": {},
     "output_type": "execute_result"
    }
   ],
   "source": [
    "pool = nn.MaxPool2d(2)\n",
    "output = pool(img.unsqueeze(0))\n",
    "\n",
    "img.unsqueeze(0).shape, output.shape"
   ]
  },
  {
   "cell_type": "code",
   "execution_count": 49,
   "id": "a77c8e4d-eafb-447c-a857-763a78b4f8dc",
   "metadata": {},
   "outputs": [],
   "source": [
    "model = nn.Sequential(\n",
    "            nn.Conv2d(3, 16, kernel_size=3, padding=1),\n",
    "            nn.ReLU(),\n",
    "            nn.MaxPool2d(2),\n",
    "            nn.Conv2d(16, 8, kernel_size=3, padding=1),\n",
    "            nn.ReLU(),\n",
    "            nn.MaxPool2d(2),\n",
    "            # ... <1>\n",
    "            nn.Linear(8 * 8 * 8, 32),\n",
    "            nn.ReLU(),\n",
    "            nn.Linear(32, 10))"
   ]
  },
  {
   "cell_type": "code",
   "execution_count": 50,
   "id": "2f51c0ff-bcd2-4d46-af0b-b74ff550fd55",
   "metadata": {},
   "outputs": [
    {
     "data": {
      "text/plain": [
       "(18354, [432, 16, 1152, 8, 16384, 32, 320, 10])"
      ]
     },
     "execution_count": 50,
     "metadata": {},
     "output_type": "execute_result"
    }
   ],
   "source": [
    "numel_list = [p.numel() for p in model.parameters()]\n",
    "sum(numel_list), numel_list"
   ]
  },
  {
   "cell_type": "code",
   "execution_count": 51,
   "id": "83c2e0e3-2bea-4169-905d-c5056b5587e3",
   "metadata": {},
   "outputs": [],
   "source": [
    "class Net(nn.Module):\n",
    "    def __init__(self):\n",
    "        super().__init__()\n",
    "        self.conv1 = nn.Conv2d(3, 16, kernel_size=3, padding=1)\n",
    "        self.act1 = nn.ReLU()\n",
    "        self.pool1 = nn.MaxPool2d(2)\n",
    "        self.conv2 = nn.Conv2d(16, 8, kernel_size=3, padding=1)\n",
    "        self.act2 = nn.ReLU()\n",
    "        self.pool2 = nn.MaxPool2d(2)\n",
    "        self.fc1 = nn.Linear(8 * 8 * 8, 32)\n",
    "        self.act3 = nn.ReLU()\n",
    "        self.fc2 = nn.Linear(32, 10)\n",
    "\n",
    "    def forward(self, x):\n",
    "        out = self.pool1(self.act1(self.conv1(x)))\n",
    "        out = self.pool2(self.act2(self.conv2(out)))\n",
    "        out = out.view(-1, 8 * 8 * 8) # <1>\n",
    "        out = self.act3(self.fc1(out))\n",
    "        out = self.fc2(out)\n",
    "        return out"
   ]
  },
  {
   "cell_type": "code",
   "execution_count": 52,
   "id": "3f61097f-c115-475b-ae6b-fb41c8e58e0c",
   "metadata": {},
   "outputs": [
    {
     "data": {
      "text/plain": [
       "(18354, [432, 16, 1152, 8, 16384, 32, 320, 10])"
      ]
     },
     "execution_count": 52,
     "metadata": {},
     "output_type": "execute_result"
    }
   ],
   "source": [
    "net = Net().to(device)\n",
    "model = net\n",
    "\n",
    "numel_list = [p.numel() for p in model.parameters()]\n",
    "sum(numel_list), numel_list"
   ]
  },
  {
   "cell_type": "code",
   "execution_count": 53,
   "id": "67798904-3687-40cd-8eac-1b43c9e00d83",
   "metadata": {},
   "outputs": [],
   "source": [
    "import datetime  \n",
    "def training_loop(n_epochs, optimizer, model, loss_fn, train_loader):\n",
    "    for epoch in range(1, n_epochs + 1):\n",
    "        loss_train = 0.0\n",
    "        for imgs, labels in train_loader: \n",
    "            imgs=imgs.to(device)\n",
    "            labels=labels.to(device)\n",
    "            outputs = model(imgs)  \n",
    "            \n",
    "            loss = loss_fn(outputs, labels)  \n",
    "\n",
    "            optimizer.zero_grad()  # <6>\n",
    "            torch.cuda.empty_cache()\n",
    "            loss.backward()  # <7>\n",
    "            \n",
    "            optimizer.step()  # <8>\n",
    "\n",
    "            loss_train += loss.item()  # <9>\n",
    "\n",
    "        if epoch == 1 or epoch % 10 == 0:\n",
    "            print('{} Epoch {}, Training loss {}'.format(\n",
    "                datetime.datetime.now(), epoch,\n",
    "                loss_train / len(train_loader)))  "
   ]
  },
  {
   "cell_type": "code",
   "execution_count": 54,
   "id": "8213a025-3466-4197-9590-fb67d7593f05",
   "metadata": {},
   "outputs": [
    {
     "name": "stdout",
     "output_type": "stream",
     "text": [
      "2022-12-09 16:24:53.726383 Epoch 1, Training loss 1.5969569301971085\n",
      "2022-12-09 16:26:33.620631 Epoch 10, Training loss 0.941930848009446\n",
      "2022-12-09 16:28:25.254214 Epoch 20, Training loss 0.8455477518498745\n",
      "2022-12-09 16:30:16.121236 Epoch 30, Training loss 0.7957698280930214\n",
      "2022-12-09 16:32:07.078939 Epoch 40, Training loss 0.7575397560434878\n",
      "2022-12-09 16:33:58.007571 Epoch 50, Training loss 0.7336059413526369\n",
      "2022-12-09 16:35:48.876045 Epoch 60, Training loss 0.7184137679884196\n",
      "2022-12-09 16:37:39.740326 Epoch 70, Training loss 0.702943022713027\n",
      "2022-12-09 16:39:31.225206 Epoch 80, Training loss 0.6963445035088093\n",
      "2022-12-09 16:41:22.291659 Epoch 90, Training loss 0.6853845470854084\n",
      "2022-12-09 16:43:13.258899 Epoch 100, Training loss 0.6768112976456542\n",
      "2022-12-09 16:45:04.459903 Epoch 110, Training loss 0.6669894383310357\n",
      "2022-12-09 16:46:55.519234 Epoch 120, Training loss 0.6631187418537676\n",
      "2022-12-09 16:48:46.872908 Epoch 130, Training loss 0.6564832356427331\n",
      "2022-12-09 16:50:38.089879 Epoch 140, Training loss 0.6496198643427675\n",
      "2022-12-09 16:52:29.245453 Epoch 150, Training loss 0.6472947360457056\n",
      "2022-12-09 16:54:20.983877 Epoch 160, Training loss 0.6433321285583175\n",
      "2022-12-09 16:56:27.584804 Epoch 170, Training loss 0.6371854144289061\n",
      "2022-12-09 16:58:19.688919 Epoch 180, Training loss 0.6385627440403184\n",
      "2022-12-09 17:00:10.798041 Epoch 190, Training loss 0.635079296462981\n",
      "2022-12-09 17:02:02.085412 Epoch 200, Training loss 0.631993869724481\n",
      "2022-12-09 17:03:53.226569 Epoch 210, Training loss 0.6323009473664681\n",
      "2022-12-09 17:05:44.529337 Epoch 220, Training loss 0.6269214865191818\n",
      "2022-12-09 17:07:36.729092 Epoch 230, Training loss 0.6246173542250147\n",
      "2022-12-09 17:09:28.612221 Epoch 240, Training loss 0.6234073352707011\n",
      "2022-12-09 17:11:20.567463 Epoch 250, Training loss 0.623932046696658\n",
      "2022-12-09 17:13:24.328327 Epoch 260, Training loss 0.6202465120102744\n",
      "2022-12-09 17:15:18.668085 Epoch 270, Training loss 0.6174109011050075\n",
      "2022-12-09 17:17:09.890211 Epoch 280, Training loss 0.6154735073485338\n",
      "2022-12-09 17:19:01.358447 Epoch 290, Training loss 0.616159019720219\n",
      "2022-12-09 17:20:52.630585 Epoch 300, Training loss 0.6129950327260415\n"
     ]
    }
   ],
   "source": [
    "train_loader = torch.utils.data.DataLoader(cifar10, batch_size=64, shuffle=True)  \n",
    "\n",
    "model = Net().to(device)  \n",
    "optimizer = optim.Adam(model.parameters(), lr=1e-3) \n",
    "loss_fn = nn.CrossEntropyLoss()  #  <4>\n",
    "\n",
    "training_loop(  \n",
    "    n_epochs = 300,\n",
    "    optimizer = optimizer,\n",
    "    model = model,\n",
    "    loss_fn = loss_fn,\n",
    "    train_loader = train_loader,\n",
    ")"
   ]
  },
  {
   "cell_type": "code",
   "execution_count": 55,
   "id": "d299106f-3973-4353-ac01-a9cdb086c8ae",
   "metadata": {},
   "outputs": [
    {
     "name": "stdout",
     "output_type": "stream",
     "text": [
      "Accuracy train: 0.79\n",
      "Accuracy val: 0.64\n"
     ]
    }
   ],
   "source": [
    "train_loader = torch.utils.data.DataLoader(cifar10, batch_size=64,\n",
    "                                           shuffle=False)\n",
    "val_loader = torch.utils.data.DataLoader(cifar10_val, batch_size=64,\n",
    "                                         shuffle=False)\n",
    "\n",
    "def validate(model, train_loader, val_loader):\n",
    "    for name, loader in [(\"train\", train_loader), (\"val\", val_loader)]:\n",
    "        correct = 0\n",
    "        total = 0\n",
    "\n",
    "        with torch.no_grad():  # <1>\n",
    "            for imgs, labels in loader:\n",
    "                imgs=imgs.to(device)\n",
    "                labels=labels.to(device)\n",
    "                outputs = model(imgs)\n",
    "                _, predicted = torch.max(outputs, dim=1) # <2>\n",
    "                total += labels.shape[0]  # <3>\n",
    "                correct += int((predicted == labels).sum())  # <4>\n",
    "\n",
    "        print(\"Accuracy {}: {:.2f}\".format(name , correct / total))\n",
    "\n",
    "validate(model, train_loader, val_loader)"
   ]
  }
 ],
 "metadata": {
  "kernelspec": {
   "display_name": "Python 3 (ipykernel)",
   "language": "python",
   "name": "python3"
  },
  "language_info": {
   "codemirror_mode": {
    "name": "ipython",
    "version": 3
   },
   "file_extension": ".py",
   "mimetype": "text/x-python",
   "name": "python",
   "nbconvert_exporter": "python",
   "pygments_lexer": "ipython3",
   "version": "3.9.13"
  }
 },
 "nbformat": 4,
 "nbformat_minor": 5
}

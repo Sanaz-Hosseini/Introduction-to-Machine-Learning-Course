{
 "cells": [
  {
   "cell_type": "code",
   "execution_count": 74,
   "id": "bb12c6a0-0415-4f23-9d88-8ee69139de88",
   "metadata": {
    "tags": []
   },
   "outputs": [],
   "source": [
    "import numpy as np\n",
    "import pandas as pd\n",
    "import matplotlib.pyplot as plt"
   ]
  },
  {
   "cell_type": "code",
   "execution_count": 75,
   "id": "9a947d90-6d6b-4c95-bd11-21583b7ce509",
   "metadata": {},
   "outputs": [],
   "source": [
    "df = pd.read_csv('D3.csv')"
   ]
  },
  {
   "cell_type": "code",
   "execution_count": 76,
   "id": "31c0b94d-8e80-4b3a-a21a-85b1a201cb6c",
   "metadata": {},
   "outputs": [
    {
     "data": {
      "text/html": [
       "<div>\n",
       "<style scoped>\n",
       "    .dataframe tbody tr th:only-of-type {\n",
       "        vertical-align: middle;\n",
       "    }\n",
       "\n",
       "    .dataframe tbody tr th {\n",
       "        vertical-align: top;\n",
       "    }\n",
       "\n",
       "    .dataframe thead th {\n",
       "        text-align: right;\n",
       "    }\n",
       "</style>\n",
       "<table border=\"1\" class=\"dataframe\">\n",
       "  <thead>\n",
       "    <tr style=\"text-align: right;\">\n",
       "      <th></th>\n",
       "      <th>X1</th>\n",
       "      <th>X2</th>\n",
       "      <th>X3</th>\n",
       "      <th>Y</th>\n",
       "    </tr>\n",
       "  </thead>\n",
       "  <tbody>\n",
       "    <tr>\n",
       "      <th>0</th>\n",
       "      <td>0.000000</td>\n",
       "      <td>3.440000</td>\n",
       "      <td>0.440000</td>\n",
       "      <td>4.387545</td>\n",
       "    </tr>\n",
       "    <tr>\n",
       "      <th>1</th>\n",
       "      <td>0.040404</td>\n",
       "      <td>0.134949</td>\n",
       "      <td>0.888485</td>\n",
       "      <td>2.679650</td>\n",
       "    </tr>\n",
       "    <tr>\n",
       "      <th>2</th>\n",
       "      <td>0.080808</td>\n",
       "      <td>0.829899</td>\n",
       "      <td>1.336970</td>\n",
       "      <td>2.968490</td>\n",
       "    </tr>\n",
       "    <tr>\n",
       "      <th>3</th>\n",
       "      <td>0.121212</td>\n",
       "      <td>1.524848</td>\n",
       "      <td>1.785455</td>\n",
       "      <td>3.254065</td>\n",
       "    </tr>\n",
       "    <tr>\n",
       "      <th>4</th>\n",
       "      <td>0.161616</td>\n",
       "      <td>2.219798</td>\n",
       "      <td>2.233939</td>\n",
       "      <td>3.536375</td>\n",
       "    </tr>\n",
       "    <tr>\n",
       "      <th>...</th>\n",
       "      <td>...</td>\n",
       "      <td>...</td>\n",
       "      <td>...</td>\n",
       "      <td>...</td>\n",
       "    </tr>\n",
       "    <tr>\n",
       "      <th>95</th>\n",
       "      <td>3.838384</td>\n",
       "      <td>1.460202</td>\n",
       "      <td>3.046061</td>\n",
       "      <td>-4.440595</td>\n",
       "    </tr>\n",
       "    <tr>\n",
       "      <th>96</th>\n",
       "      <td>3.878788</td>\n",
       "      <td>2.155152</td>\n",
       "      <td>3.494545</td>\n",
       "      <td>-4.458663</td>\n",
       "    </tr>\n",
       "    <tr>\n",
       "      <th>97</th>\n",
       "      <td>3.919192</td>\n",
       "      <td>2.850101</td>\n",
       "      <td>3.943030</td>\n",
       "      <td>-4.479995</td>\n",
       "    </tr>\n",
       "    <tr>\n",
       "      <th>98</th>\n",
       "      <td>3.959596</td>\n",
       "      <td>3.545051</td>\n",
       "      <td>0.391515</td>\n",
       "      <td>-3.304593</td>\n",
       "    </tr>\n",
       "    <tr>\n",
       "      <th>99</th>\n",
       "      <td>4.000000</td>\n",
       "      <td>0.240000</td>\n",
       "      <td>0.840000</td>\n",
       "      <td>-5.332455</td>\n",
       "    </tr>\n",
       "  </tbody>\n",
       "</table>\n",
       "<p>100 rows × 4 columns</p>\n",
       "</div>"
      ],
      "text/plain": [
       "          X1        X2        X3         Y\n",
       "0   0.000000  3.440000  0.440000  4.387545\n",
       "1   0.040404  0.134949  0.888485  2.679650\n",
       "2   0.080808  0.829899  1.336970  2.968490\n",
       "3   0.121212  1.524848  1.785455  3.254065\n",
       "4   0.161616  2.219798  2.233939  3.536375\n",
       "..       ...       ...       ...       ...\n",
       "95  3.838384  1.460202  3.046061 -4.440595\n",
       "96  3.878788  2.155152  3.494545 -4.458663\n",
       "97  3.919192  2.850101  3.943030 -4.479995\n",
       "98  3.959596  3.545051  0.391515 -3.304593\n",
       "99  4.000000  0.240000  0.840000 -5.332455\n",
       "\n",
       "[100 rows x 4 columns]"
      ]
     },
     "execution_count": 76,
     "metadata": {},
     "output_type": "execute_result"
    }
   ],
   "source": [
    "df.head(100)"
   ]
  },
  {
   "cell_type": "code",
   "execution_count": 77,
   "id": "401fea48-8e00-4f88-add9-b223d15d08b9",
   "metadata": {},
   "outputs": [
    {
     "data": {
      "text/plain": [
       "100"
      ]
     },
     "execution_count": 77,
     "metadata": {},
     "output_type": "execute_result"
    }
   ],
   "source": [
    "len(df)"
   ]
  },
  {
   "cell_type": "code",
   "execution_count": 78,
   "id": "e9499a7a-0d91-42a8-9e9c-e0bbf5cf6593",
   "metadata": {},
   "outputs": [
    {
     "name": "stdout",
     "output_type": "stream",
     "text": [
      "x = [0.         0.04040404 0.08080808 0.12121212 0.16161616 0.2020202\n",
      " 0.24242424 0.28282828 0.32323232 0.36363636 0.4040404  0.44444444\n",
      " 0.48484848 0.52525252 0.56565657 0.60606061 0.64646465 0.68686869\n",
      " 0.72727273 0.76767677 0.80808081 0.84848485 0.88888889 0.92929293\n",
      " 0.96969697 1.01010101 1.05050505 1.09090909 1.13131313 1.17171717\n",
      " 1.21212121 1.25252525 1.29292929 1.33333333 1.37373737 1.41414141\n",
      " 1.45454546 1.49494949 1.53535354 1.57575758 1.61616162 1.65656566\n",
      " 1.6969697  1.73737374 1.77777778 1.81818182 1.85858586 1.8989899\n",
      " 1.93939394 1.97979798 2.02020202 2.06060606 2.1010101  2.14141414\n",
      " 2.18181818 2.22222222 2.26262626 2.3030303  2.34343434 2.38383838\n",
      " 2.42424242 2.46464646 2.5050505  2.54545455 2.58585859 2.62626263\n",
      " 2.66666667 2.70707071 2.74747475 2.78787879 2.82828283 2.86868687\n",
      " 2.90909091 2.94949495 2.98989899 3.03030303 3.07070707 3.11111111\n",
      " 3.15151515 3.19191919 3.23232323 3.27272727 3.31313131 3.35353535\n",
      " 3.39393939 3.43434343 3.47474748 3.51515151 3.55555556 3.5959596\n",
      " 3.63636364 3.67676768 3.71717172 3.75757576 3.7979798  3.83838384\n",
      " 3.87878788 3.91919192 3.95959596 4.        ]\n",
      "y = [ 4.38754501  2.6796499   2.96848981  3.25406475  3.53637472  3.81541972\n",
      "  4.09119974  2.36371479  3.83296487  4.09894997  4.3616701   4.62112526\n",
      "  4.87731544  3.13024065  3.37990089  3.62629616  3.86942645  5.30929177\n",
      "  5.54589212  3.77922749  4.00929789  4.23610332  4.45964378  4.67991926\n",
      "  2.89692977  3.1106753   4.52115587  4.72837146  4.93232208  5.13300772\n",
      "  3.33042839  3.52458409  3.71547481  3.90310057  4.08746135  5.46855715\n",
      "  3.64638799  3.82095385  3.99225473  4.16029065  4.32506159  4.48656756\n",
      "  2.64480856  2.79978458  4.15149563  4.29994171  4.44512281  2.58703894\n",
      "  2.7256901   2.86107628  2.99319749  3.12205374  3.247645    2.56997129\n",
      "  2.68903261  2.80482896  2.91736034  3.02662674  3.13262817  1.23536462\n",
      "  1.3348361   1.43104261  2.72398415  2.81366071  2.9000723   0.98321892\n",
      "  1.06310057  1.13971724  1.21306894  1.28315566 -0.65002258  0.6135342\n",
      "  0.673826    0.73085284  0.7846147   0.83511159 -1.1176565  -1.07368956\n",
      " -1.03298759 -0.99555059  0.23862143  0.26952848 -1.70282944 -1.67845234\n",
      " -1.6573402  -1.63949305 -1.62491086 -1.61359365 -3.60554141 -2.40075414\n",
      " -2.39923185 -2.40097453 -2.40598218 -4.4142548  -4.4257924  -4.44059497\n",
      " -4.45866252 -4.47999504 -3.30459253 -5.33245499]\n",
      "m = 100\n"
     ]
    },
    {
     "data": {
      "text/plain": [
       "100"
      ]
     },
     "execution_count": 78,
     "metadata": {},
     "output_type": "execute_result"
    }
   ],
   "source": [
    "x = df.values[:, 0]\n",
    "y = df.values[:, 3]\n",
    "m = len(y)\n",
    "print('x =', x[: 100])\n",
    "print('y =', y[: 100])\n",
    "print('m =', m)\n",
    "len(x)"
   ]
  },
  {
   "cell_type": "code",
   "execution_count": 79,
   "id": "1a7e6fa3-2cb1-4282-9617-ee976baedf10",
   "metadata": {},
   "outputs": [
    {
     "data": {
      "text/plain": [
       "Text(0.5, 1.0, 'Scatter Plot of Training Data')"
      ]
     },
     "execution_count": 79,
     "metadata": {},
     "output_type": "execute_result"
    },
    {
     "data": {
      "image/png": "[encoded data removed]",
      "text/plain": [
       "<Figure size 720x432 with 1 Axes>"
      ]
     },
     "metadata": {
      "needs_background": "light"
     },
     "output_type": "display_data"
    }
   ],
   "source": [
    "plt.scatter(x, y, color = 'purple', marker = '*')\n",
    "plt.grid()\n",
    "plt.rcParams[\"figure.figsize\"] = (10,6)\n",
    "plt.xlabel('Explanatory Variable_x')\n",
    "plt.ylabel('Target Values_y')\n",
    "plt.title('Scatter Plot of Training Data')"
   ]
  },
  {
   "cell_type": "code",
   "execution_count": 80,
   "id": "69316045-277b-4cbb-a023-a454bfbda19b",
   "metadata": {},
   "outputs": [
    {
     "data": {
      "text/plain": [
       "array([[1.],\n",
       "       [1.],\n",
       "       [1.],\n",
       "       [1.],\n",
       "       [1.]])"
      ]
     },
     "execution_count": 80,
     "metadata": {},
     "output_type": "execute_result"
    }
   ],
   "source": [
    "x_0 = np.ones((m, 1))\n",
    "x_0[: 5]"
   ]
  },
  {
   "cell_type": "code",
   "execution_count": 81,
   "id": "02333a20-a838-46e2-a452-652b020a108d",
   "metadata": {},
   "outputs": [
    {
     "data": {
      "text/plain": [
       "array([[0.        ],\n",
       "       [0.04040404],\n",
       "       [0.08080808],\n",
       "       [0.12121212],\n",
       "       [0.16161616]])"
      ]
     },
     "execution_count": 81,
     "metadata": {},
     "output_type": "execute_result"
    }
   ],
   "source": [
    "x_1 = x.reshape(m, 1)\n",
    "x_1[: 5]"
   ]
  },
  {
   "cell_type": "code",
   "execution_count": 82,
   "id": "b375a74d-f411-4414-8db9-5d0e1fbb8b61",
   "metadata": {},
   "outputs": [
    {
     "data": {
      "text/plain": [
       "array([[1.        , 0.        ],\n",
       "       [1.        , 0.04040404],\n",
       "       [1.        , 0.08080808],\n",
       "       [1.        , 0.12121212],\n",
       "       [1.        , 0.16161616]])"
      ]
     },
     "execution_count": 82,
     "metadata": {},
     "output_type": "execute_result"
    }
   ],
   "source": [
    "x = np.hstack((x_0, x_1))\n",
    "x[: 5]"
   ]
  },
  {
   "cell_type": "code",
   "execution_count": 83,
   "id": "d75d99fb-548d-460f-8fb6-e592d8ae5c7b",
   "metadata": {},
   "outputs": [
    {
     "data": {
      "text/plain": [
       "array([[0.],\n",
       "       [0.]])"
      ]
     },
     "execution_count": 83,
     "metadata": {},
     "output_type": "execute_result"
    }
   ],
   "source": [
    "theta = np.zeros((2, 1))\n",
    "theta"
   ]
  },
  {
   "cell_type": "code",
   "execution_count": 84,
   "id": "4ae2f8d1-5505-420a-8b9a-046ba85fe249",
   "metadata": {},
   "outputs": [],
   "source": [
    "def compute_loss(x, y, theta):\n",
    "  \n",
    "    predictions = x.dot(theta)\n",
    "    errors = np.subtract(predictions, y)\n",
    "    sqrErrors = np.square(errors)\n",
    "    J = 1 / (2 * m) * np.sum(sqrErrors)\n",
    "\n",
    "\n",
    "    return J"
   ]
  },
  {
   "cell_type": "code",
   "execution_count": 85,
   "id": "ab4c1719-fac2-4183-a95b-348e9a010f5b",
   "metadata": {},
   "outputs": [
    {
     "name": "stdout",
     "output_type": "stream",
     "text": [
      "The loss for given values of theta_0 and theta_1 = 552.4438459196241\n"
     ]
    }
   ],
   "source": [
    "loss = compute_loss(x, y, theta)\n",
    "print('The loss for given values of theta_0 and theta_1 =', loss)"
   ]
  },
  {
   "cell_type": "code",
   "execution_count": 86,
   "id": "ac49bddf-ebf1-4036-ba02-3ca593996e0a",
   "metadata": {},
   "outputs": [],
   "source": [
    "def gradient_descent(x, y, theta, alpha, iterations): \n",
    "\n",
    "    loss_history = np.zeros(iterations)\n",
    "    \n",
    "    for i in range(iterations):\n",
    "        predictions = x.dot(theta)\n",
    "        errors = np.subtract(predictions, y)\n",
    "        sum_delta = (alpha / m) * x.transpose().dot(errors);\n",
    "        theta = theta - sum_delta;\n",
    "        loss_history[i] = compute_loss(x, y, theta)\n",
    "        \n",
    "    return theta, loss_history    "
   ]
  },
  {
   "cell_type": "code",
   "execution_count": 109,
   "id": "9fea4a20-aecd-471a-9080-c94555f53806",
   "metadata": {},
   "outputs": [],
   "source": [
    "theta = [0, 0]\n",
    "iterations = 5000;\n",
    "alpha = 0.01;"
   ]
  },
  {
   "cell_type": "code",
   "execution_count": 110,
   "id": "ecc88a4f-11e6-4919-9dbd-511988d75938",
   "metadata": {},
   "outputs": [
    {
     "name": "stdout",
     "output_type": "stream",
     "text": [
      "Final value of theta = [ 5.92785998 -2.03830202]\n",
      "loss_history = [5.48226715 5.44290965 5.40604087 ... 0.98499308 0.98499308 0.98499308]\n"
     ]
    }
   ],
   "source": [
    "theta, loss_history = gradient_descent (x, y, theta, alpha, iterations)\n",
    "print('Final value of theta =', theta)\n",
    "print('loss_history =', loss_history)"
   ]
  },
  {
   "cell_type": "code",
   "execution_count": 111,
   "id": "af134f02-3512-433d-9e0a-349cb79760c6",
   "metadata": {},
   "outputs": [
    {
     "data": {
      "text/plain": [
       "<matplotlib.legend.Legend at 0x2cb955d32b0>"
      ]
     },
     "execution_count": 111,
     "metadata": {},
     "output_type": "execute_result"
    },
    {
     "data": {
      "image/png": "[encoded data removed]",
      "text/plain": [
       "<Figure size 720x432 with 1 Axes>"
      ]
     },
     "metadata": {
      "needs_background": "light"
     },
     "output_type": "display_data"
    }
   ],
   "source": [
    "plt.scatter(x[:, 1], y, color = 'purple', marker = '*', label = 'Training Data')\n",
    "plt.plot(x[:, 1], x.dot(theta), color = 'green', label = 'Linear Regression')\n",
    "\n",
    "plt.rcParams[\"figure.figsize\"] = (10, 6)\n",
    "plt.grid()\n",
    "plt.xlabel('Data Set values')\n",
    "plt.ylabel('Target values')\n",
    "plt.title('Linear Regression Fit')\n",
    "plt.legend()"
   ]
  },
  {
   "cell_type": "code",
   "execution_count": 112,
   "id": "24b58383-f52b-4e5f-a163-af93e404ed7c",
   "metadata": {},
   "outputs": [
    {
     "data": {
      "text/plain": [
       "Text(0.5, 1.0, 'Convergence of gradient descent')"
      ]
     },
     "execution_count": 112,
     "metadata": {},
     "output_type": "execute_result"
    },
    {
     "data": {
      "image/png": "[encoded data removed]",
      "text/plain": [
       "<Figure size 720x432 with 1 Axes>"
      ]
     },
     "metadata": {
      "needs_background": "light"
     },
     "output_type": "display_data"
    }
   ],
   "source": [
    "plt.plot(range(1, iterations + 1), loss_history, color = 'blue')\n",
    "plt.rcParams[\"figure.figsize\"] = (10, 6)\n",
    "plt.grid()\n",
    "plt.xlabel('number of iterations')\n",
    "plt.ylabel('loss (J)')\n",
    "plt.title('Convergence of gradient descent')"
   ]
  },
  {
   "cell_type": "code",
   "execution_count": null,
   "id": "a03e884c-9e42-4553-8276-1e7e1eac282e",
   "metadata": {},
   "outputs": [],
   "source": []
  }
 ],
 "metadata": {
  "kernelspec": {
   "display_name": "Python 3 (ipykernel)",
   "language": "python",
   "name": "python3"
  },
  "language_info": {
   "codemirror_mode": {
    "name": "ipython",
    "version": 3
   },
   "file_extension": ".py",
   "mimetype": "text/x-python",
   "name": "python",
   "nbconvert_exporter": "python",
   "pygments_lexer": "ipython3",
   "version": "3.9.12"
  }
 },
 "nbformat": 4,
 "nbformat_minor": 5
}

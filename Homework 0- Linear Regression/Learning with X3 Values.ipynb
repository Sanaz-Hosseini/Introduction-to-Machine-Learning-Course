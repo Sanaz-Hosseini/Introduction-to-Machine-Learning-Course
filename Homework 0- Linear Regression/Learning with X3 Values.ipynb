{
 "cells": [
  {
   "cell_type": "code",
   "execution_count": 77,
   "id": "058bcc90-6fa0-4092-947f-dbc353841f81",
   "metadata": {
    "tags": []
   },
   "outputs": [],
   "source": [
    "import numpy as np\n",
    "import pandas as pd\n",
    "import matplotlib.pyplot as plt"
   ]
  },
  {
   "cell_type": "code",
   "execution_count": 78,
   "id": "38e8e9f8-a9f0-44a8-8c84-c803221a7efe",
   "metadata": {},
   "outputs": [],
   "source": [
    "df = pd.read_csv('D3.csv')"
   ]
  },
  {
   "cell_type": "code",
   "execution_count": 79,
   "id": "652c51c9-3808-4643-8e4a-48e4fa0cad7d",
   "metadata": {},
   "outputs": [
    {
     "data": {
      "text/html": [
       "<div>\n",
       "<style scoped>\n",
       "    .dataframe tbody tr th:only-of-type {\n",
       "        vertical-align: middle;\n",
       "    }\n",
       "\n",
       "    .dataframe tbody tr th {\n",
       "        vertical-align: top;\n",
       "    }\n",
       "\n",
       "    .dataframe thead th {\n",
       "        text-align: right;\n",
       "    }\n",
       "</style>\n",
       "<table border=\"1\" class=\"dataframe\">\n",
       "  <thead>\n",
       "    <tr style=\"text-align: right;\">\n",
       "      <th></th>\n",
       "      <th>X1</th>\n",
       "      <th>X2</th>\n",
       "      <th>X3</th>\n",
       "      <th>Y</th>\n",
       "    </tr>\n",
       "  </thead>\n",
       "  <tbody>\n",
       "    <tr>\n",
       "      <th>0</th>\n",
       "      <td>0.000000</td>\n",
       "      <td>3.440000</td>\n",
       "      <td>0.440000</td>\n",
       "      <td>4.387545</td>\n",
       "    </tr>\n",
       "    <tr>\n",
       "      <th>1</th>\n",
       "      <td>0.040404</td>\n",
       "      <td>0.134949</td>\n",
       "      <td>0.888485</td>\n",
       "      <td>2.679650</td>\n",
       "    </tr>\n",
       "    <tr>\n",
       "      <th>2</th>\n",
       "      <td>0.080808</td>\n",
       "      <td>0.829899</td>\n",
       "      <td>1.336970</td>\n",
       "      <td>2.968490</td>\n",
       "    </tr>\n",
       "    <tr>\n",
       "      <th>3</th>\n",
       "      <td>0.121212</td>\n",
       "      <td>1.524848</td>\n",
       "      <td>1.785455</td>\n",
       "      <td>3.254065</td>\n",
       "    </tr>\n",
       "    <tr>\n",
       "      <th>4</th>\n",
       "      <td>0.161616</td>\n",
       "      <td>2.219798</td>\n",
       "      <td>2.233939</td>\n",
       "      <td>3.536375</td>\n",
       "    </tr>\n",
       "    <tr>\n",
       "      <th>...</th>\n",
       "      <td>...</td>\n",
       "      <td>...</td>\n",
       "      <td>...</td>\n",
       "      <td>...</td>\n",
       "    </tr>\n",
       "    <tr>\n",
       "      <th>95</th>\n",
       "      <td>3.838384</td>\n",
       "      <td>1.460202</td>\n",
       "      <td>3.046061</td>\n",
       "      <td>-4.440595</td>\n",
       "    </tr>\n",
       "    <tr>\n",
       "      <th>96</th>\n",
       "      <td>3.878788</td>\n",
       "      <td>2.155152</td>\n",
       "      <td>3.494545</td>\n",
       "      <td>-4.458663</td>\n",
       "    </tr>\n",
       "    <tr>\n",
       "      <th>97</th>\n",
       "      <td>3.919192</td>\n",
       "      <td>2.850101</td>\n",
       "      <td>3.943030</td>\n",
       "      <td>-4.479995</td>\n",
       "    </tr>\n",
       "    <tr>\n",
       "      <th>98</th>\n",
       "      <td>3.959596</td>\n",
       "      <td>3.545051</td>\n",
       "      <td>0.391515</td>\n",
       "      <td>-3.304593</td>\n",
       "    </tr>\n",
       "    <tr>\n",
       "      <th>99</th>\n",
       "      <td>4.000000</td>\n",
       "      <td>0.240000</td>\n",
       "      <td>0.840000</td>\n",
       "      <td>-5.332455</td>\n",
       "    </tr>\n",
       "  </tbody>\n",
       "</table>\n",
       "<p>100 rows × 4 columns</p>\n",
       "</div>"
      ],
      "text/plain": [
       "          X1        X2        X3         Y\n",
       "0   0.000000  3.440000  0.440000  4.387545\n",
       "1   0.040404  0.134949  0.888485  2.679650\n",
       "2   0.080808  0.829899  1.336970  2.968490\n",
       "3   0.121212  1.524848  1.785455  3.254065\n",
       "4   0.161616  2.219798  2.233939  3.536375\n",
       "..       ...       ...       ...       ...\n",
       "95  3.838384  1.460202  3.046061 -4.440595\n",
       "96  3.878788  2.155152  3.494545 -4.458663\n",
       "97  3.919192  2.850101  3.943030 -4.479995\n",
       "98  3.959596  3.545051  0.391515 -3.304593\n",
       "99  4.000000  0.240000  0.840000 -5.332455\n",
       "\n",
       "[100 rows x 4 columns]"
      ]
     },
     "execution_count": 79,
     "metadata": {},
     "output_type": "execute_result"
    }
   ],
   "source": [
    "df.head(100)"
   ]
  },
  {
   "cell_type": "code",
   "execution_count": 80,
   "id": "9701a733-f076-4c3a-bee4-bf430881108d",
   "metadata": {},
   "outputs": [
    {
     "data": {
      "text/plain": [
       "100"
      ]
     },
     "execution_count": 80,
     "metadata": {},
     "output_type": "execute_result"
    }
   ],
   "source": [
    "len(df)"
   ]
  },
  {
   "cell_type": "code",
   "execution_count": 81,
   "id": "905a357a-ace9-4d43-9e2f-8a36ffb61b98",
   "metadata": {},
   "outputs": [
    {
     "name": "stdout",
     "output_type": "stream",
     "text": [
      "x = [0.44       0.88848485 1.3369697  1.78545454 2.23393939 2.68242424\n",
      " 3.13090909 3.57939394 0.02787879 0.47636364 0.92484849 1.37333333\n",
      " 1.82181818 2.27030303 2.71878788 3.16727273 3.61575758 0.06424242\n",
      " 0.51272727 0.96121212 1.40969697 1.85818182 2.30666667 2.75515152\n",
      " 3.20363636 3.65212121 0.10060606 0.54909091 0.99757576 1.44606061\n",
      " 1.89454546 2.3430303  2.79151515 3.24       3.68848485 0.1369697\n",
      " 0.58545455 1.03393939 1.48242424 1.93090909 2.37939394 2.82787879\n",
      " 3.27636364 3.72484848 0.17333333 0.62181818 1.07030303 1.51878788\n",
      " 1.96727273 2.41575758 2.86424242 3.31272727 3.76121212 0.20969697\n",
      " 0.65818182 1.10666667 1.55515151 2.00363636 2.45212121 2.90060606\n",
      " 3.34909091 3.79757576 0.24606061 0.69454545 1.1430303  1.59151515\n",
      " 2.04       2.48848485 2.9369697  3.38545454 3.83393939 0.28242424\n",
      " 0.73090909 1.17939394 1.62787879 2.07636364 2.52484849 2.97333333\n",
      " 3.42181818 3.87030303 0.31878788 0.76727273 1.21575758 1.66424242\n",
      " 2.11272727 2.56121212 3.00969697 3.45818182 3.90666667 0.35515151\n",
      " 0.80363636 1.25212121 1.70060606 2.14909091 2.59757576 3.04606061\n",
      " 3.49454545 3.9430303  0.39151515 0.84      ]\n",
      "y = [ 4.38754501  2.6796499   2.96848981  3.25406475  3.53637472  3.81541972\n",
      "  4.09119974  2.36371479  3.83296487  4.09894997  4.3616701   4.62112526\n",
      "  4.87731544  3.13024065  3.37990089  3.62629616  3.86942645  5.30929177\n",
      "  5.54589212  3.77922749  4.00929789  4.23610332  4.45964378  4.67991926\n",
      "  2.89692977  3.1106753   4.52115587  4.72837146  4.93232208  5.13300772\n",
      "  3.33042839  3.52458409  3.71547481  3.90310057  4.08746135  5.46855715\n",
      "  3.64638799  3.82095385  3.99225473  4.16029065  4.32506159  4.48656756\n",
      "  2.64480856  2.79978458  4.15149563  4.29994171  4.44512281  2.58703894\n",
      "  2.7256901   2.86107628  2.99319749  3.12205374  3.247645    2.56997129\n",
      "  2.68903261  2.80482896  2.91736034  3.02662674  3.13262817  1.23536462\n",
      "  1.3348361   1.43104261  2.72398415  2.81366071  2.9000723   0.98321892\n",
      "  1.06310057  1.13971724  1.21306894  1.28315566 -0.65002258  0.6135342\n",
      "  0.673826    0.73085284  0.7846147   0.83511159 -1.1176565  -1.07368956\n",
      " -1.03298759 -0.99555059  0.23862143  0.26952848 -1.70282944 -1.67845234\n",
      " -1.6573402  -1.63949305 -1.62491086 -1.61359365 -3.60554141 -2.40075414\n",
      " -2.39923185 -2.40097453 -2.40598218 -4.4142548  -4.4257924  -4.44059497\n",
      " -4.45866252 -4.47999504 -3.30459253 -5.33245499]\n",
      "m = 100\n"
     ]
    },
    {
     "data": {
      "text/plain": [
       "100"
      ]
     },
     "execution_count": 81,
     "metadata": {},
     "output_type": "execute_result"
    }
   ],
   "source": [
    "x = df.values[:, 2]\n",
    "y = df.values[:, 3]\n",
    "m = len(y)\n",
    "print('x =', x[: 100])\n",
    "print('y =', y[: 100])\n",
    "print('m =', m)\n",
    "len(x)"
   ]
  },
  {
   "cell_type": "code",
   "execution_count": 82,
   "id": "489228ae-db31-4f02-b914-b2215ebb824b",
   "metadata": {},
   "outputs": [
    {
     "data": {
      "text/plain": [
       "Text(0.5, 1.0, 'Scatter Plot of Training Data')"
      ]
     },
     "execution_count": 82,
     "metadata": {},
     "output_type": "execute_result"
    },
    {
     "data": {
      "image/png": "[encoded data removed]",
      "text/plain": [
       "<Figure size 720x432 with 1 Axes>"
      ]
     },
     "metadata": {
      "needs_background": "light"
     },
     "output_type": "display_data"
    }
   ],
   "source": [
    "plt.scatter(x, y, color = 'purple', marker = '*')\n",
    "plt.grid()\n",
    "plt.rcParams[\"figure.figsize\"] = (10,6)\n",
    "plt.xlabel('Explanatory Variable_x')\n",
    "plt.ylabel('Target Values_y')\n",
    "plt.title('Scatter Plot of Training Data')"
   ]
  },
  {
   "cell_type": "code",
   "execution_count": 83,
   "id": "af092f4a-ae5f-4e1d-98cd-fdd991a0bd32",
   "metadata": {},
   "outputs": [
    {
     "data": {
      "text/plain": [
       "array([[1.],\n",
       "       [1.],\n",
       "       [1.],\n",
       "       [1.],\n",
       "       [1.]])"
      ]
     },
     "execution_count": 83,
     "metadata": {},
     "output_type": "execute_result"
    }
   ],
   "source": [
    "x_0 = np.ones((m, 1))\n",
    "x_0[: 5]"
   ]
  },
  {
   "cell_type": "code",
   "execution_count": 84,
   "id": "2f3ad802-0d13-4c13-adad-d52a40aa1ac8",
   "metadata": {},
   "outputs": [
    {
     "data": {
      "text/plain": [
       "array([[0.44      ],\n",
       "       [0.88848485],\n",
       "       [1.3369697 ],\n",
       "       [1.78545454],\n",
       "       [2.23393939]])"
      ]
     },
     "execution_count": 84,
     "metadata": {},
     "output_type": "execute_result"
    }
   ],
   "source": [
    "x_1 = x.reshape(m, 1)\n",
    "x_1[: 5]"
   ]
  },
  {
   "cell_type": "code",
   "execution_count": 85,
   "id": "c1a7cd7c-b48d-4f01-9ff1-80a30a79d657",
   "metadata": {},
   "outputs": [
    {
     "data": {
      "text/plain": [
       "array([[1.        , 0.44      ],\n",
       "       [1.        , 0.88848485],\n",
       "       [1.        , 1.3369697 ],\n",
       "       [1.        , 1.78545454],\n",
       "       [1.        , 2.23393939]])"
      ]
     },
     "execution_count": 85,
     "metadata": {},
     "output_type": "execute_result"
    }
   ],
   "source": [
    "x = np.hstack((x_0, x_1))\n",
    "x[: 5]"
   ]
  },
  {
   "cell_type": "code",
   "execution_count": 86,
   "id": "52c6c674-c599-499d-95ae-1718f3299040",
   "metadata": {},
   "outputs": [
    {
     "data": {
      "text/plain": [
       "array([[0.],\n",
       "       [0.]])"
      ]
     },
     "execution_count": 86,
     "metadata": {},
     "output_type": "execute_result"
    }
   ],
   "source": [
    "theta = np.zeros((2, 1))\n",
    "theta"
   ]
  },
  {
   "cell_type": "code",
   "execution_count": 87,
   "id": "77ada08c-fb4e-4c48-83a7-ea9916425cbb",
   "metadata": {},
   "outputs": [],
   "source": [
    "def compute_loss(x, y, theta):\n",
    "    \n",
    "    predictions = x.dot(theta)\n",
    "    errors = np.subtract(predictions, y)\n",
    "    sqrErrors = np.square(errors)\n",
    "    J = 1 / (2 * m) * np.sum(sqrErrors)\n",
    "\n",
    "\n",
    "    return J"
   ]
  },
  {
   "cell_type": "code",
   "execution_count": 88,
   "id": "7916987d-7e3f-4bc8-af77-a0d0a2058b12",
   "metadata": {},
   "outputs": [
    {
     "name": "stdout",
     "output_type": "stream",
     "text": [
      "The loss for given values of theta_0 and theta_1 = 552.4438459196241\n"
     ]
    }
   ],
   "source": [
    "loss = compute_loss(x, y, theta)\n",
    "print('The loss for given values of theta_0 and theta_1 =', loss)"
   ]
  },
  {
   "cell_type": "code",
   "execution_count": 89,
   "id": "9a0062e5-9d72-44ea-8ebf-3f178febadc5",
   "metadata": {},
   "outputs": [],
   "source": [
    "def gradient_descent(x, y, theta, alpha, iterations): \n",
    "   \n",
    "    loss_history = np.zeros(iterations)\n",
    "    \n",
    "    for i in range(iterations):\n",
    "        predictions = x.dot(theta)\n",
    "        errors = np.subtract(predictions, y)\n",
    "        sum_delta = (alpha / m) * x.transpose().dot(errors);\n",
    "        theta = theta - sum_delta;\n",
    "        loss_history[i] = compute_loss(x, y, theta)\n",
    "        \n",
    "    return theta, loss_history    "
   ]
  },
  {
   "cell_type": "code",
   "execution_count": 110,
   "id": "79999bf6-86b4-439b-b585-930001539aba",
   "metadata": {},
   "outputs": [],
   "source": [
    "theta = [0, 0]\n",
    "iterations = 5000;\n",
    "alpha = 0.01;"
   ]
  },
  {
   "cell_type": "code",
   "execution_count": 111,
   "id": "0b1ec7f0-3d58-4f5b-ac48-79ac8818ad3e",
   "metadata": {},
   "outputs": [
    {
     "name": "stdout",
     "output_type": "stream",
     "text": [
      "Final value of theta = [ 2.87138764 -0.52046925]\n",
      "loss_history = [5.40768785 5.30397076 5.21178297 ... 3.62945112 3.62945112 3.62945112]\n"
     ]
    }
   ],
   "source": [
    "theta, loss_history = gradient_descent (x, y, theta, alpha, iterations)\n",
    "print('Final value of theta =', theta)\n",
    "print('loss_history =', loss_history)"
   ]
  },
  {
   "cell_type": "code",
   "execution_count": 112,
   "id": "5873caf0-317d-4020-8090-a64c2763ac97",
   "metadata": {},
   "outputs": [
    {
     "data": {
      "text/plain": [
       "<matplotlib.legend.Legend at 0x1c2d6342970>"
      ]
     },
     "execution_count": 112,
     "metadata": {},
     "output_type": "execute_result"
    },
    {
     "data": {
      "image/png": "[encoded data removed]",
      "text/plain": [
       "<Figure size 720x432 with 1 Axes>"
      ]
     },
     "metadata": {
      "needs_background": "light"
     },
     "output_type": "display_data"
    }
   ],
   "source": [
    "plt.scatter(x[:, 1], y, color = 'purple', marker = '*', label = 'Training Data')\n",
    "plt.plot(x[:, 1], x.dot(theta), color = 'green', label = 'Linear Regression')\n",
    "\n",
    "plt.rcParams[\"figure.figsize\"] = (10, 6)\n",
    "plt.grid()\n",
    "plt.xlabel('Data Set values')\n",
    "plt.ylabel('Target values')\n",
    "plt.title('Linear Regression Fit')\n",
    "plt.legend()"
   ]
  },
  {
   "cell_type": "code",
   "execution_count": 113,
   "id": "4c339eaf-e538-4b85-88ef-1a8b6703f7d9",
   "metadata": {},
   "outputs": [
    {
     "data": {
      "text/plain": [
       "Text(0.5, 1.0, 'Convergence of gradient descent')"
      ]
     },
     "execution_count": 113,
     "metadata": {},
     "output_type": "execute_result"
    },
    {
     "data": {
      "image/png": "[encoded data removed]",
      "text/plain": [
       "<Figure size 720x432 with 1 Axes>"
      ]
     },
     "metadata": {
      "needs_background": "light"
     },
     "output_type": "display_data"
    }
   ],
   "source": [
    "plt.plot(range(1, iterations + 1), loss_history, color = 'blue')\n",
    "plt.rcParams[\"figure.figsize\"] = (10, 6)\n",
    "plt.grid()\n",
    "plt.xlabel('number of iterations')\n",
    "plt.ylabel('loss (J)')\n",
    "plt.title('Convergence of gradient descent')"
   ]
  },
  {
   "cell_type": "code",
   "execution_count": null,
   "id": "7044b2c3-51c8-4866-9aae-bad46d0eba23",
   "metadata": {},
   "outputs": [],
   "source": []
  }
 ],
 "metadata": {
  "kernelspec": {
   "display_name": "Python 3 (ipykernel)",
   "language": "python",
   "name": "python3"
  },
  "language_info": {
   "codemirror_mode": {
    "name": "ipython",
    "version": 3
   },
   "file_extension": ".py",
   "mimetype": "text/x-python",
   "name": "python",
   "nbconvert_exporter": "python",
   "pygments_lexer": "ipython3",
   "version": "3.9.12"
  }
 },
 "nbformat": 4,
 "nbformat_minor": 5
}

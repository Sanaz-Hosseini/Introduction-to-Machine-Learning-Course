{
 "cells": [
  {
   "cell_type": "code",
   "execution_count": 32,
   "id": "c6c5fac2-8668-4b7f-8448-8d1763cac19b",
   "metadata": {},
   "outputs": [],
   "source": [
    "# \"Sanaz Hosseini\"- University of North Carolina at Charlotte\n",
    "# Introduction to Machine Learning Class - Instructor: Prof. Hamed Tabkhi\n",
    "# Pytorch & Neural Networks\n",
    "# Homework 5"
   ]
  },
  {
   "cell_type": "code",
   "execution_count": 1,
   "id": "d2227231-44a6-499c-86c0-d7216c449786",
   "metadata": {},
   "outputs": [],
   "source": [
    "%matplotlib inline\n",
    "from matplotlib import pyplot as plt\n",
    "import numpy as np\n",
    "import pandas as pd\n",
    "import torch\n",
    "import torch.optim as optim\n",
    "from sklearn.preprocessing import MinMaxScaler, StandardScaler"
   ]
  },
  {
   "cell_type": "code",
   "execution_count": 2,
   "id": "d9f127de-e3d7-4abe-95d0-d2852184ff5b",
   "metadata": {},
   "outputs": [],
   "source": [
    "df = pd.read_csv('Housing.csv')"
   ]
  },
  {
   "cell_type": "code",
   "execution_count": 3,
   "id": "57ef31bc-29c9-4af4-a89e-2703f0cd3442",
   "metadata": {},
   "outputs": [
    {
     "data": {
      "text/html": [
       "<div>\n",
       "<style scoped>\n",
       "    .dataframe tbody tr th:only-of-type {\n",
       "        vertical-align: middle;\n",
       "    }\n",
       "\n",
       "    .dataframe tbody tr th {\n",
       "        vertical-align: top;\n",
       "    }\n",
       "\n",
       "    .dataframe thead th {\n",
       "        text-align: right;\n",
       "    }\n",
       "</style>\n",
       "<table border=\"1\" class=\"dataframe\">\n",
       "  <thead>\n",
       "    <tr style=\"text-align: right;\">\n",
       "      <th></th>\n",
       "      <th>price</th>\n",
       "      <th>area</th>\n",
       "      <th>bedrooms</th>\n",
       "      <th>bathrooms</th>\n",
       "      <th>stories</th>\n",
       "      <th>mainroad</th>\n",
       "      <th>guestroom</th>\n",
       "      <th>basement</th>\n",
       "      <th>hotwaterheating</th>\n",
       "      <th>airconditioning</th>\n",
       "      <th>parking</th>\n",
       "      <th>prefarea</th>\n",
       "      <th>furnishingstatus</th>\n",
       "    </tr>\n",
       "  </thead>\n",
       "  <tbody>\n",
       "    <tr>\n",
       "      <th>0</th>\n",
       "      <td>13300000</td>\n",
       "      <td>7420</td>\n",
       "      <td>4</td>\n",
       "      <td>2</td>\n",
       "      <td>3</td>\n",
       "      <td>yes</td>\n",
       "      <td>no</td>\n",
       "      <td>no</td>\n",
       "      <td>no</td>\n",
       "      <td>yes</td>\n",
       "      <td>2</td>\n",
       "      <td>yes</td>\n",
       "      <td>furnished</td>\n",
       "    </tr>\n",
       "    <tr>\n",
       "      <th>1</th>\n",
       "      <td>12250000</td>\n",
       "      <td>8960</td>\n",
       "      <td>4</td>\n",
       "      <td>4</td>\n",
       "      <td>4</td>\n",
       "      <td>yes</td>\n",
       "      <td>no</td>\n",
       "      <td>no</td>\n",
       "      <td>no</td>\n",
       "      <td>yes</td>\n",
       "      <td>3</td>\n",
       "      <td>no</td>\n",
       "      <td>furnished</td>\n",
       "    </tr>\n",
       "    <tr>\n",
       "      <th>2</th>\n",
       "      <td>12250000</td>\n",
       "      <td>9960</td>\n",
       "      <td>3</td>\n",
       "      <td>2</td>\n",
       "      <td>2</td>\n",
       "      <td>yes</td>\n",
       "      <td>no</td>\n",
       "      <td>yes</td>\n",
       "      <td>no</td>\n",
       "      <td>no</td>\n",
       "      <td>2</td>\n",
       "      <td>yes</td>\n",
       "      <td>semi-furnished</td>\n",
       "    </tr>\n",
       "    <tr>\n",
       "      <th>3</th>\n",
       "      <td>12215000</td>\n",
       "      <td>7500</td>\n",
       "      <td>4</td>\n",
       "      <td>2</td>\n",
       "      <td>2</td>\n",
       "      <td>yes</td>\n",
       "      <td>no</td>\n",
       "      <td>yes</td>\n",
       "      <td>no</td>\n",
       "      <td>yes</td>\n",
       "      <td>3</td>\n",
       "      <td>yes</td>\n",
       "      <td>furnished</td>\n",
       "    </tr>\n",
       "    <tr>\n",
       "      <th>4</th>\n",
       "      <td>11410000</td>\n",
       "      <td>7420</td>\n",
       "      <td>4</td>\n",
       "      <td>1</td>\n",
       "      <td>2</td>\n",
       "      <td>yes</td>\n",
       "      <td>yes</td>\n",
       "      <td>yes</td>\n",
       "      <td>no</td>\n",
       "      <td>yes</td>\n",
       "      <td>2</td>\n",
       "      <td>no</td>\n",
       "      <td>furnished</td>\n",
       "    </tr>\n",
       "  </tbody>\n",
       "</table>\n",
       "</div>"
      ],
      "text/plain": [
       "      price  area  bedrooms  bathrooms  stories mainroad guestroom basement  \\\n",
       "0  13300000  7420         4          2        3      yes        no       no   \n",
       "1  12250000  8960         4          4        4      yes        no       no   \n",
       "2  12250000  9960         3          2        2      yes        no      yes   \n",
       "3  12215000  7500         4          2        2      yes        no      yes   \n",
       "4  11410000  7420         4          1        2      yes       yes      yes   \n",
       "\n",
       "  hotwaterheating airconditioning  parking prefarea furnishingstatus  \n",
       "0              no             yes        2      yes        furnished  \n",
       "1              no             yes        3       no        furnished  \n",
       "2              no              no        2      yes   semi-furnished  \n",
       "3              no             yes        3      yes        furnished  \n",
       "4              no             yes        2       no        furnished  "
      ]
     },
     "execution_count": 3,
     "metadata": {},
     "output_type": "execute_result"
    }
   ],
   "source": [
    "df.head()"
   ]
  },
  {
   "cell_type": "code",
   "execution_count": 4,
   "id": "61d6609a-9219-4e50-b40f-5116c76dfcd9",
   "metadata": {},
   "outputs": [
    {
     "data": {
      "text/html": [
       "<div>\n",
       "<style scoped>\n",
       "    .dataframe tbody tr th:only-of-type {\n",
       "        vertical-align: middle;\n",
       "    }\n",
       "\n",
       "    .dataframe tbody tr th {\n",
       "        vertical-align: top;\n",
       "    }\n",
       "\n",
       "    .dataframe thead th {\n",
       "        text-align: right;\n",
       "    }\n",
       "</style>\n",
       "<table border=\"1\" class=\"dataframe\">\n",
       "  <thead>\n",
       "    <tr style=\"text-align: right;\">\n",
       "      <th></th>\n",
       "      <th>price</th>\n",
       "      <th>area</th>\n",
       "      <th>bedrooms</th>\n",
       "      <th>bathrooms</th>\n",
       "      <th>stories</th>\n",
       "      <th>parking</th>\n",
       "    </tr>\n",
       "  </thead>\n",
       "  <tbody>\n",
       "    <tr>\n",
       "      <th>0</th>\n",
       "      <td>13300000</td>\n",
       "      <td>7420</td>\n",
       "      <td>4</td>\n",
       "      <td>2</td>\n",
       "      <td>3</td>\n",
       "      <td>2</td>\n",
       "    </tr>\n",
       "    <tr>\n",
       "      <th>1</th>\n",
       "      <td>12250000</td>\n",
       "      <td>8960</td>\n",
       "      <td>4</td>\n",
       "      <td>4</td>\n",
       "      <td>4</td>\n",
       "      <td>3</td>\n",
       "    </tr>\n",
       "    <tr>\n",
       "      <th>2</th>\n",
       "      <td>12250000</td>\n",
       "      <td>9960</td>\n",
       "      <td>3</td>\n",
       "      <td>2</td>\n",
       "      <td>2</td>\n",
       "      <td>2</td>\n",
       "    </tr>\n",
       "    <tr>\n",
       "      <th>3</th>\n",
       "      <td>12215000</td>\n",
       "      <td>7500</td>\n",
       "      <td>4</td>\n",
       "      <td>2</td>\n",
       "      <td>2</td>\n",
       "      <td>3</td>\n",
       "    </tr>\n",
       "    <tr>\n",
       "      <th>4</th>\n",
       "      <td>11410000</td>\n",
       "      <td>7420</td>\n",
       "      <td>4</td>\n",
       "      <td>1</td>\n",
       "      <td>2</td>\n",
       "      <td>2</td>\n",
       "    </tr>\n",
       "  </tbody>\n",
       "</table>\n",
       "</div>"
      ],
      "text/plain": [
       "      price  area  bedrooms  bathrooms  stories  parking\n",
       "0  13300000  7420         4          2        3        2\n",
       "1  12250000  8960         4          4        4        3\n",
       "2  12250000  9960         3          2        2        2\n",
       "3  12215000  7500         4          2        2        3\n",
       "4  11410000  7420         4          1        2        2"
      ]
     },
     "execution_count": 4,
     "metadata": {},
     "output_type": "execute_result"
    }
   ],
   "source": [
    "num_vars = ['price', 'area', 'bedrooms', 'bathrooms', 'stories', 'parking']\n",
    "df_new = df[num_vars]\n",
    "df_new.head()"
   ]
  },
  {
   "cell_type": "code",
   "execution_count": 5,
   "id": "a6314e6f-b41f-48fb-8a8f-7e6f41c23308",
   "metadata": {},
   "outputs": [
    {
     "data": {
      "text/plain": [
       "(545, 6)"
      ]
     },
     "execution_count": 5,
     "metadata": {},
     "output_type": "execute_result"
    }
   ],
   "source": [
    "df_new.shape"
   ]
  },
  {
   "cell_type": "code",
   "execution_count": 6,
   "id": "68c441e2-db89-45dc-b141-fc4d544733dc",
   "metadata": {},
   "outputs": [
    {
     "name": "stderr",
     "output_type": "stream",
     "text": [
      "C:\\Users\\Sanaz\\AppData\\Local\\Temp\\ipykernel_2404\\2943118898.py:2: SettingWithCopyWarning: \n",
      "A value is trying to be set on a copy of a slice from a DataFrame.\n",
      "Try using .loc[row_indexer,col_indexer] = value instead\n",
      "\n",
      "See the caveats in the documentation: https://pandas.pydata.org/pandas-docs/stable/user_guide/indexing.html#returning-a-view-versus-a-copy\n",
      "  df_new[num_vars] = scaler.fit_transform(df_new[num_vars])\n"
     ]
    },
    {
     "data": {
      "text/html": [
       "<div>\n",
       "<style scoped>\n",
       "    .dataframe tbody tr th:only-of-type {\n",
       "        vertical-align: middle;\n",
       "    }\n",
       "\n",
       "    .dataframe tbody tr th {\n",
       "        vertical-align: top;\n",
       "    }\n",
       "\n",
       "    .dataframe thead th {\n",
       "        text-align: right;\n",
       "    }\n",
       "</style>\n",
       "<table border=\"1\" class=\"dataframe\">\n",
       "  <thead>\n",
       "    <tr style=\"text-align: right;\">\n",
       "      <th></th>\n",
       "      <th>price</th>\n",
       "      <th>area</th>\n",
       "      <th>bedrooms</th>\n",
       "      <th>bathrooms</th>\n",
       "      <th>stories</th>\n",
       "      <th>parking</th>\n",
       "    </tr>\n",
       "  </thead>\n",
       "  <tbody>\n",
       "    <tr>\n",
       "      <th>0</th>\n",
       "      <td>1.000000</td>\n",
       "      <td>0.396564</td>\n",
       "      <td>0.6</td>\n",
       "      <td>0.333333</td>\n",
       "      <td>0.666667</td>\n",
       "      <td>0.666667</td>\n",
       "    </tr>\n",
       "    <tr>\n",
       "      <th>1</th>\n",
       "      <td>0.909091</td>\n",
       "      <td>0.502405</td>\n",
       "      <td>0.6</td>\n",
       "      <td>1.000000</td>\n",
       "      <td>1.000000</td>\n",
       "      <td>1.000000</td>\n",
       "    </tr>\n",
       "    <tr>\n",
       "      <th>2</th>\n",
       "      <td>0.909091</td>\n",
       "      <td>0.571134</td>\n",
       "      <td>0.4</td>\n",
       "      <td>0.333333</td>\n",
       "      <td>0.333333</td>\n",
       "      <td>0.666667</td>\n",
       "    </tr>\n",
       "    <tr>\n",
       "      <th>3</th>\n",
       "      <td>0.906061</td>\n",
       "      <td>0.402062</td>\n",
       "      <td>0.6</td>\n",
       "      <td>0.333333</td>\n",
       "      <td>0.333333</td>\n",
       "      <td>1.000000</td>\n",
       "    </tr>\n",
       "    <tr>\n",
       "      <th>4</th>\n",
       "      <td>0.836364</td>\n",
       "      <td>0.396564</td>\n",
       "      <td>0.6</td>\n",
       "      <td>0.000000</td>\n",
       "      <td>0.333333</td>\n",
       "      <td>0.666667</td>\n",
       "    </tr>\n",
       "  </tbody>\n",
       "</table>\n",
       "</div>"
      ],
      "text/plain": [
       "      price      area  bedrooms  bathrooms   stories   parking\n",
       "0  1.000000  0.396564       0.6   0.333333  0.666667  0.666667\n",
       "1  0.909091  0.502405       0.6   1.000000  1.000000  1.000000\n",
       "2  0.909091  0.571134       0.4   0.333333  0.333333  0.666667\n",
       "3  0.906061  0.402062       0.6   0.333333  0.333333  1.000000\n",
       "4  0.836364  0.396564       0.6   0.000000  0.333333  0.666667"
      ]
     },
     "execution_count": 6,
     "metadata": {},
     "output_type": "execute_result"
    }
   ],
   "source": [
    "scaler = MinMaxScaler()\n",
    "df_new[num_vars] = scaler.fit_transform(df_new[num_vars])\n",
    "df_new.head()"
   ]
  },
  {
   "cell_type": "code",
   "execution_count": 7,
   "id": "9146eeca-a371-490c-a38f-4344cb496eab",
   "metadata": {},
   "outputs": [],
   "source": [
    "X = df_new.iloc[:, 1:6].values\n",
    "Y = df_new.iloc[:, 0].values"
   ]
  },
  {
   "cell_type": "code",
   "execution_count": 8,
   "id": "416c507c-74db-419f-908e-a65cdca7ca43",
   "metadata": {},
   "outputs": [],
   "source": [
    "X = torch.tensor(X)\n",
    "Y = torch.tensor(Y)"
   ]
  },
  {
   "cell_type": "code",
   "execution_count": 9,
   "id": "2d184e37-bfb4-4b6a-b52d-66f3629b0e46",
   "metadata": {},
   "outputs": [],
   "source": [
    "def model(X1, X2, X3, X4, X5, W1, W2, W3, W4, W5, B):\n",
    "    return W5*X5 + W4*X4 + W3*X3 + W2*X2 + W1*X1 + B"
   ]
  },
  {
   "cell_type": "code",
   "execution_count": 10,
   "id": "aa44ed80-80c8-440c-9dfe-d77fc6db2462",
   "metadata": {},
   "outputs": [],
   "source": [
    "def loss_fn(Y_p, Y):\n",
    "    squared_diffs = (Y_p - Y)**2\n",
    "    return squared_diffs.mean()"
   ]
  },
  {
   "cell_type": "code",
   "execution_count": 11,
   "id": "c9a92967-5349-42d6-8f44-38832db7729a",
   "metadata": {
    "tags": []
   },
   "outputs": [],
   "source": [
    "W1 = torch.ones(())\n",
    "W2 = torch.ones(())\n",
    "W3 = torch.ones(())\n",
    "W4 = torch.ones(())\n",
    "W5 = torch.ones(())\n",
    "B = torch.zeros(())"
   ]
  },
  {
   "cell_type": "code",
   "execution_count": 12,
   "id": "27016ae0-a6c7-4e84-9d64-41c44c8c867c",
   "metadata": {},
   "outputs": [],
   "source": [
    "n_samples = X.shape[0]\n",
    "n_val = int(0.2 * n_samples)\n",
    "\n",
    "shuffled_indices = torch.randperm(n_samples)\n",
    "\n",
    "train_indices = shuffled_indices[:-n_val]\n",
    "val_indices = shuffled_indices[-n_val:]"
   ]
  },
  {
   "cell_type": "code",
   "execution_count": 13,
   "id": "a6c32cf9-1ad0-449d-b8d4-d75579d5526d",
   "metadata": {},
   "outputs": [],
   "source": [
    "train_X = X[train_indices]\n",
    "train_Y = Y[train_indices]\n",
    "\n",
    "val_X = X[val_indices]\n",
    "val_Y = Y[val_indices]"
   ]
  },
  {
   "cell_type": "code",
   "execution_count": 14,
   "id": "e3c785c5-dd53-4237-93c9-1764dc74b22e",
   "metadata": {},
   "outputs": [
    {
     "data": {
      "text/plain": [
       "torch.Size([436, 5])"
      ]
     },
     "execution_count": 14,
     "metadata": {},
     "output_type": "execute_result"
    }
   ],
   "source": [
    "train_X.size()"
   ]
  },
  {
   "cell_type": "code",
   "execution_count": 15,
   "id": "f1a86b2a-d241-4607-b064-d0c3ee4438a2",
   "metadata": {},
   "outputs": [],
   "source": [
    "def training_loop(n_epochs, optimizer, params, train_X, val_X, train_Y, val_Y):\n",
    "    \n",
    "    for epoch in range(1, n_epochs + 1):\n",
    "        train_Y_p = model(train_X[:, 0], train_X[:, 1], train_X[:, 2], train_X[:, 3], train_X[:, 4], *params) \n",
    "        train_loss = loss_fn(train_Y_p, train_Y)\n",
    "                             \n",
    "        val_Y_p = model(val_X[:, 0], val_X[:, 1], val_X[:, 2], val_X[:, 3], val_X[:, 4], *params) \n",
    "        val_loss = loss_fn(val_Y_p, val_Y)\n",
    "        \n",
    "        optimizer.zero_grad()\n",
    "        train_loss.backward() \n",
    "        optimizer.step()\n",
    "\n",
    "        if epoch % 500 == 0:\n",
    "            print(f\"Epoch {epoch}, Training loss {train_loss.item():.4f},\"\n",
    "                  f\" Validation loss {val_loss.item():.4f}\")\n",
    "    return params"
   ]
  },
  {
   "cell_type": "markdown",
   "id": "81318de1-eb19-41c9-9834-05bf76d17909",
   "metadata": {},
   "source": [
    "# Training using Learning Rate = 0.1 and Optimizer = SGD : "
   ]
  },
  {
   "cell_type": "code",
   "execution_count": 17,
   "id": "c64d26cf-a28b-4d95-89a1-8edaf48cec8d",
   "metadata": {},
   "outputs": [
    {
     "name": "stdout",
     "output_type": "stream",
     "text": [
      "Epoch 500, Training loss 0.0126, Validation loss 0.0084\n",
      "Epoch 1000, Training loss 0.0124, Validation loss 0.0082\n",
      "Epoch 1500, Training loss 0.0123, Validation loss 0.0082\n",
      "Epoch 2000, Training loss 0.0123, Validation loss 0.0082\n",
      "Epoch 2500, Training loss 0.0123, Validation loss 0.0082\n",
      "Epoch 3000, Training loss 0.0123, Validation loss 0.0082\n",
      "Epoch 3500, Training loss 0.0123, Validation loss 0.0082\n",
      "Epoch 4000, Training loss 0.0123, Validation loss 0.0082\n",
      "Epoch 4500, Training loss 0.0123, Validation loss 0.0082\n",
      "Epoch 5000, Training loss 0.0123, Validation loss 0.0082\n"
     ]
    },
    {
     "data": {
      "text/plain": [
       "tensor([0.4299, 0.0736, 0.2643, 0.1371, 0.0974, 0.0447], requires_grad=True)"
      ]
     },
     "execution_count": 17,
     "metadata": {},
     "output_type": "execute_result"
    }
   ],
   "source": [
    "params = torch.tensor([1.0, 1.0, 1.0, 1.0, 1.0, 0.0], requires_grad=True)\n",
    "learning_rate = 1e-1\n",
    "optimizer = optim.SGD([params], lr=learning_rate)\n",
    "\n",
    "training_loop(\n",
    "    n_epochs = 5000, \n",
    "    optimizer = optimizer,\n",
    "    params = params,\n",
    "    train_X = train_X,\n",
    "    val_X = val_X,\n",
    "    train_Y = train_Y,\n",
    "    val_Y = val_Y)"
   ]
  },
  {
   "cell_type": "markdown",
   "id": "7e0269af-1626-4d6d-9a85-8f3b9f774914",
   "metadata": {},
   "source": [
    "# Training using Learning Rate = 0.1 and Optimizer = Adam : "
   ]
  },
  {
   "cell_type": "code",
   "execution_count": 19,
   "id": "48e43416-6c4d-4e8e-87f7-177c359b1c90",
   "metadata": {},
   "outputs": [
    {
     "name": "stdout",
     "output_type": "stream",
     "text": [
      "Epoch 500, Training loss 0.0123, Validation loss 0.0082\n",
      "Epoch 1000, Training loss 0.0123, Validation loss 0.0082\n",
      "Epoch 1500, Training loss 0.0123, Validation loss 0.0082\n",
      "Epoch 2000, Training loss 0.0123, Validation loss 0.0082\n",
      "Epoch 2500, Training loss 0.0123, Validation loss 0.0082\n",
      "Epoch 3000, Training loss 0.0123, Validation loss 0.0082\n",
      "Epoch 3500, Training loss 0.0123, Validation loss 0.0082\n",
      "Epoch 4000, Training loss 0.0123, Validation loss 0.0082\n",
      "Epoch 4500, Training loss 0.0123, Validation loss 0.0082\n",
      "Epoch 5000, Training loss 0.0123, Validation loss 0.0082\n"
     ]
    },
    {
     "data": {
      "text/plain": [
       "tensor([0.4299, 0.0736, 0.2643, 0.1371, 0.0974, 0.0447], requires_grad=True)"
      ]
     },
     "execution_count": 19,
     "metadata": {},
     "output_type": "execute_result"
    }
   ],
   "source": [
    "params = torch.tensor([1.0, 1.0, 1.0, 1.0, 1.0, 0.0], requires_grad=True)\n",
    "learning_rate = 1e-1\n",
    "optimizer = optim.Adam([params], lr=learning_rate)\n",
    "\n",
    "training_loop(\n",
    "    n_epochs = 5000, \n",
    "    optimizer = optimizer,\n",
    "    params = params,\n",
    "    train_X = train_X,\n",
    "    val_X = val_X,\n",
    "    train_Y = train_Y,\n",
    "    val_Y = val_Y)"
   ]
  },
  {
   "cell_type": "markdown",
   "id": "46bad39a-a315-4489-bed2-8051966edcc8",
   "metadata": {},
   "source": [
    "# Training using Learning Rate = 0.01 and Optimizer = SGD : "
   ]
  },
  {
   "cell_type": "code",
   "execution_count": 21,
   "id": "144f9d7f-841f-4b05-965b-f1b6fbc8c797",
   "metadata": {},
   "outputs": [
    {
     "name": "stdout",
     "output_type": "stream",
     "text": [
      "Epoch 500, Training loss 0.0503, Validation loss 0.0349\n",
      "Epoch 1000, Training loss 0.0231, Validation loss 0.0142\n",
      "Epoch 1500, Training loss 0.0167, Validation loss 0.0101\n",
      "Epoch 2000, Training loss 0.0147, Validation loss 0.0092\n",
      "Epoch 2500, Training loss 0.0138, Validation loss 0.0089\n",
      "Epoch 3000, Training loss 0.0133, Validation loss 0.0087\n",
      "Epoch 3500, Training loss 0.0130, Validation loss 0.0086\n",
      "Epoch 4000, Training loss 0.0128, Validation loss 0.0085\n",
      "Epoch 4500, Training loss 0.0127, Validation loss 0.0085\n",
      "Epoch 5000, Training loss 0.0126, Validation loss 0.0084\n"
     ]
    },
    {
     "data": {
      "text/plain": [
       "tensor([0.4682, 0.1778, 0.2504, 0.1149, 0.0841, 0.0042], requires_grad=True)"
      ]
     },
     "execution_count": 21,
     "metadata": {},
     "output_type": "execute_result"
    }
   ],
   "source": [
    "params = torch.tensor([1.0, 1.0, 1.0, 1.0, 1.0, 0.0], requires_grad=True)\n",
    "learning_rate = 1e-2\n",
    "optimizer = optim.SGD([params], lr=learning_rate)\n",
    "\n",
    "training_loop(\n",
    "    n_epochs = 5000, \n",
    "    optimizer = optimizer,\n",
    "    params = params,\n",
    "    train_X = train_X,\n",
    "    val_X = val_X,\n",
    "    train_Y = train_Y,\n",
    "    val_Y = val_Y)"
   ]
  },
  {
   "cell_type": "markdown",
   "id": "4f5610ee-ec60-4c58-95bf-f08b683cfa54",
   "metadata": {},
   "source": [
    "# Training using Learning Rate = 0.01 and Optimizer = Adam : "
   ]
  },
  {
   "cell_type": "code",
   "execution_count": 23,
   "id": "b0925103-9659-44f0-9626-76814482b027",
   "metadata": {},
   "outputs": [
    {
     "name": "stdout",
     "output_type": "stream",
     "text": [
      "Epoch 500, Training loss 0.0144, Validation loss 0.0104\n",
      "Epoch 1000, Training loss 0.0125, Validation loss 0.0084\n",
      "Epoch 1500, Training loss 0.0123, Validation loss 0.0082\n",
      "Epoch 2000, Training loss 0.0123, Validation loss 0.0082\n",
      "Epoch 2500, Training loss 0.0123, Validation loss 0.0082\n",
      "Epoch 3000, Training loss 0.0123, Validation loss 0.0082\n",
      "Epoch 3500, Training loss 0.0123, Validation loss 0.0082\n",
      "Epoch 4000, Training loss 0.0123, Validation loss 0.0082\n",
      "Epoch 4500, Training loss 0.0123, Validation loss 0.0082\n",
      "Epoch 5000, Training loss 0.0123, Validation loss 0.0082\n"
     ]
    },
    {
     "data": {
      "text/plain": [
       "tensor([0.4299, 0.0736, 0.2643, 0.1371, 0.0974, 0.0447], requires_grad=True)"
      ]
     },
     "execution_count": 23,
     "metadata": {},
     "output_type": "execute_result"
    }
   ],
   "source": [
    "params = torch.tensor([1.0, 1.0, 1.0, 1.0, 1.0, 0.0], requires_grad=True)\n",
    "learning_rate = 1e-2\n",
    "optimizer = optim.Adam([params], lr=learning_rate)\n",
    "\n",
    "training_loop(\n",
    "    n_epochs = 5000, \n",
    "    optimizer = optimizer,\n",
    "    params = params,\n",
    "    train_X = train_X,\n",
    "    val_X = val_X,\n",
    "    train_Y = train_Y,\n",
    "    val_Y = val_Y)"
   ]
  },
  {
   "cell_type": "markdown",
   "id": "2aea584a-8d0d-4718-95de-aec26e73d57a",
   "metadata": {},
   "source": [
    "# Training using Learning Rate = 0.001 and Optimizer = SGD : "
   ]
  },
  {
   "cell_type": "code",
   "execution_count": 25,
   "id": "a9e1e080-e7b3-43f0-b1ba-17180f1dfcca",
   "metadata": {},
   "outputs": [
    {
     "name": "stdout",
     "output_type": "stream",
     "text": [
      "Epoch 500, Training loss 0.2282, Validation loss 0.1348\n",
      "Epoch 1000, Training loss 0.1416, Validation loss 0.0973\n",
      "Epoch 1500, Training loss 0.1196, Validation loss 0.0881\n",
      "Epoch 2000, Training loss 0.1041, Validation loss 0.0776\n",
      "Epoch 2500, Training loss 0.0912, Validation loss 0.0676\n",
      "Epoch 3000, Training loss 0.0802, Validation loss 0.0587\n",
      "Epoch 3500, Training loss 0.0708, Validation loss 0.0512\n",
      "Epoch 4000, Training loss 0.0628, Validation loss 0.0448\n",
      "Epoch 4500, Training loss 0.0560, Validation loss 0.0394\n",
      "Epoch 5000, Training loss 0.0502, Validation loss 0.0348\n"
     ]
    },
    {
     "data": {
      "text/plain": [
       "tensor([ 0.6948,  0.5598,  0.6356,  0.3312,  0.3560, -0.3907],\n",
       "       requires_grad=True)"
      ]
     },
     "execution_count": 25,
     "metadata": {},
     "output_type": "execute_result"
    }
   ],
   "source": [
    "params = torch.tensor([1.0, 1.0, 1.0, 1.0, 1.0, 0.0], requires_grad=True)\n",
    "learning_rate = 1e-3\n",
    "optimizer = optim.SGD([params], lr=learning_rate)\n",
    "\n",
    "training_loop(\n",
    "    n_epochs = 5000, \n",
    "    optimizer = optimizer,\n",
    "    params = params,\n",
    "    train_X = train_X,\n",
    "    val_X = val_X,\n",
    "    train_Y = train_Y,\n",
    "    val_Y = val_Y)"
   ]
  },
  {
   "cell_type": "markdown",
   "id": "c8455a4d-105e-41eb-a108-e2b32a2ad4fc",
   "metadata": {},
   "source": [
    "# Training using Learning Rate = 0.001 and Optimizer = Adam : "
   ]
  },
  {
   "cell_type": "code",
   "execution_count": 27,
   "id": "61140f36-7bdd-4f98-85b5-c099ce2cd155",
   "metadata": {},
   "outputs": [
    {
     "name": "stdout",
     "output_type": "stream",
     "text": [
      "Epoch 500, Training loss 0.1364, Validation loss 0.0789\n",
      "Epoch 1000, Training loss 0.0543, Validation loss 0.0395\n",
      "Epoch 1500, Training loss 0.0365, Validation loss 0.0271\n",
      "Epoch 2000, Training loss 0.0248, Validation loss 0.0179\n",
      "Epoch 2500, Training loss 0.0186, Validation loss 0.0133\n",
      "Epoch 3000, Training loss 0.0158, Validation loss 0.0114\n",
      "Epoch 3500, Training loss 0.0145, Validation loss 0.0105\n",
      "Epoch 4000, Training loss 0.0137, Validation loss 0.0097\n",
      "Epoch 4500, Training loss 0.0132, Validation loss 0.0091\n",
      "Epoch 5000, Training loss 0.0128, Validation loss 0.0087\n"
     ]
    },
    {
     "data": {
      "text/plain": [
       "tensor([ 0.4549,  0.2265,  0.2172,  0.1177,  0.0913, -0.0122],\n",
       "       requires_grad=True)"
      ]
     },
     "execution_count": 27,
     "metadata": {},
     "output_type": "execute_result"
    }
   ],
   "source": [
    "params = torch.tensor([1.0, 1.0, 1.0, 1.0, 1.0, 0.0], requires_grad=True)\n",
    "learning_rate = 1e-3\n",
    "optimizer = optim.Adam([params], lr=learning_rate)\n",
    "\n",
    "training_loop(\n",
    "    n_epochs = 5000, \n",
    "    optimizer = optimizer,\n",
    "    params = params,\n",
    "    train_X = train_X,\n",
    "    val_X = val_X,\n",
    "    train_Y = train_Y,\n",
    "    val_Y = val_Y)"
   ]
  },
  {
   "cell_type": "markdown",
   "id": "7e4d18dd-93ea-46d9-a704-8cc750bc1250",
   "metadata": {},
   "source": [
    "# Training using Learning Rate = 0.0001 and Optimizer = SGD : "
   ]
  },
  {
   "cell_type": "code",
   "execution_count": 29,
   "id": "b74b9e19-5faa-48a0-9fe3-055faad22ec8",
   "metadata": {},
   "outputs": [
    {
     "name": "stdout",
     "output_type": "stream",
     "text": [
      "Epoch 500, Training loss 1.0259, Validation loss 0.7296\n",
      "Epoch 1000, Training loss 0.8186, Validation loss 0.5640\n",
      "Epoch 1500, Training loss 0.6609, Validation loss 0.4408\n",
      "Epoch 2000, Training loss 0.5408, Validation loss 0.3495\n",
      "Epoch 2500, Training loss 0.4492, Validation loss 0.2820\n",
      "Epoch 3000, Training loss 0.3792, Validation loss 0.2321\n",
      "Epoch 3500, Training loss 0.3256, Validation loss 0.1955\n",
      "Epoch 4000, Training loss 0.2844, Validation loss 0.1686\n",
      "Epoch 4500, Training loss 0.2527, Validation loss 0.1490\n",
      "Epoch 5000, Training loss 0.2281, Validation loss 0.1348\n"
     ]
    },
    {
     "data": {
      "text/plain": [
       "tensor([ 0.8414,  0.7522,  0.9005,  0.7620,  0.7872, -0.5162],\n",
       "       requires_grad=True)"
      ]
     },
     "execution_count": 29,
     "metadata": {},
     "output_type": "execute_result"
    }
   ],
   "source": [
    "params = torch.tensor([1.0, 1.0, 1.0, 1.0, 1.0, 0.0], requires_grad=True)\n",
    "learning_rate = 1e-4\n",
    "optimizer = optim.SGD([params], lr=learning_rate)\n",
    "\n",
    "training_loop(\n",
    "    n_epochs = 5000, \n",
    "    optimizer = optimizer,\n",
    "    params = params,\n",
    "    train_X = train_X,\n",
    "    val_X = val_X,\n",
    "    train_Y = train_Y,\n",
    "    val_Y = val_Y)"
   ]
  },
  {
   "cell_type": "markdown",
   "id": "fa11981f-83b3-47f5-8dde-14c1018c5c2e",
   "metadata": {},
   "source": [
    "# Training using Learning Rate = 0.0001 and Optimizer = Adam : "
   ]
  },
  {
   "cell_type": "code",
   "execution_count": 31,
   "id": "dfa1f9af-0ac1-4663-81e4-4fe61480ecaa",
   "metadata": {},
   "outputs": [
    {
     "name": "stdout",
     "output_type": "stream",
     "text": [
      "Epoch 500, Training loss 1.0572, Validation loss 0.7621\n",
      "Epoch 1000, Training loss 0.8524, Validation loss 0.6026\n",
      "Epoch 1500, Training loss 0.6794, Validation loss 0.4697\n",
      "Epoch 2000, Training loss 0.5346, Validation loss 0.3600\n",
      "Epoch 2500, Training loss 0.4149, Validation loss 0.2711\n",
      "Epoch 3000, Training loss 0.3177, Validation loss 0.2007\n",
      "Epoch 3500, Training loss 0.2406, Validation loss 0.1466\n",
      "Epoch 4000, Training loss 0.1814, Validation loss 0.1070\n",
      "Epoch 4500, Training loss 0.1377, Validation loss 0.0796\n",
      "Epoch 5000, Training loss 0.1069, Validation loss 0.0622\n"
     ]
    },
    {
     "data": {
      "text/plain": [
       "tensor([ 0.6132,  0.6130,  0.5900,  0.5952,  0.5932, -0.3725],\n",
       "       requires_grad=True)"
      ]
     },
     "execution_count": 31,
     "metadata": {},
     "output_type": "execute_result"
    }
   ],
   "source": [
    "params = torch.tensor([1.0, 1.0, 1.0, 1.0, 1.0, 0.0], requires_grad=True)\n",
    "learning_rate = 1e-4\n",
    "optimizer = optim.Adam([params], lr=learning_rate)\n",
    "\n",
    "training_loop(\n",
    "    n_epochs = 5000, \n",
    "    optimizer = optimizer,\n",
    "    params = params,\n",
    "    train_X = train_X,\n",
    "    val_X = val_X,\n",
    "    train_Y = train_Y,\n",
    "    val_Y = val_Y)"
   ]
  }
 ],
 "metadata": {
  "kernelspec": {
   "display_name": "Python 3 (ipykernel)",
   "language": "python",
   "name": "python3"
  },
  "language_info": {
   "codemirror_mode": {
    "name": "ipython",
    "version": 3
   },
   "file_extension": ".py",
   "mimetype": "text/x-python",
   "name": "python",
   "nbconvert_exporter": "python",
   "pygments_lexer": "ipython3",
   "version": "3.9.12"
  }
 },
 "nbformat": 4,
 "nbformat_minor": 5
}
